{
 "cells": [
  {
   "cell_type": "markdown",
   "id": "dba335f2",
   "metadata": {
    "toc": true
   },
   "source": [
    "<h1>Table of Contents<span class=\"tocSkip\"></span></h1>\n",
    "<div class=\"toc\"><ul class=\"toc-item\"><li><span><a href=\"#A/B-Testing-Project\" data-toc-modified-id=\"A/B-Testing-Project-1\"><span class=\"toc-item-num\">1&nbsp;&nbsp;</span>A/B Testing Project</a></span><ul class=\"toc-item\"><li><ul class=\"toc-item\"><li><span><a href=\"#Technical-description\" data-toc-modified-id=\"Technical-description-1.0.1\"><span class=\"toc-item-num\">1.0.1&nbsp;&nbsp;</span>Technical description</a></span></li><li><span><a href=\"#Description-of-the-data\" data-toc-modified-id=\"Description-of-the-data-1.0.2\"><span class=\"toc-item-num\">1.0.2&nbsp;&nbsp;</span>Description of the data</a></span></li><li><span><a href=\"#The-goals-of-the-study:\" data-toc-modified-id=\"The-goals-of-the-study:-1.0.3\"><span class=\"toc-item-num\">1.0.3&nbsp;&nbsp;</span>The goals of the study:</a></span></li><li><span><a href=\"#Checking-'participants.csv'--data\" data-toc-modified-id=\"Checking-'participants.csv'--data-1.0.4\"><span class=\"toc-item-num\">1.0.4&nbsp;&nbsp;</span>Checking 'participants.csv'  data</a></span></li><li><span><a href=\"#Chaecking-'events.csv'-data\" data-toc-modified-id=\"Chaecking-'events.csv'-data-1.0.5\"><span class=\"toc-item-num\">1.0.5&nbsp;&nbsp;</span>Chaecking 'events.csv' data</a></span></li><li><span><a href=\"#Checking-'new_users.csv'-data\" data-toc-modified-id=\"Checking-'new_users.csv'-data-1.0.6\"><span class=\"toc-item-num\">1.0.6&nbsp;&nbsp;</span>Checking 'new_users.csv' data</a></span><ul class=\"toc-item\"><li><span><a href=\"#Do-types-need-to-be-converted?\" data-toc-modified-id=\"Do-types-need-to-be-converted?-1.0.6.1\"><span class=\"toc-item-num\">1.0.6.1&nbsp;&nbsp;</span>Do types need to be converted?</a></span></li><li><span><a href=\"#Are-there-any-missing-or-duplicate-values?-If-so,-how-would-you-characterize-them?\" data-toc-modified-id=\"Are-there-any-missing-or-duplicate-values?-If-so,-how-would-you-characterize-them?-1.0.6.2\"><span class=\"toc-item-num\">1.0.6.2&nbsp;&nbsp;</span>Are there any missing or duplicate values? If so, how would you characterize them?</a></span></li></ul></li><li><span><a href=\"#How-is-the-number-of-events-distributed-among-days?\" data-toc-modified-id=\"How-is-the-number-of-events-distributed-among-days?-1.0.7\"><span class=\"toc-item-num\">1.0.7&nbsp;&nbsp;</span>How is the number of events distributed among days?</a></span></li><li><span><a href=\"#Conclusion-on-registration-dates:\" data-toc-modified-id=\"Conclusion-on-registration-dates:-1.0.8\"><span class=\"toc-item-num\">1.0.8&nbsp;&nbsp;</span>Conclusion on registration dates:</a></span></li><li><span><a href=\"#Conclusion-on-the-distribution-of-events:\" data-toc-modified-id=\"Conclusion-on-the-distribution-of-events:-1.0.9\"><span class=\"toc-item-num\">1.0.9&nbsp;&nbsp;</span>Conclusion on the distribution of events:</a></span></li><li><span><a href=\"#Cheking-for-users-included-in-both-tests\" data-toc-modified-id=\"Cheking-for-users-included-in-both-tests-1.0.10\"><span class=\"toc-item-num\">1.0.10&nbsp;&nbsp;</span>Cheking for users included in both tests</a></span></li><li><span><a href=\"#Distribution-of-unique-useres-in-A/B-groups:\" data-toc-modified-id=\"Distribution-of-unique-useres-in-A/B-groups:-1.0.11\"><span class=\"toc-item-num\">1.0.11&nbsp;&nbsp;</span>Distribution of unique useres in A/B groups:</a></span></li><li><span><a href=\"#Are-there-users-who-are-present-at-both-groups-A-and-B-in-each-of-the-tests?\" data-toc-modified-id=\"Are-there-users-who-are-present-at-both-groups-A-and-B-in-each-of-the-tests?-1.0.12\"><span class=\"toc-item-num\">1.0.12&nbsp;&nbsp;</span>Are there users who are present at both groups A and B in each of the tests?</a></span></li><li><span><a href=\"#Creating-a-new-dataframe-with-no-cross-participans-in-tests-and-groups:\" data-toc-modified-id=\"Creating-a-new-dataframe-with-no-cross-participans-in-tests-and-groups:-1.0.13\"><span class=\"toc-item-num\">1.0.13&nbsp;&nbsp;</span>Creating a new dataframe with no cross participans in tests and groups:</a></span></li><li><span><a href=\"#Merging-all-dataframes-after-filtering-them:\" data-toc-modified-id=\"Merging-all-dataframes-after-filtering-them:-1.0.14\"><span class=\"toc-item-num\">1.0.14&nbsp;&nbsp;</span>Merging all dataframes after filtering them:</a></span></li><li><span><a href=\"#Checking-events-per-user-on-different-tests-and-groups-:\" data-toc-modified-id=\"Checking-events-per-user-on-different-tests-and-groups-:-1.0.15\"><span class=\"toc-item-num\">1.0.15&nbsp;&nbsp;</span>Checking events per user on different tests and groups :</a></span></li><li><span><a href=\"#Is-the-number-of-events-per-user-distributed-equally-among-the-samples?\" data-toc-modified-id=\"Is-the-number-of-events-per-user-distributed-equally-among-the-samples?-1.0.16\"><span class=\"toc-item-num\">1.0.16&nbsp;&nbsp;</span>Is the number of events per user distributed equally among the samples?</a></span></li><li><span><a href=\"#Conclusions-on-the-distribution-of-events-per-user-in-&quot;Interface&quot;-test-:\" data-toc-modified-id=\"Conclusions-on-the-distribution-of-events-per-user-in-&quot;Interface&quot;-test-:-1.0.17\"><span class=\"toc-item-num\">1.0.17&nbsp;&nbsp;</span>Conclusions on the distribution of events per user in \"Interface\" test :</a></span></li><li><span><a href=\"#Checking-the-distribution-of-events-per-user-in-the-second-test-(recommandation-system):\" data-toc-modified-id=\"Checking-the-distribution-of-events-per-user-in-the-second-test-(recommandation-system):-1.0.18\"><span class=\"toc-item-num\">1.0.18&nbsp;&nbsp;</span>Checking the distribution of events per user in the second test (recommandation system):</a></span></li><li><span><a href=\"#Differences-in-events-per-use-between-groups-in-the-&quot;recommendation-system&quot;-test:\" data-toc-modified-id=\"Differences-in-events-per-use-between-groups-in-the-&quot;recommendation-system&quot;-test:-1.0.19\"><span class=\"toc-item-num\">1.0.19&nbsp;&nbsp;</span>Differences in events per use between groups in the \"recommendation system\" test:</a></span></li><li><span><a href=\"#Aadded-section:-checking-differences-in-cummulative-revenue-and-average-purchase-size--per-test-and-group\" data-toc-modified-id=\"Aadded-section:-checking-differences-in-cummulative-revenue-and-average-purchase-size--per-test-and-group-1.0.20\"><span class=\"toc-item-num\">1.0.20&nbsp;&nbsp;</span>Aadded section: checking differences in cummulative revenue and average purchase size  per test and group</a></span></li><li><span><a href=\"#Note:\" data-toc-modified-id=\"Note:-1.0.21\"><span class=\"toc-item-num\">1.0.21&nbsp;&nbsp;</span>Note:</a></span></li><li><span><a href=\"#Checking-conversion-on-different-tests-and-groups:\" data-toc-modified-id=\"Checking-conversion-on-different-tests-and-groups:-1.0.22\"><span class=\"toc-item-num\">1.0.22&nbsp;&nbsp;</span>Checking conversion on different tests and groups:</a></span></li><li><span><a href=\"#Conclusion-on-conversion-for-the-A-control-group-in-the-recommendation-system-a/b-test\" data-toc-modified-id=\"Conclusion-on-conversion-for-the-A-control-group-in-the-recommendation-system-a/b-test-1.0.23\"><span class=\"toc-item-num\">1.0.23&nbsp;&nbsp;</span>Conclusion on conversion for the A control group in the recommendation system a/b test</a></span></li><li><span><a href=\"#Calculating-the-funell-stats-and-conversion-for-the-test-(B)-group-of-the-recommendation-system-test.\" data-toc-modified-id=\"Calculating-the-funell-stats-and-conversion-for-the-test-(B)-group-of-the-recommendation-system-test.-1.0.24\"><span class=\"toc-item-num\">1.0.24&nbsp;&nbsp;</span>Calculating the funell stats and conversion for the test (B) group of the recommendation system test.</a></span></li><li><span><a href=\"#Plotting-the-funnel:\" data-toc-modified-id=\"Plotting-the-funnel:-1.0.25\"><span class=\"toc-item-num\">1.0.25&nbsp;&nbsp;</span>Plotting the funnel:</a></span></li><li><span><a href=\"#Plotting-the-funnel-for-A/B-test-on-recommendation-system:\" data-toc-modified-id=\"Plotting-the-funnel-for-A/B-test-on-recommendation-system:-1.0.26\"><span class=\"toc-item-num\">1.0.26&nbsp;&nbsp;</span>Plotting the funnel for A/B test on recommendation system:</a></span></li><li><span><a href=\"#Conclusion-on-conversion-for-the-B-test-group-in-the-recommendation-system-a/b-test\" data-toc-modified-id=\"Conclusion-on-conversion-for-the-B-test-group-in-the-recommendation-system-a/b-test-1.0.27\"><span class=\"toc-item-num\">1.0.27&nbsp;&nbsp;</span>Conclusion on conversion for the B test group in the recommendation system a/b test</a></span></li><li><span><a href=\"#Calculating-the-funell-stats-and-conversion-for-the-control-(A)-group-of-the-interface-eu-test.\" data-toc-modified-id=\"Calculating-the-funell-stats-and-conversion-for-the-control-(A)-group-of-the-interface-eu-test.-1.0.28\"><span class=\"toc-item-num\">1.0.28&nbsp;&nbsp;</span>Calculating the funell stats and conversion for the control (A) group of the interface eu test.</a></span></li><li><span><a href=\"#Conclusion-on-conversion-for-the-A-test-group-in-the-interface-EU--a/b-test\" data-toc-modified-id=\"Conclusion-on-conversion-for-the-A-test-group-in-the-interface-EU--a/b-test-1.0.29\"><span class=\"toc-item-num\">1.0.29&nbsp;&nbsp;</span>Conclusion on conversion for the A test group in the interface EU  a/b test</a></span></li><li><span><a href=\"#Calculating-the-funell-stats-and-conversion-for-the-test-(B)-group-of-the-interface-eu-test.\" data-toc-modified-id=\"Calculating-the-funell-stats-and-conversion-for-the-test-(B)-group-of-the-interface-eu-test.-1.0.30\"><span class=\"toc-item-num\">1.0.30&nbsp;&nbsp;</span>Calculating the funell stats and conversion for the test (B) group of the interface eu test.</a></span></li><li><span><a href=\"#Conclusion-on-conversion-for-the-B-test-group-in-the-interface-EU--a/b-test\" data-toc-modified-id=\"Conclusion-on-conversion-for-the-B-test-group-in-the-interface-EU--a/b-test-1.0.31\"><span class=\"toc-item-num\">1.0.31&nbsp;&nbsp;</span>Conclusion on conversion for the B test group in the interface EU  a/b test</a></span></li><li><span><a href=\"#Plotting-the-funnel-for-A/B-test-on-interface-eu:\" data-toc-modified-id=\"Plotting-the-funnel-for-A/B-test-on-interface-eu:-1.0.32\"><span class=\"toc-item-num\">1.0.32&nbsp;&nbsp;</span>Plotting the funnel for A/B test on interface eu:</a></span></li><li><span><a href=\"#Cunclusions-on-funnel:\" data-toc-modified-id=\"Cunclusions-on-funnel:-1.0.33\"><span class=\"toc-item-num\">1.0.33&nbsp;&nbsp;</span>Cunclusions on funnel:</a></span></li><li><span><a href=\"#Performing-a-Z-test-on-overall-conversion-rate\" data-toc-modified-id=\"Performing-a-Z-test-on-overall-conversion-rate-1.0.34\"><span class=\"toc-item-num\">1.0.34&nbsp;&nbsp;</span>Performing a Z test on overall conversion rate</a></span></li></ul></li><li><span><a href=\"#1.-Recommendation-system-z-test:\" data-toc-modified-id=\"1.-Recommendation-system-z-test:-1.1\"><span class=\"toc-item-num\">1.1&nbsp;&nbsp;</span>1. Recommendation system z-test:</a></span><ul class=\"toc-item\"><li><span><a href=\"#Performing-Z-test-on-the-overall-conversion-(purchase/login)-new-recommendation-system-a/b-test:\" data-toc-modified-id=\"Performing-Z-test-on-the-overall-conversion-(purchase/login)-new-recommendation-system-a/b-test:-1.1.1\"><span class=\"toc-item-num\">1.1.1&nbsp;&nbsp;</span>Performing Z-test on the overall conversion (purchase/login) new recommendation system a/b test:</a></span><ul class=\"toc-item\"><li><span><a href=\"#H0:--There-is-no-significant-difference-between-the-ratio-of-purchases-to-login-events-between-groups-A-and-B\" data-toc-modified-id=\"H0:--There-is-no-significant-difference-between-the-ratio-of-purchases-to-login-events-between-groups-A-and-B-1.1.1.1\"><span class=\"toc-item-num\">1.1.1.1&nbsp;&nbsp;</span>H0:  There is no significant difference between the ratio of purchases to login events between groups A and B</a></span></li><li><span><a href=\"#H1:-There-is-a-significant-difference-between-the-ratio-of-purchases-to-login-events-between-groups-A-and-B\" data-toc-modified-id=\"H1:-There-is-a-significant-difference-between-the-ratio-of-purchases-to-login-events-between-groups-A-and-B-1.1.1.2\"><span class=\"toc-item-num\">1.1.1.2&nbsp;&nbsp;</span>H1: There is a significant difference between the ratio of purchases to login events between groups A and B</a></span></li></ul></li></ul></li><li><span><a href=\"#Conclusion-on-statistical-test-for-recommendation-system-test:\" data-toc-modified-id=\"Conclusion-on-statistical-test-for-recommendation-system-test:-1.2\"><span class=\"toc-item-num\">1.2&nbsp;&nbsp;</span>Conclusion on statistical test for recommendation system test:</a></span><ul class=\"toc-item\"><li><span><a href=\"#Checking-significance-of-conversion-between-login-and-all-funnel-stages-in-recommendation-system-test:\" data-toc-modified-id=\"Checking-significance-of-conversion-between-login-and-all-funnel-stages-in-recommendation-system-test:-1.2.1\"><span class=\"toc-item-num\">1.2.1&nbsp;&nbsp;</span>Checking significance of conversion between login and all funnel stages in recommendation system test:</a></span></li><li><span><a href=\"#H0:-for-every-funnel-stage,-there-is-no-significant-difference-between-the-conversion-rate-from-the-login-stage-to-that-stage-between-groups-A-and-B-of-the-recommendation-system-test\" data-toc-modified-id=\"H0:-for-every-funnel-stage,-there-is-no-significant-difference-between-the-conversion-rate-from-the-login-stage-to-that-stage-between-groups-A-and-B-of-the-recommendation-system-test-1.2.2\"><span class=\"toc-item-num\">1.2.2&nbsp;&nbsp;</span>H0: for every funnel stage, there is no significant difference between the conversion rate from the login stage to that stage between groups A and B of the recommendation system test</a></span></li><li><span><a href=\"#H1:-for-every-funnel-stage,-there-is-a-significant-difference-between-the-conversion-ratio-from-login-to-that-stage-between-groups-A-and-B-of-the-recommendation-system-test\" data-toc-modified-id=\"H1:-for-every-funnel-stage,-there-is-a-significant-difference-between-the-conversion-ratio-from-login-to-that-stage-between-groups-A-and-B-of-the-recommendation-system-test-1.2.3\"><span class=\"toc-item-num\">1.2.3&nbsp;&nbsp;</span>H1: for every funnel stage, there is a significant difference between the conversion ratio from login to that stage between groups A and B of the recommendation system test</a></span></li><li><span><a href=\"#conclusion-on-different-funnel-stages-conversion-rate-relative-to-login-in-recommendation-system-test:\" data-toc-modified-id=\"conclusion-on-different-funnel-stages-conversion-rate-relative-to-login-in-recommendation-system-test:-1.2.4\"><span class=\"toc-item-num\">1.2.4&nbsp;&nbsp;</span>conclusion on different funnel stages conversion rate relative to login in recommendation system test:</a></span></li></ul></li><li><span><a href=\"#2.-Interface-EU-Z-test\" data-toc-modified-id=\"2.-Interface-EU-Z-test-1.3\"><span class=\"toc-item-num\">1.3&nbsp;&nbsp;</span>2. Interface EU Z-test</a></span><ul class=\"toc-item\"><li><span><a href=\"#Performing-Z-test-on-the-new-interface-a/b-test-for-login/purchase-proportion:\" data-toc-modified-id=\"Performing-Z-test-on-the-new-interface-a/b-test-for-login/purchase-proportion:-1.3.1\"><span class=\"toc-item-num\">1.3.1&nbsp;&nbsp;</span>Performing Z-test on the new interface a/b test for login/purchase proportion:</a></span><ul class=\"toc-item\"><li><span><a href=\"#H0:--There-is-no-significant-difference-between-the-ratio-of-purchases-to-login-events-between-groups-A-and-B\" data-toc-modified-id=\"H0:--There-is-no-significant-difference-between-the-ratio-of-purchases-to-login-events-between-groups-A-and-B-1.3.1.1\"><span class=\"toc-item-num\">1.3.1.1&nbsp;&nbsp;</span>H0:  There is no significant difference between the ratio of purchases to login events between groups A and B</a></span></li><li><span><a href=\"#H1:-There-is-a-significant-difference-between-the-ratio-of-purchases-to-login-events-between-groups-A-and-B\" data-toc-modified-id=\"H1:-There-is-a-significant-difference-between-the-ratio-of-purchases-to-login-events-between-groups-A-and-B-1.3.1.2\"><span class=\"toc-item-num\">1.3.1.2&nbsp;&nbsp;</span>H1: There is a significant difference between the ratio of purchases to login events between groups A and B</a></span></li></ul></li></ul></li><li><span><a href=\"#Conclusion-on-the-Z-test-for-the-interface-a/b-test:\" data-toc-modified-id=\"Conclusion-on-the-Z-test-for-the-interface-a/b-test:-1.4\"><span class=\"toc-item-num\">1.4&nbsp;&nbsp;</span>Conclusion on the Z-test for the interface a/b test:</a></span><ul class=\"toc-item\"><li><span><a href=\"#Checking-significance-of-conversion-between-login-and-all-funnel-stages-in-interface-EU-test:\" data-toc-modified-id=\"Checking-significance-of-conversion-between-login-and-all-funnel-stages-in-interface-EU-test:-1.4.1\"><span class=\"toc-item-num\">1.4.1&nbsp;&nbsp;</span>Checking significance of conversion between login and all funnel stages in interface EU test:</a></span><ul class=\"toc-item\"><li><span><a href=\"#Turning-to-group-b:\" data-toc-modified-id=\"Turning-to-group-b:-1.4.1.1\"><span class=\"toc-item-num\">1.4.1.1&nbsp;&nbsp;</span>Turning to group b:</a></span></li></ul></li><li><span><a href=\"#H0:-for-every-funnel-stage,-there-is-no-significant-difference-between-the-conversion-rate-from-the-login-stage-to-that-stage-between-groups-A-and-B\" data-toc-modified-id=\"H0:-for-every-funnel-stage,-there-is-no-significant-difference-between-the-conversion-rate-from-the-login-stage-to-that-stage-between-groups-A-and-B-1.4.2\"><span class=\"toc-item-num\">1.4.2&nbsp;&nbsp;</span>H0: for every funnel stage, there is no significant difference between the conversion rate from the login stage to that stage between groups A and B</a></span></li><li><span><a href=\"#H1:-for-every-funnel-stage,-there-is-a-significant-difference-between-the-conversion-ratio-from-login-to-that-stage-between-groups-A-and-B\" data-toc-modified-id=\"H1:-for-every-funnel-stage,-there-is-a-significant-difference-between-the-conversion-ratio-from-login-to-that-stage-between-groups-A-and-B-1.4.3\"><span class=\"toc-item-num\">1.4.3&nbsp;&nbsp;</span>H1: for every funnel stage, there is a significant difference between the conversion ratio from login to that stage between groups A and B</a></span></li><li><span><a href=\"#Conclusion-on-all-funnel-stages-converion-in-interface-eu-a/b-test:\" data-toc-modified-id=\"Conclusion-on-all-funnel-stages-converion-in-interface-eu-a/b-test:-1.4.4\"><span class=\"toc-item-num\">1.4.4&nbsp;&nbsp;</span>Conclusion on all funnel stages converion in interface-eu a/b test:</a></span></li></ul></li></ul></li><li><span><a href=\"#Final-conclusion\" data-toc-modified-id=\"Final-conclusion-2\"><span class=\"toc-item-num\">2&nbsp;&nbsp;</span>Final conclusion</a></span><ul class=\"toc-item\"><li><ul class=\"toc-item\"><li><span><a href=\"#General\" data-toc-modified-id=\"General-2.0.1\"><span class=\"toc-item-num\">2.0.1&nbsp;&nbsp;</span>General</a></span></li><li><span><a href=\"#Results:\" data-toc-modified-id=\"Results:-2.0.2\"><span class=\"toc-item-num\">2.0.2&nbsp;&nbsp;</span>Results:</a></span></li><li><span><a href=\"#Recommendations:\" data-toc-modified-id=\"Recommendations:-2.0.3\"><span class=\"toc-item-num\">2.0.3&nbsp;&nbsp;</span>Recommendations:</a></span></li></ul></li></ul></li></ul></div>"
   ]
  },
  {
   "cell_type": "markdown",
   "id": "5aa15091",
   "metadata": {},
   "source": [
    "# A/B Testing Project"
   ]
  },
  {
   "cell_type": "markdown",
   "id": "a7a67243",
   "metadata": {},
   "source": [
    "### Technical description\n",
    "Test name: recommender_system_test<br>\n",
    "Groups: А (control), B (new payment funnel)<br>\n",
    "Launch date: 2020-12-07<br>\n",
    "Date when they stopped taking up new users: 2020-12-21<br>\n",
    "End date: 2021-01-01<br>\n",
    "Audience: 15% of the new users from the EU region<br>\n",
    "Purpose of the test: testing changes related to the introduction of an improved recommendation system<br>\n",
    "Expected result: within 14 days of signing up, users will show better conversion into product page views (the product_page event), instances of adding items to the shopping cart (product_cart), and purchases (purchase). At each stage of the funnel product_page → product_cart → purchase, there will be at least a 10% increase.<br>\n",
    "Expected number of test participants: 6000<br>\n"
   ]
  },
  {
   "cell_type": "markdown",
   "id": "f12f54aa",
   "metadata": {},
   "source": [
    "### Description of the data\n",
    "<br>Datasets:<br>\n",
    "    \n",
    "ab_project_marketing_events_us.csv — the calendar of marketing events for 2020<br>\n",
    "final_ab_new_users_upd_us.csv — all users who signed up in the online store from December 7 to 21, 2020<br>\n",
    "final_ab_events_upd_us.csv — all events of the new users within the period from December 7, 2020 through January 1, 2021<br>\n",
    "final_ab_participants_upd_us.csv — table containing test participants<br>\n",
    "<br>\n",
    "Structure of ab_project__marketing_events_us.csv:<br>\n",
    "name — the name of the marketing event<br>\n",
    "regions — regions where the ad campaign will be held<br>\n",
    "start_dt — campaign start date<br>\n",
    "finish_dt — campaign end date<br>\n",
    "<br>\n",
    "Structure of final_ab_new_users_upd_us.csv:<br>\n",
    "user_id<br>\n",
    "first_date — sign-up date<br>\n",
    "region<br>\n",
    "device — device used to sign up<br>\n",
    "<br>\n",
    "Structure of final_ab_events_upd_us.csv:<br>\n",
    "user_id<br>\n",
    "event_dt — event date and time<br>\n",
    "event_name — event type name<br>\n",
    "details — additional data on the event (for instance, the order total in USD for purchase events)<br>\n",
    "<br>\n",
    "Structure of final_ab_participants_upd_us.csv:<br>\n",
    "user_id<br>\n",
    "ab_test — test name<br>\n",
    "group — the test group the user belonged to<br>"
   ]
  },
  {
   "cell_type": "markdown",
   "id": "024a825c",
   "metadata": {},
   "source": [
    "### The goals of the study:\n",
    "1. To assess data collection, definition and preparation for the a/b test\n",
    "2. To carry out the test itself and see if it produces any significant results."
   ]
  },
  {
   "cell_type": "code",
   "execution_count": null,
   "id": "bcee83dd",
   "metadata": {
    "scrolled": true
   },
   "outputs": [],
   "source": [
    "pip install sidetable -q"
   ]
  },
  {
   "cell_type": "code",
   "execution_count": null,
   "id": "8ee94345",
   "metadata": {},
   "outputs": [],
   "source": [
    "!pip install plotly -U"
   ]
  },
  {
   "cell_type": "code",
   "execution_count": null,
   "id": "a26a82ca",
   "metadata": {},
   "outputs": [],
   "source": [
    "import pandas as pd\n",
    "import numpy as np\n",
    "import datetime as dt\n",
    "import sidetable\n",
    "import seaborn as sns\n",
    "import matplotlib.pyplot as plt\n",
    "import plotly.express as px\n",
    "import plotly.graph_objects as go\n",
    "from scipy import stats as st\n",
    "import math as mth \n",
    "import os\n",
    "import re"
   ]
  },
  {
   "cell_type": "code",
   "execution_count": null,
   "id": "755df060",
   "metadata": {},
   "outputs": [],
   "source": [
    "path = 'C:\\\\Users\\\\miked\\\\'\n",
    "\n",
    "try:\n",
    "    marketing_events =  pd.read_csv(path + 'ab_project_marketing_events.csv', engine='python')\n",
    "       \n",
    "except:\n",
    "    marketing_events =  pd.read_csv('/datasets/ab_project_marketing_events.csv', engine='python')       \n",
    "    \n",
    "    \n"
   ]
  },
  {
   "cell_type": "code",
   "execution_count": null,
   "id": "5218a40d",
   "metadata": {
    "scrolled": false
   },
   "outputs": [],
   "source": [
    "marketing_events"
   ]
  },
  {
   "cell_type": "markdown",
   "id": "ce2bea1a",
   "metadata": {},
   "source": [
    "The Christmas & New Year Promo overlaps the period of the a/b tests."
   ]
  },
  {
   "cell_type": "code",
   "execution_count": null,
   "id": "7d2b48a9",
   "metadata": {},
   "outputs": [],
   "source": [
    "path = 'C:\\\\Users\\\\miked\\\\'\n",
    "\n",
    "try:\n",
    "    new_users =  pd.read_csv(path + 'final_ab_new_users_upd (1).csv', parse_dates=['first_date'], engine='python')\n",
    "       \n",
    "except:\n",
    "    new_users =  pd.read_csv('/datasets/final_ab_new_users_upd (1).csv',  parse_dates=['first_date'], engine='python')       \n",
    "    \n",
    "    "
   ]
  },
  {
   "cell_type": "code",
   "execution_count": null,
   "id": "a7db7bdb",
   "metadata": {},
   "outputs": [],
   "source": [
    "path = 'C:\\\\Users\\\\miked\\\\'\n",
    "\n",
    "try:\n",
    "    events =  pd.read_csv(path + 'final_ab_events_us.csv', parse_dates=['event_dt'], engine='python')\n",
    "       \n",
    "except:\n",
    "    events =  pd.read_csv('/datasets/final_ab_events_us.csv', parse_dates=['event_dt'], engine='python')       \n",
    "    \n",
    "    "
   ]
  },
  {
   "cell_type": "code",
   "execution_count": null,
   "id": "0ca2de1a",
   "metadata": {},
   "outputs": [],
   "source": [
    "path = 'C:\\\\Users\\\\miked\\\\'\n",
    "\n",
    "try:\n",
    "    participants =  pd.read_csv(path + 'final_ab_participants_upd.csv', engine='python')\n",
    "       \n",
    "except:\n",
    "    participants =  pd.read_csv('/datasets/final_ab_participants_upd_us.csv', engine='python')       \n",
    "    \n",
    "    "
   ]
  },
  {
   "cell_type": "markdown",
   "id": "8ca725bc",
   "metadata": {},
   "source": [
    "### Checking 'participants.csv'  data"
   ]
  },
  {
   "cell_type": "code",
   "execution_count": null,
   "id": "acf60f58",
   "metadata": {
    "scrolled": true
   },
   "outputs": [],
   "source": [
    "participants.head()"
   ]
  },
  {
   "cell_type": "code",
   "execution_count": null,
   "id": "468a9a1d",
   "metadata": {
    "scrolled": true
   },
   "outputs": [],
   "source": [
    "participants.info()"
   ]
  },
  {
   "cell_type": "code",
   "execution_count": null,
   "id": "27bb591f",
   "metadata": {},
   "outputs": [],
   "source": [
    "participants.group.value_counts()"
   ]
  },
  {
   "cell_type": "code",
   "execution_count": null,
   "id": "65370edc",
   "metadata": {
    "scrolled": true
   },
   "outputs": [],
   "source": [
    "participants.ab_test.value_counts()"
   ]
  },
  {
   "cell_type": "code",
   "execution_count": null,
   "id": "90477452",
   "metadata": {
    "scrolled": true
   },
   "outputs": [],
   "source": [
    "participants.describe(include='all').T"
   ]
  },
  {
   "cell_type": "markdown",
   "id": "2074df00",
   "metadata": {},
   "source": [
    "One big problem we can already identify is that there are 6,311 participants classified as group B, whereas the test seemingly supposed to be carried out - \"recommender_system_test\" - has only 3,675 registered participants - meaning either that they were not assigned the right changes in the website or were labeled wrongly. \n",
    "Alternatively, users were distriburted to four groups - for 2 a/b tests, one that was not reported about in the technical description. Since this seems to be the cae. we need to check these two tests differently."
   ]
  },
  {
   "cell_type": "markdown",
   "id": "f4a7aead",
   "metadata": {},
   "source": [
    "### Chaecking 'events.csv' data"
   ]
  },
  {
   "cell_type": "code",
   "execution_count": null,
   "id": "2c42a2ff",
   "metadata": {
    "scrolled": false
   },
   "outputs": [],
   "source": [
    "events.head()"
   ]
  },
  {
   "cell_type": "code",
   "execution_count": null,
   "id": "af6d41dd",
   "metadata": {},
   "outputs": [],
   "source": [
    "events.sample(10)"
   ]
  },
  {
   "cell_type": "code",
   "execution_count": null,
   "id": "deb6abca",
   "metadata": {
    "scrolled": false
   },
   "outputs": [],
   "source": [
    "events.info()"
   ]
  },
  {
   "cell_type": "markdown",
   "id": "eec476ea",
   "metadata": {},
   "source": [
    "Renaming details column to better reflect its contents:"
   ]
  },
  {
   "cell_type": "code",
   "execution_count": null,
   "id": "0454519b",
   "metadata": {},
   "outputs": [],
   "source": [
    "events.rename(columns={\"details\": \"purchase_size\"}, inplace=True)"
   ]
  },
  {
   "cell_type": "code",
   "execution_count": null,
   "id": "d8c3d61e",
   "metadata": {},
   "outputs": [],
   "source": [
    "events['purchase_size'].fillna(0.0, inplace=True)"
   ]
  },
  {
   "cell_type": "code",
   "execution_count": null,
   "id": "a3db9720",
   "metadata": {},
   "outputs": [],
   "source": [
    "events.purchase_size.value_counts()"
   ]
  },
  {
   "cell_type": "code",
   "execution_count": null,
   "id": "145aa641",
   "metadata": {},
   "outputs": [],
   "source": [
    "events.event_name.value_counts()"
   ]
  },
  {
   "cell_type": "code",
   "execution_count": null,
   "id": "a40de006",
   "metadata": {
    "scrolled": true
   },
   "outputs": [],
   "source": [
    "events.describe(include='all').T"
   ]
  },
  {
   "cell_type": "markdown",
   "id": "0694b362",
   "metadata": {},
   "source": [
    "### Checking 'new_users.csv' data"
   ]
  },
  {
   "cell_type": "code",
   "execution_count": null,
   "id": "c556006f",
   "metadata": {
    "scrolled": true
   },
   "outputs": [],
   "source": [
    "new_users.head()"
   ]
  },
  {
   "cell_type": "code",
   "execution_count": null,
   "id": "cb2cf208",
   "metadata": {},
   "outputs": [],
   "source": [
    "new_users.info()"
   ]
  },
  {
   "cell_type": "code",
   "execution_count": null,
   "id": "e8ed086f",
   "metadata": {},
   "outputs": [],
   "source": [
    "new_users.describe(include='all').T"
   ]
  },
  {
   "cell_type": "code",
   "execution_count": null,
   "id": "aba406ce",
   "metadata": {
    "scrolled": true
   },
   "outputs": [],
   "source": [
    "for row in new_users:\n",
    "    print('The number of unique values for {} are: {}'.format(row, new_users[row].sort_values().nunique()))\n",
    "    print()"
   ]
  },
  {
   "cell_type": "markdown",
   "id": "b5de91d2",
   "metadata": {},
   "source": [
    "The number of unique user id is much much karger here then those who were assigned to the test (in participants)."
   ]
  },
  {
   "cell_type": "code",
   "execution_count": null,
   "id": "fa055866",
   "metadata": {
    "scrolled": true
   },
   "outputs": [],
   "source": [
    "new_users.region.value_counts()"
   ]
  },
  {
   "cell_type": "code",
   "execution_count": null,
   "id": "923b3db9",
   "metadata": {},
   "outputs": [],
   "source": [
    "new_users.device.value_counts()"
   ]
  },
  {
   "cell_type": "markdown",
   "id": "af785d95",
   "metadata": {},
   "source": [
    "#### Do types need to be converted?\n",
    "I will convert two date columns from string to datetime type."
   ]
  },
  {
   "cell_type": "code",
   "execution_count": null,
   "id": "6414c861",
   "metadata": {},
   "outputs": [],
   "source": [
    "events['event_dt'] = pd.to_datetime(events['event_dt'], dayfirst=True, format=\"%d/%m/%Y\")\n",
    "events.info()"
   ]
  },
  {
   "cell_type": "code",
   "execution_count": null,
   "id": "d7af73e5",
   "metadata": {},
   "outputs": [],
   "source": [
    "new_users['first_date'] = pd.to_datetime(new_users['first_date'], dayfirst=True,  format=\"%d/%m/%Y\")\n",
    "new_users.info()"
   ]
  },
  {
   "cell_type": "markdown",
   "id": "a233e589",
   "metadata": {},
   "source": [
    "#### Are there any missing or duplicate values? If so, how would you characterize them?"
   ]
  },
  {
   "cell_type": "code",
   "execution_count": null,
   "id": "a40c7796",
   "metadata": {
    "scrolled": false
   },
   "outputs": [],
   "source": [
    "participants.stb.missing()"
   ]
  },
  {
   "cell_type": "code",
   "execution_count": null,
   "id": "af04b1d4",
   "metadata": {},
   "outputs": [],
   "source": [
    "participants.duplicated().sum()"
   ]
  },
  {
   "cell_type": "code",
   "execution_count": null,
   "id": "348869d9",
   "metadata": {},
   "outputs": [],
   "source": [
    "new_users.stb.missing()"
   ]
  },
  {
   "cell_type": "code",
   "execution_count": null,
   "id": "39948ebf",
   "metadata": {},
   "outputs": [],
   "source": [
    "new_users.duplicated().sum()"
   ]
  },
  {
   "cell_type": "code",
   "execution_count": null,
   "id": "6402be25",
   "metadata": {},
   "outputs": [],
   "source": [
    "events.stb.missing()"
   ]
  },
  {
   "cell_type": "markdown",
   "id": "3e17713e",
   "metadata": {},
   "source": [
    "events.details has over 85% missing."
   ]
  },
  {
   "cell_type": "code",
   "execution_count": null,
   "id": "35ae762c",
   "metadata": {
    "scrolled": true
   },
   "outputs": [],
   "source": [
    "events.purchase_size.value_counts()\n"
   ]
  },
  {
   "cell_type": "code",
   "execution_count": null,
   "id": "fb5fc416",
   "metadata": {},
   "outputs": [],
   "source": [
    "events.stb.missing()"
   ]
  },
  {
   "cell_type": "code",
   "execution_count": null,
   "id": "0f843a18",
   "metadata": {},
   "outputs": [],
   "source": [
    "#I expect this number to be close to 1 which will be an indication of purchases assigned a purchase size:\n",
    "len(events[events['event_name']=='purchase']) / len(events[events['purchase_size']!=0.00])"
   ]
  },
  {
   "cell_type": "code",
   "execution_count": null,
   "id": "c41e39ac",
   "metadata": {},
   "outputs": [],
   "source": [
    "len(events[events['purchase_size']!=0.00])"
   ]
  },
  {
   "cell_type": "markdown",
   "id": "d5c8c94a",
   "metadata": {},
   "source": [
    "### How is the number of events distributed among days?"
   ]
  },
  {
   "cell_type": "markdown",
   "id": "69c0e797",
   "metadata": {},
   "source": [
    "Checking distribution of sign up dates (first date):"
   ]
  },
  {
   "cell_type": "code",
   "execution_count": null,
   "id": "3e63f87e",
   "metadata": {},
   "outputs": [],
   "source": [
    "fig = px.histogram(new_users, x=\"first_date\", title=\"Distribution of registration date for test participamts\", labels={\"first_date\": \"Registration date\"}, nbins=20)\n",
    "fig.update_layout(\n",
    "    font_family=\"Courier New\",\n",
    "    font_color=\"blue\",\n",
    "    title_font_family=\"Times New Roman\",\n",
    "    title_font_color=\"red\")\n",
    "fig.update_xaxes(title_font_family=\"Arial\")\n",
    "fig.show();"
   ]
  },
  {
   "cell_type": "code",
   "execution_count": null,
   "id": "0c58b4e4",
   "metadata": {
    "scrolled": true
   },
   "outputs": [],
   "source": [
    "new_users.first_date.value_counts()"
   ]
  },
  {
   "cell_type": "markdown",
   "id": "fc82e08b",
   "metadata": {},
   "source": [
    "### Conclusion on registration dates:\n",
    "They were cyclical, and peaked at mondays on the 7th, 14th and 21st of December."
   ]
  },
  {
   "cell_type": "code",
   "execution_count": null,
   "id": "8a38e558",
   "metadata": {},
   "outputs": [],
   "source": [
    "dates=events[\"event_dt\"].dt.date.nunique()\n",
    "dates"
   ]
  },
  {
   "cell_type": "markdown",
   "id": "86f8ac93",
   "metadata": {},
   "source": [
    "Taking a look at the spread of all events (other then registration) along time:"
   ]
  },
  {
   "cell_type": "code",
   "execution_count": null,
   "id": "a3fb05ef",
   "metadata": {
    "scrolled": false
   },
   "outputs": [],
   "source": [
    "fig = px.histogram(events, x=\"event_dt\", title=\"Distribution of all events over time\", labels={\"event_dt\": \"Event time\"}, nbins=dates)\n",
    "fig.update_layout(\n",
    "    font_family=\"Courier New\",\n",
    "    font_color=\"blue\",\n",
    "    title_font_family=\"Times New Roman\",\n",
    "    title_font_color=\"red\")\n",
    "fig.update_xaxes(title_font_family=\"Arial\")\n",
    "fig.show();"
   ]
  },
  {
   "cell_type": "code",
   "execution_count": null,
   "id": "f462582e",
   "metadata": {
    "scrolled": true
   },
   "outputs": [],
   "source": [
    "events.event_dt.value_counts()"
   ]
  },
  {
   "cell_type": "markdown",
   "id": "cf772849",
   "metadata": {},
   "source": [
    "### Conclusion on the distribution of events:\n",
    "The events (excluding registration) show two peaks similar to the two latest peaks in registrations. The peak towards the end of the test, between the 21st and the 24th of December, just before Christmas (which is on the 25th) Is much bigger. There's a sharp consistent drop right after it.\n",
    "This reflects another problem in the test - the Christmas/New year's campaign and the organic shopping spree at the end of year which are both likely to cause effects that will distort the tests. It's a bad time to conduct them."
   ]
  },
  {
   "cell_type": "markdown",
   "id": "6c539cb4",
   "metadata": {},
   "source": [
    "### Cheking for users included in both tests"
   ]
  },
  {
   "cell_type": "code",
   "execution_count": null,
   "id": "eb303d36",
   "metadata": {},
   "outputs": [],
   "source": [
    "participants_interface = participants[participants['ab_test']=='interface_eu_test'].reset_index()\n",
    "participants_interface.head()"
   ]
  },
  {
   "cell_type": "code",
   "execution_count": null,
   "id": "b90f35c4",
   "metadata": {},
   "outputs": [],
   "source": [
    "participants_recommend = participants[participants['ab_test']=='recommender_system_test'].reset_index()\n",
    "participants_recommend.head()"
   ]
  },
  {
   "cell_type": "markdown",
   "id": "8ec30598",
   "metadata": {},
   "source": [
    "Checking unique numbers in A and B for both tests.\n",
    "1st the interface test:"
   ]
  },
  {
   "cell_type": "code",
   "execution_count": null,
   "id": "81699994",
   "metadata": {
    "scrolled": true
   },
   "outputs": [],
   "source": [
    "participants_interface.groupby('group')['user_id'].nunique().reset_index()"
   ]
  },
  {
   "cell_type": "markdown",
   "id": "aa8f6ce8",
   "metadata": {},
   "source": [
    "We are pretty close to the 6,000 figure per group per test here, and in a well balanced way."
   ]
  },
  {
   "cell_type": "code",
   "execution_count": null,
   "id": "0512350d",
   "metadata": {},
   "outputs": [],
   "source": [
    "participants_recommend.groupby('group')['user_id'].nunique().reset_index()"
   ]
  },
  {
   "cell_type": "markdown",
   "id": "f90976f9",
   "metadata": {},
   "source": [
    "### Distribution of unique useres in A/B groups:\n",
    "In the recommendation system test we have a problem: the users are distributed asymmetrically (apx 1:3) and there are relatively very little users in the test group.\n",
    "Another related problem is that we are very far from the 6,000 useres stated as the goal number. There are overall some 3,700 users in the control and test group, and less than a 1,000 in the former. The testing of the recommendation system should be taken as not statistically viable in those circumstances, no matter the outcome.\n",
    "The interface test is much more close to the target number of 6,000 users in the test group, with close to 5,400 participants."
   ]
  },
  {
   "cell_type": "code",
   "execution_count": null,
   "id": "5aa03fb4",
   "metadata": {
    "scrolled": true
   },
   "outputs": [],
   "source": [
    "#Completing the inspection of users in both tests:\n",
    "both_tests  = participants.query('user_id in @participants_recommend.user_id and user_id in @participants_interface.user_id').reset_index()\n",
    "both_tests.info() "
   ]
  },
  {
   "cell_type": "code",
   "execution_count": null,
   "id": "3ef09bd2",
   "metadata": {},
   "outputs": [],
   "source": [
    "both_tests.user_id.nunique()"
   ]
  },
  {
   "cell_type": "markdown",
   "id": "ad459c1b",
   "metadata": {},
   "source": [
    "It also seems a good idea to check how many of those included in both tests belong to the smallest group - members of the test group (B) of the recommendation system (Test: recommender_system_test):"
   ]
  },
  {
   "cell_type": "code",
   "execution_count": null,
   "id": "67d01a50",
   "metadata": {
    "scrolled": true
   },
   "outputs": [],
   "source": [
    "recommendation_B_both_tests = both_tests.query('group == \"B\" and ab_test == \"recommender_system_test\"')\n",
    "recommendation_B_both_tests.info()"
   ]
  },
  {
   "cell_type": "code",
   "execution_count": null,
   "id": "fe78cff4",
   "metadata": {},
   "outputs": [],
   "source": [
    "recommendation_B_both_tests.user_id.nunique()"
   ]
  },
  {
   "cell_type": "markdown",
   "id": "ab246df0",
   "metadata": {},
   "source": [
    "Out of 928 users in the test group (B) of the recommender system test, 222 (close to 1:4) are included in the interface eu test, which is a cause for concern. These users have likely seen pages which are a different mix then users enrollrd just in one test. It would thus be hard if not impossible to tell what caused their behaviour."
   ]
  },
  {
   "cell_type": "markdown",
   "id": "5176b319",
   "metadata": {},
   "source": [
    "I will curve out users who are in both tests and continue to check for users in both groups A and B in each of the tests:"
   ]
  },
  {
   "cell_type": "code",
   "execution_count": null,
   "id": "66e6302a",
   "metadata": {},
   "outputs": [],
   "source": [
    "participants_new = participants.query('user_id not in @both_tests.user_id').reset_index()\n",
    "participants_new.info()"
   ]
  },
  {
   "cell_type": "markdown",
   "id": "34bad863",
   "metadata": {},
   "source": [
    "\n",
    "### Are there users who are present at both groups A and B in each of the tests?"
   ]
  },
  {
   "cell_type": "code",
   "execution_count": null,
   "id": "c3fcf7c4",
   "metadata": {},
   "outputs": [],
   "source": [
    "# Starting with the interface test:\n",
    "participants_interface_A = participants_interface[participants_interface['group']=='A'].reset_index()\n",
    "participants_interface_A.head()"
   ]
  },
  {
   "cell_type": "code",
   "execution_count": null,
   "id": "5e0b5d4e",
   "metadata": {
    "scrolled": false
   },
   "outputs": [],
   "source": [
    "participants_interface_B = participants_interface[participants_interface['group']=='B'].reset_index()\n",
    "participants_interface_B.head()"
   ]
  },
  {
   "cell_type": "code",
   "execution_count": null,
   "id": "eb206eb4",
   "metadata": {},
   "outputs": [],
   "source": [
    "both_groups_interface = participants_interface.query('user_id in @participants_interface_A.user_id and user_id in @participants_interface_B.user_id').reset_index()\n",
    "\n",
    "both_groups_interface.head()    "
   ]
  },
  {
   "cell_type": "code",
   "execution_count": null,
   "id": "d59f39c5",
   "metadata": {
    "scrolled": false
   },
   "outputs": [],
   "source": [
    "both_groups_interface.info()"
   ]
  },
  {
   "cell_type": "markdown",
   "id": "e20e97fe",
   "metadata": {},
   "source": [
    "There are no users in both A and B groups in the interface test."
   ]
  },
  {
   "cell_type": "code",
   "execution_count": null,
   "id": "727c06ca",
   "metadata": {},
   "outputs": [],
   "source": [
    "# Moving to the recommendation system test:\n",
    "participants_recommend_A = participants_recommend[participants_recommend['group']=='A'].reset_index()\n",
    "participants_recommend_A.head()"
   ]
  },
  {
   "cell_type": "code",
   "execution_count": null,
   "id": "92b1dd3d",
   "metadata": {
    "scrolled": false
   },
   "outputs": [],
   "source": [
    "participants_recommend_B = participants_recommend[participants_recommend['group']=='B'].reset_index()\n",
    "participants_recommend_B.head()"
   ]
  },
  {
   "cell_type": "code",
   "execution_count": null,
   "id": "3b43db9a",
   "metadata": {},
   "outputs": [],
   "source": [
    "both_groups_recommend = participants_recommend.query('user_id in @participants_recommend_A.user_id and user_id in @participants_recommend_B.user_id').reset_index()\n",
    "\n",
    "both_groups_recommend.head()    "
   ]
  },
  {
   "cell_type": "code",
   "execution_count": null,
   "id": "31d24bbb",
   "metadata": {
    "scrolled": true
   },
   "outputs": [],
   "source": [
    "both_groups_interface.info()"
   ]
  },
  {
   "cell_type": "markdown",
   "id": "cb3405a1",
   "metadata": {},
   "source": [
    "Here too there are no users in both A and B groups in the recommendation system test."
   ]
  },
  {
   "cell_type": "markdown",
   "id": "4bbb50cf",
   "metadata": {},
   "source": [
    "### Creating a new dataframe with no cross participans in tests and groups:"
   ]
  },
  {
   "cell_type": "code",
   "execution_count": null,
   "id": "306493bd",
   "metadata": {},
   "outputs": [],
   "source": [
    "# the reviewer's cell:\n",
    "# first version:\n",
    "display(participants.query('user_id not in @both_tests').groupby('user_id').agg({'ab_test' : 'nunique'}).query('ab_test > 1'))\n",
    "\n",
    "# correct version:\n",
    "participants.query('user_id not in @both_tests.user_id').groupby('user_id').agg({'ab_test' : 'nunique'}).query('ab_test > 1')"
   ]
  },
  {
   "cell_type": "markdown",
   "id": "0bc03501",
   "metadata": {},
   "source": [
    "### Merging all dataframes after filtering them:"
   ]
  },
  {
   "cell_type": "code",
   "execution_count": null,
   "id": "f9a9945c",
   "metadata": {},
   "outputs": [],
   "source": [
    "all_data = participants_new.merge(events, how='left', on='user_id')\n",
    "all_data.describe(include='all').T"
   ]
  },
  {
   "cell_type": "code",
   "execution_count": null,
   "id": "eac8c3e7",
   "metadata": {},
   "outputs": [],
   "source": [
    "all_data.head()"
   ]
  },
  {
   "cell_type": "code",
   "execution_count": null,
   "id": "96cb1917",
   "metadata": {
    "scrolled": false
   },
   "outputs": [],
   "source": [
    "all_data_new = all_data.merge(new_users, how='left', on='user_id').reset_index()\n",
    "all_data_new.describe(include='all').T"
   ]
  },
  {
   "cell_type": "code",
   "execution_count": null,
   "id": "92e9c3d3",
   "metadata": {
    "scrolled": true
   },
   "outputs": [],
   "source": [
    "all_data_new.head()"
   ]
  },
  {
   "cell_type": "markdown",
   "id": "49d1666b",
   "metadata": {},
   "source": [
    "Adding a date column to the df:"
   ]
  },
  {
   "cell_type": "code",
   "execution_count": null,
   "id": "ec58281c",
   "metadata": {
    "scrolled": true
   },
   "outputs": [],
   "source": [
    "all_data_new['date']=all_data_new['event_dt'].dt.date.astype('datetime64')\n",
    "all_data_new.head()"
   ]
  },
  {
   "cell_type": "code",
   "execution_count": null,
   "id": "6806ee00",
   "metadata": {
    "scrolled": false
   },
   "outputs": [],
   "source": [
    "all_data_new.info()"
   ]
  },
  {
   "cell_type": "code",
   "execution_count": null,
   "id": "a5cd229a",
   "metadata": {},
   "outputs": [],
   "source": [
    "# the reviewer's cell:\n",
    "all_data_new.groupby('user_id').agg({'ab_test' : 'nunique'}).query('ab_test > 1')"
   ]
  },
  {
   "cell_type": "code",
   "execution_count": null,
   "id": "7ccbce69",
   "metadata": {
    "scrolled": true
   },
   "outputs": [],
   "source": [
    "all_data_new['age'] = ((all_data_new['date'] - all_data_new['first_date'])/ np.timedelta64(1,'D'))\n",
    "all_data_new['age']"
   ]
  },
  {
   "cell_type": "markdown",
   "id": "fa0a531e",
   "metadata": {},
   "source": [
    "Changing the column name first_date (registration date) to cohort:"
   ]
  },
  {
   "cell_type": "code",
   "execution_count": null,
   "id": "f6f37b50",
   "metadata": {
    "scrolled": true
   },
   "outputs": [],
   "source": [
    "all_data_new.rename(columns={'first_date' : 'cohort'}, inplace=True)\n",
    "all_data_new.info()"
   ]
  },
  {
   "cell_type": "code",
   "execution_count": null,
   "id": "92dfd08a",
   "metadata": {
    "scrolled": true
   },
   "outputs": [],
   "source": [
    "all_data_new.stb.missing()"
   ]
  },
  {
   "cell_type": "code",
   "execution_count": null,
   "id": "59544f42",
   "metadata": {
    "scrolled": true
   },
   "outputs": [],
   "source": [
    "#dropping 17 rows\n",
    "all_data_new.dropna(inplace=True)"
   ]
  },
  {
   "cell_type": "code",
   "execution_count": null,
   "id": "8b1eece3",
   "metadata": {},
   "outputs": [],
   "source": [
    "all_data_new.info()"
   ]
  },
  {
   "cell_type": "markdown",
   "id": "6d1e929f",
   "metadata": {},
   "source": [
    "### Checking events per user on different tests and groups :"
   ]
  },
  {
   "cell_type": "markdown",
   "id": "b679b6c9",
   "metadata": {},
   "source": [
    "Splitting the data for each test before checking it:"
   ]
  },
  {
   "cell_type": "code",
   "execution_count": null,
   "id": "33d4124b",
   "metadata": {},
   "outputs": [],
   "source": [
    "all_data_new_recommender = all_data_new[all_data_new['ab_test']=='recommender_system_test']\n",
    "all_data_new_recommender.ab_test.value_counts()"
   ]
  },
  {
   "cell_type": "code",
   "execution_count": null,
   "id": "872d51c7",
   "metadata": {},
   "outputs": [],
   "source": [
    "all_data_new_interface = all_data_new[all_data_new['ab_test']=='interface_eu_test']\n",
    "all_data_new_interface.ab_test.value_counts()"
   ]
  },
  {
   "cell_type": "code",
   "execution_count": null,
   "id": "607f4389",
   "metadata": {
    "scrolled": false
   },
   "outputs": [],
   "source": [
    "all_data_new_recommender.info()"
   ]
  },
  {
   "cell_type": "code",
   "execution_count": null,
   "id": "b32a2b8b",
   "metadata": {
    "scrolled": true
   },
   "outputs": [],
   "source": [
    "all_data_new_interface.info()"
   ]
  },
  {
   "cell_type": "code",
   "execution_count": null,
   "id": "d60fe744",
   "metadata": {
    "scrolled": true
   },
   "outputs": [],
   "source": [
    "all_data_new_recommender.head()"
   ]
  },
  {
   "cell_type": "code",
   "execution_count": null,
   "id": "6ea869f6",
   "metadata": {
    "scrolled": false
   },
   "outputs": [],
   "source": [
    "all_data_new_interface.head()"
   ]
  },
  {
   "cell_type": "code",
   "execution_count": null,
   "id": "2c9700f9",
   "metadata": {
    "scrolled": true
   },
   "outputs": [],
   "source": [
    "all_data_new_interface.info()"
   ]
  },
  {
   "cell_type": "code",
   "execution_count": null,
   "id": "a55bbf18",
   "metadata": {},
   "outputs": [],
   "source": [
    "new_users_range =new_users[(new_users['first_date']>= '2020-12-07') & (new_users['first_date'] <= '2020-12-21')]\n",
    "total_new_users = new_users_range.user_id.nunique()\n",
    "total_new_users"
   ]
  },
  {
   "cell_type": "code",
   "execution_count": null,
   "id": "6d574915",
   "metadata": {},
   "outputs": [],
   "source": [
    "recommender_eu = all_data_new_recommender[all_data_new_recommender['region']=='EU']['user_id'].nunique()\n",
    "recommender_eu"
   ]
  },
  {
   "cell_type": "code",
   "execution_count": null,
   "id": "24fa721b",
   "metadata": {},
   "outputs": [],
   "source": [
    "eu_ratio = recommender_eu / total_new_users\n",
    "eu_ratio"
   ]
  },
  {
   "cell_type": "markdown",
   "id": "a585de22",
   "metadata": {},
   "source": [
    "a little less than 5%, a third of the expected rate of users, are from the EU in the recommendation system a/b test."
   ]
  },
  {
   "cell_type": "markdown",
   "id": "c0b40656",
   "metadata": {},
   "source": [
    "We see again that the interface_eu test has much more data than the other test."
   ]
  },
  {
   "cell_type": "markdown",
   "id": "a43e9f0c",
   "metadata": {},
   "source": [
    "### Is the number of events per user distributed equally among the samples?"
   ]
  },
  {
   "cell_type": "code",
   "execution_count": null,
   "id": "6dd2ad72",
   "metadata": {
    "scrolled": false
   },
   "outputs": [],
   "source": [
    "#splitting test samples between groups to check the distribution of events per user:\n",
    "all_data_new_interface_A = all_data_new_interface[all_data_new_interface['group']=='A']\n",
    "all_data_new_interface_A.head()"
   ]
  },
  {
   "cell_type": "markdown",
   "id": "cd278db9",
   "metadata": {},
   "source": [
    "counting events by user_id:"
   ]
  },
  {
   "cell_type": "code",
   "execution_count": null,
   "id": "95ce1414",
   "metadata": {
    "scrolled": true
   },
   "outputs": [],
   "source": [
    "interface_user_grouped_A = all_data_new_interface_A.groupby('user_id', as_index=False)['event_dt'].count()\n",
    "\n",
    "interface_user_grouped_A.columns = ['user_id', 'event_cnt']\n",
    "\n",
    "interface_user_grouped_A.sort_values(by='event_cnt', ascending=False).head()\n"
   ]
  },
  {
   "cell_type": "code",
   "execution_count": null,
   "id": "e43286c9",
   "metadata": {
    "scrolled": true
   },
   "outputs": [],
   "source": [
    "interface_user_grouped_A.describe()"
   ]
  },
  {
   "cell_type": "markdown",
   "id": "af61519c",
   "metadata": {},
   "source": [
    "For A group participants at the eu-interface a/b test the mean is 7.4 events per day and the median is 6 events per day "
   ]
  },
  {
   "cell_type": "code",
   "execution_count": null,
   "id": "cc764d6f",
   "metadata": {},
   "outputs": [],
   "source": [
    "interface_user_grouped_A.event_cnt.value_counts().sort_values(ascending=False)"
   ]
  },
  {
   "cell_type": "code",
   "execution_count": null,
   "id": "ad799a5f",
   "metadata": {},
   "outputs": [],
   "source": [
    "fig = px.histogram(interface_user_grouped_A, x=\"event_cnt\", title=\"Distribution of events per user at group A interface a/b test\", labels={\"event_cnt\": \"Event count\"}, nbins=interface_user_grouped_A.event_cnt.value_counts().nunique())\n",
    "fig.update_layout(\n",
    "    font_family=\"Courier New\",\n",
    "    font_color=\"blue\",\n",
    "    title_font_family=\"Times New Roman\",\n",
    "    title_font_color=\"red\")\n",
    "fig.update_xaxes(title_font_family=\"Arial\")\n",
    "fig.show();"
   ]
  },
  {
   "cell_type": "code",
   "execution_count": null,
   "id": "e4d072c4",
   "metadata": {},
   "outputs": [],
   "source": [
    "all_data_new_interface_B = all_data_new_interface[all_data_new_interface['group']=='B']\n",
    "all_data_new_interface_B.head()"
   ]
  },
  {
   "cell_type": "code",
   "execution_count": null,
   "id": "0dc94810",
   "metadata": {
    "scrolled": false
   },
   "outputs": [],
   "source": [
    "# Doing the same for group B of the \"interface\" test\n",
    "interface_user_grouped_B = all_data_new_interface_B.groupby('user_id', as_index=False)['event_dt'].count()\n",
    "\n",
    "interface_user_grouped_B.columns = ['user_id', 'event_cnt']\n",
    "\n",
    "interface_user_grouped_B.sort_values(by='event_cnt', ascending=False).head()\n"
   ]
  },
  {
   "cell_type": "code",
   "execution_count": null,
   "id": "bef4e942",
   "metadata": {
    "scrolled": true
   },
   "outputs": [],
   "source": [
    "interface_user_grouped_B.describe()"
   ]
  },
  {
   "cell_type": "markdown",
   "id": "b1126ff1",
   "metadata": {},
   "source": [
    "The distribution of B group events per user is similar in median and mean, (6 and 7.2, respectively) but seems to have more extreme outliers (max is at 32 as opposed to 28 in A)."
   ]
  },
  {
   "cell_type": "code",
   "execution_count": null,
   "id": "63a42da4",
   "metadata": {
    "scrolled": false
   },
   "outputs": [],
   "source": [
    "fig = px.histogram(interface_user_grouped_B, x=\"event_cnt\", title=\"Distribution of events per user at group B 'interface eu' a/b test\", labels={\"event_cnt\": \"Event count\"}, nbins=interface_user_grouped_B.event_cnt.value_counts().nunique())\n",
    "fig.update_layout(\n",
    "    font_family=\"Courier New\",\n",
    "    font_color=\"blue\",\n",
    "    title_font_family=\"Times New Roman\",\n",
    "    title_font_color=\"red\")\n",
    "fig.update_xaxes(title_font_family=\"Arial\")\n",
    "fig.show();"
   ]
  },
  {
   "cell_type": "code",
   "execution_count": null,
   "id": "3ab75e7a",
   "metadata": {},
   "outputs": [],
   "source": [
    "all_data_new_interface_A.event_name.value_counts()"
   ]
  },
  {
   "cell_type": "code",
   "execution_count": null,
   "id": "08dcb75c",
   "metadata": {
    "scrolled": true
   },
   "outputs": [],
   "source": [
    "all_data_new_interface_B.event_name.value_counts()"
   ]
  },
  {
   "cell_type": "markdown",
   "id": "82fbd23b",
   "metadata": {},
   "source": [
    "### Conclusions on the distribution of events per user in \"Interface\" test :\n",
    "Interestingly we see that the biggest difference is in the purchase event itself - where A group has 500 more (some 10%) - but  overall, the event numbers are quite similar. The mean and median of event numbers per user are also very similar 7.2 in B and 7.4 in A for the average and a median of 6 for both."
   ]
  },
  {
   "cell_type": "markdown",
   "id": "d88a62f9",
   "metadata": {},
   "source": [
    "### Checking the distribution of events per user in the second test (recommandation system):"
   ]
  },
  {
   "cell_type": "code",
   "execution_count": null,
   "id": "11584d69",
   "metadata": {
    "scrolled": true
   },
   "outputs": [],
   "source": [
    "all_data_new_recommender_B = all_data_new_recommender[all_data_new_recommender['group']=='B']\n",
    "all_data_new_recommender_B.head()"
   ]
  },
  {
   "cell_type": "code",
   "execution_count": null,
   "id": "b01bd226",
   "metadata": {
    "scrolled": false
   },
   "outputs": [],
   "source": [
    "recommend_user_grouped_B = all_data_new_recommender_B.groupby('user_id', as_index=False)['event_dt'].count()\n",
    "\n",
    "recommend_user_grouped_B.columns = ['user_id', 'event_cnt']\n",
    "\n",
    "recommend_user_grouped_B.sort_values(by='event_cnt', ascending=False).head()\n"
   ]
  },
  {
   "cell_type": "code",
   "execution_count": null,
   "id": "b3e80fa1",
   "metadata": {
    "scrolled": true
   },
   "outputs": [],
   "source": [
    "recommend_user_grouped_B.describe()"
   ]
  },
  {
   "cell_type": "raw",
   "id": "3e904f9d",
   "metadata": {},
   "source": [
    "The distribution of events per user  in group B of the recommendation system test is lower relative to both groups in the interface eu test."
   ]
  },
  {
   "cell_type": "code",
   "execution_count": null,
   "id": "204db2a9",
   "metadata": {},
   "outputs": [],
   "source": [
    "fig = px.histogram(recommend_user_grouped_B, x=\"event_cnt\", title=\"Distribution of events per user at group B of the Recommendaion test\", labels={\"event_cnt\": \"Event count\"}, nbins=recommend_user_grouped_B.event_cnt.value_counts().nunique())\n",
    "fig.update_layout(\n",
    "    font_family=\"Courier New\",\n",
    "    font_color=\"blue\",\n",
    "    title_font_family=\"Times New Roman\",\n",
    "    title_font_color=\"red\")\n",
    "fig.update_xaxes(title_font_family=\"Arial\")\n",
    "fig.show();"
   ]
  },
  {
   "cell_type": "code",
   "execution_count": null,
   "id": "e0430941",
   "metadata": {
    "scrolled": true
   },
   "outputs": [],
   "source": [
    "# Moving to group A:\n",
    "all_data_new_recommender_A = all_data_new_recommender[all_data_new_recommender['group']=='A']\n",
    "all_data_new_recommender_A.head()"
   ]
  },
  {
   "cell_type": "code",
   "execution_count": null,
   "id": "b42b79ab",
   "metadata": {
    "scrolled": true
   },
   "outputs": [],
   "source": [
    "recommend_user_grouped_A = all_data_new_recommender_A.groupby('user_id', as_index=False)['event_dt'].count()\n",
    "\n",
    "recommend_user_grouped_A.columns = ['user_id', 'event_cnt']\n",
    "\n",
    "recommend_user_grouped_A.sort_values(by='event_cnt', ascending=False).head()\n"
   ]
  },
  {
   "cell_type": "code",
   "execution_count": null,
   "id": "3b123e8b",
   "metadata": {
    "scrolled": true
   },
   "outputs": [],
   "source": [
    "recommend_user_grouped_A.describe()"
   ]
  },
  {
   "cell_type": "raw",
   "id": "98fc4f2c",
   "metadata": {},
   "source": [
    "Both the mean and median are higher in group A compared to B in the recommendation test (6.8 vs 5.6) and (6 vs 4). This is the closest to a normal distribution we got among all 4 groups.\n"
   ]
  },
  {
   "cell_type": "code",
   "execution_count": null,
   "id": "c716191d",
   "metadata": {},
   "outputs": [],
   "source": [
    "fig = px.histogram(recommend_user_grouped_A, x=\"event_cnt\", title=\"Distribution of events per user at group A of the 'recommendaion system' test\", labels={\"event_cnt\": \"Event count\"}, nbins=recommend_user_grouped_A.event_cnt.value_counts().nunique())\n",
    "fig.update_layout(\n",
    "    font_family=\"Courier New\",\n",
    "    font_color=\"blue\",\n",
    "    title_font_family=\"Times New Roman\",\n",
    "    title_font_color=\"red\")\n",
    "fig.update_xaxes(title_font_family=\"Arial\")\n",
    "fig.show();"
   ]
  },
  {
   "cell_type": "markdown",
   "id": "5318aabc",
   "metadata": {},
   "source": [
    "Here there are apparent differnces in the histograms: Event count is lower on average for users in group B. \n",
    "Checking again the kinds of events to see their distribution as well:"
   ]
  },
  {
   "cell_type": "code",
   "execution_count": null,
   "id": "30b88921",
   "metadata": {
    "scrolled": false
   },
   "outputs": [],
   "source": [
    "all_data_new_recommender_A.event_name.value_counts()"
   ]
  },
  {
   "cell_type": "code",
   "execution_count": null,
   "id": "1ae8e297",
   "metadata": {
    "scrolled": false
   },
   "outputs": [],
   "source": [
    "all_data_new_recommender_B.event_name.value_counts()"
   ]
  },
  {
   "cell_type": "markdown",
   "id": "78c59730",
   "metadata": {},
   "source": [
    "### Differences in events per use between groups in the \"recommendation system\" test:\n",
    "As the B group in the recommandation test is the smallest of all 4 it is not only skewed but has much less events - about a 1/4 of group A and just about 500 purchases. A also has a larger average and median of events per user - (6.8 to 5.6 on average, and a median of 6 to 4)."
   ]
  },
  {
   "cell_type": "markdown",
   "id": "ac0e00cc",
   "metadata": {},
   "source": [
    "### Aadded section: checking differences in cummulative revenue and average purchase size  per test and group"
   ]
  },
  {
   "cell_type": "code",
   "execution_count": null,
   "id": "3b6b5cf0",
   "metadata": {
    "scrolled": false
   },
   "outputs": [],
   "source": [
    "# building an array with unique paired date-group values for the recommandation system test: \n",
    "datesGroups_recommend = all_data_new_recommender[['date','group']].drop_duplicates()\n",
    "datesGroups_recommend.head()"
   ]
  },
  {
   "cell_type": "code",
   "execution_count": null,
   "id": "3d43a869",
   "metadata": {
    "scrolled": true
   },
   "outputs": [],
   "source": [
    "# building an array with unique paired date-group values for the interface_eu_test: \n",
    "datesGroups_interface = all_data_new_interface[['date','group']].drop_duplicates()\n",
    "datesGroups_interface.head()"
   ]
  },
  {
   "cell_type": "code",
   "execution_count": null,
   "id": "acdbaed1",
   "metadata": {
    "scrolled": false
   },
   "outputs": [],
   "source": [
    "# Building a comulative dataframe where every raw is the comulative data up to a specific day in dateGroups for a specific group,\n",
    "# Counting unique transactions, unique users and sum revenue for each group on each day: \n",
    "aggregated_recommend_test = datesGroups_recommend.apply(lambda x: all_data_new_recommender[np.logical_and(all_data_new_recommender['date'] <= x['date'], all_data_new_recommender['group'] == x['group'])]\n",
    "     .agg({'date' : 'max', 'group' : 'max', 'user_id' : 'nunique', 'event_name' : 'max', 'purchase_size' : 'sum'}),\n",
    "                                     axis=1).sort_values(by=['date','group']).reset_index()\n",
    "aggregated_recommend_test.tail()"
   ]
  },
  {
   "cell_type": "code",
   "execution_count": null,
   "id": "cb3101af",
   "metadata": {
    "scrolled": true
   },
   "outputs": [],
   "source": [
    "aggregated_recommend_test.event_name.value_counts()"
   ]
  },
  {
   "cell_type": "code",
   "execution_count": null,
   "id": "dd62c7e5",
   "metadata": {
    "scrolled": true
   },
   "outputs": [],
   "source": [
    "aggregated_recommend_test.date.max()"
   ]
  },
  {
   "cell_type": "markdown",
   "id": "4ce46dbc",
   "metadata": {},
   "source": [
    "On the 30th of December we sampled only users from group B performing purchases."
   ]
  },
  {
   "cell_type": "markdown",
   "id": "9f04b1eb",
   "metadata": {},
   "source": [
    "I  will plot the difference in cummulative revenue per day between the groups in the recommendation system test:"
   ]
  },
  {
   "cell_type": "code",
   "execution_count": null,
   "id": "efa3261c",
   "metadata": {},
   "outputs": [],
   "source": [
    "# DataFrame with cumulative purchase numbers and cumulative revenue by day, group A\n",
    "cumulativeRevenueA = aggregated_recommend_test[aggregated_recommend_test['group']=='A'][['date','purchase_size', 'user_id']]\n",
    "\n",
    "# DataFrame with cumulative purchase numbers and cumulative revenue by day, group B\n",
    "cumulativeRevenueB = aggregated_recommend_test[aggregated_recommend_test['group']=='B'][['date','purchase_size', 'user_id']]"
   ]
  },
  {
   "cell_type": "code",
   "execution_count": null,
   "id": "78af0bff",
   "metadata": {
    "scrolled": false
   },
   "outputs": [],
   "source": [
    "# Plotting the group A revenue graph in the recommendation test\n",
    "plt.plot(cumulativeRevenueA['date'], cumulativeRevenueA['purchase_size'], label='A')\n",
    "\n",
    "# Plotting the group B revenue graph \n",
    "plt.plot(cumulativeRevenueB['date'], cumulativeRevenueB['purchase_size'], label='B')\n",
    "plt.xticks(rotation=45)\n",
    "plt.legend()\n",
    "plt.title(\"Commulative revenue for groups A and B\", fontsize = 16);\n",
    "plt.ylabel(\"Commulative revenue\", fontsize = 12)\n",
    "plt.show();"
   ]
  },
  {
   "cell_type": "markdown",
   "id": "43ae1db6",
   "metadata": {},
   "source": [
    "Conclusion: The control group for the change in recommendation system test is much more lucrative then its test group in terms of income, and it is still trending upwards as the test goes on and the test group seems to start to stabilyze someewhat."
   ]
  },
  {
   "cell_type": "markdown",
   "id": "cb31888d",
   "metadata": {},
   "source": [
    "### Note:   \n",
    "In this case, we should pay attention to the fact that the A and B groups within the recommendation system test shows a different number of participants, and hence we cannot treat the result on sum of revenue as reliable.\n",
    "In this case, it is better to calculate the revenue per buyer:"
   ]
  },
  {
   "cell_type": "markdown",
   "id": "db94c893",
   "metadata": {},
   "source": [
    "I will now plot the purchase size per user in the recommendation system test as an approximation of the custommary average purchase size per orders:"
   ]
  },
  {
   "cell_type": "code",
   "execution_count": null,
   "id": "8fb497f5",
   "metadata": {
    "scrolled": false
   },
   "outputs": [],
   "source": [
    "plt.plot(cumulativeRevenueA['date'], cumulativeRevenueA['purchase_size']/cumulativeRevenueA['user_id'], label='A')\n",
    "plt.plot(cumulativeRevenueB['date'], cumulativeRevenueB['purchase_size']/cumulativeRevenueB['user_id'], label='B')\n",
    "plt.xticks(rotation=45)\n",
    "plt.legend()\n",
    "plt.title(\"purchase size per user for groups A and B in the recommendation test\", fontsize = 16);\n",
    "plt.ylabel(\"purchase size per user\", fontsize = 12)\n",
    "plt.show();"
   ]
  },
  {
   "cell_type": "markdown",
   "id": "347e6431",
   "metadata": {},
   "source": [
    "The same trend is reserved here, as purchase size per user is still quite consistently higher for A users."
   ]
  },
  {
   "cell_type": "code",
   "execution_count": null,
   "id": "79b0ead3",
   "metadata": {
    "scrolled": false
   },
   "outputs": [],
   "source": [
    "# Building a comulative dataframe where every raw is the comulative data up to a specific day in dateGroups for a specific group,\n",
    "# Counting unique transactions, unique users and sum revenue for each group on each day: \n",
    "aggregated_interface_test = datesGroups_interface.apply(lambda x: all_data_new_interface[np.logical_and(all_data_new_interface['date'] <= x['date'], all_data_new_interface['group'] == x['group'])]\n",
    "     .agg({'date' : 'max', 'group' : 'max', 'user_id' : 'nunique', 'event_name' : 'max', 'purchase_size' : 'sum'}),\n",
    "                                     axis=1).sort_values(by=['date','group']).reset_index()\n",
    "aggregated_interface_test.head()"
   ]
  },
  {
   "cell_type": "markdown",
   "id": "9c2dd8bb",
   "metadata": {},
   "source": [
    "I  will plot the difference in cummulative revenue per day between the groups:"
   ]
  },
  {
   "cell_type": "code",
   "execution_count": null,
   "id": "9e671208",
   "metadata": {},
   "outputs": [],
   "source": [
    "# DataFrame with cumulative orders and cumulative revenue by day, group A\n",
    "cumulativeRevenueA_interface = aggregated_interface_test[aggregated_interface_test['group']=='A'][['date','purchase_size', 'user_id']]\n",
    "\n",
    "# DataFrame with cumulative orders and cumulative revenue by day, group B\n",
    "cumulativeRevenueB_interface = aggregated_interface_test[aggregated_interface_test['group']=='B'][['date','purchase_size', 'user_id']]"
   ]
  },
  {
   "cell_type": "code",
   "execution_count": null,
   "id": "bd274ba9",
   "metadata": {
    "scrolled": false
   },
   "outputs": [],
   "source": [
    "# Plotting the group A revenue graph \n",
    "plt.plot(cumulativeRevenueA_interface['date'], cumulativeRevenueA_interface['purchase_size'], label='A')\n",
    "\n",
    "# Plotting the group B revenue graph \n",
    "plt.plot(cumulativeRevenueB_interface['date'], cumulativeRevenueB_interface['purchase_size'], label='B')\n",
    "plt.xticks(rotation=45)\n",
    "plt.legend()\n",
    "plt.title(\"Commulative revenue for groups A and B\", fontsize = 16);\n",
    "plt.ylabel(\"Commulative revenue\", fontsize = 12)\n",
    "plt.show();"
   ]
  },
  {
   "cell_type": "markdown",
   "id": "61078cf0",
   "metadata": {},
   "source": [
    "At the change of the user interface test too there does not seem to be a difference favoring the test group, quite the opposite. The difference is not as dramatic as in the other test buts it's visible."
   ]
  },
  {
   "cell_type": "code",
   "execution_count": null,
   "id": "942fe6e2",
   "metadata": {
    "scrolled": false
   },
   "outputs": [],
   "source": [
    "plt.plot(cumulativeRevenueA_interface['date'], cumulativeRevenueA_interface['purchase_size']/cumulativeRevenueA_interface['user_id'], label='A')\n",
    "plt.plot(cumulativeRevenueB_interface['date'], cumulativeRevenueB_interface['purchase_size']/cumulativeRevenueB_interface['user_id'], label='B')\n",
    "plt.xticks(rotation=45)\n",
    "plt.legend()\n",
    "plt.title(\"purchase size per user for groups A and B in the interface EU test\", fontsize = 16);\n",
    "plt.ylabel(\"purchase size per user\", fontsize = 12)\n",
    "plt.show();"
   ]
  },
  {
   "cell_type": "markdown",
   "id": "d9fb09c5",
   "metadata": {},
   "source": [
    "A milder difference here too but it is still mostly consistent in favour of users of group A."
   ]
  },
  {
   "cell_type": "markdown",
   "id": "f73a3fb7",
   "metadata": {},
   "source": [
    "### Checking conversion on different tests and groups:\n",
    "Starting with the recommendation system test."
   ]
  },
  {
   "cell_type": "code",
   "execution_count": null,
   "id": "9535780e",
   "metadata": {
    "scrolled": false
   },
   "outputs": [],
   "source": [
    "#Creating a pivot table with events as columns and dates as \"cohorts\" in the index\n",
    "pivot_recommend_A_new = pd.pivot_table(all_data_new_recommender_A, index=['cohort'], columns=['event_name'], values=['user_id'], aggfunc='nunique', margins=True)\n",
    "pivot_recommend_A_new\n"
   ]
  },
  {
   "cell_type": "code",
   "execution_count": null,
   "id": "1c4fc73e",
   "metadata": {},
   "outputs": [],
   "source": [
    "#reordering columns according to the funnel order\n",
    "col_order1 = pivot_recommend_A_new.columns.to_list()\n",
    "col_order_new = [col_order1[0], col_order1[2], col_order1[1], col_order1[3]]\n",
    "pivot_recommend_A_new2 = pivot_recommend_A_new.reindex(columns=col_order_new)\n",
    "pivot_recommend_A_new2"
   ]
  },
  {
   "cell_type": "code",
   "execution_count": null,
   "id": "052ad080",
   "metadata": {
    "scrolled": true
   },
   "outputs": [],
   "source": [
    "#Calculating conversion between consecutive funnel stages\n",
    "conv_recommend_A = pd.DataFrame(index = pivot_recommend_A_new2.index)\n",
    "for col_ind, col in enumerate(pivot_recommend_A_new2.columns.to_list()[:-1]):\n",
    "    perc_temp = pivot_recommend_A_new2.iloc[:,col_ind+1] /  pivot_recommend_A_new2.iloc[:,col_ind]\n",
    "    conv_recommend_A = pd.concat([conv_recommend_A, perc_temp], axis=1)\n",
    "conv_recommend_A.columns = ['conv_to page','conv_to_cart','conv_to_purchase']\n",
    "conv_recommend_A.head()\n",
    "\n"
   ]
  },
  {
   "cell_type": "code",
   "execution_count": null,
   "id": "18d2c8e9",
   "metadata": {},
   "outputs": [],
   "source": [
    "#Exrtacting overall conversion from login to purchase per cohort\n",
    "for row in pivot_recommend_A_new2.iterrows():\n",
    "    overall_conversion_recommend_A = pivot_recommend_A_new2.iloc[:,3] /  pivot_recommend_A_new2.iloc[:,0]\n",
    "overall_conversion_recommend_A"
   ]
  },
  {
   "cell_type": "code",
   "execution_count": null,
   "id": "e231330b",
   "metadata": {
    "scrolled": true
   },
   "outputs": [],
   "source": [
    "#Creating a dataframe\n",
    "over_conv1 = pd.DataFrame(overall_conversion_recommend_A, index = conv_recommend_A.index)\n",
    "over_conv1\n"
   ]
  },
  {
   "cell_type": "code",
   "execution_count": null,
   "id": "5c88ca97",
   "metadata": {
    "scrolled": true
   },
   "outputs": [],
   "source": [
    "#adding total conversion by merging df's with conversion data on cohort:\n",
    "conv_recommend_A_new=conv_recommend_A.merge(over_conv1, how='inner', on='cohort')\n",
    "conv_recommend_A_new.rename(columns={0: 'total_conversion'}, inplace=True)\n",
    "conv_recommend_A_new"
   ]
  },
  {
   "cell_type": "code",
   "execution_count": null,
   "id": "dd6644cb",
   "metadata": {},
   "outputs": [],
   "source": [
    "#calculating average conversion per stage relative to the former stage, to have a general reference\n",
    "for col in conv_recommend_A:\n",
    "    avg_conv_recommend_A = conv_recommend_A[col].mean()\n",
    "    print(col, avg_conv_recommend_A)"
   ]
  },
  {
   "cell_type": "code",
   "execution_count": null,
   "id": "4031bfe2",
   "metadata": {
    "scrolled": false
   },
   "outputs": [],
   "source": [
    "#plotting conversion - stage by stage\n",
    "conv_recommend_A.index=conv_recommend_A.index.astype(str)\n",
    "fig, ax = plt.subplots(figsize=(14, 11))\n",
    "sns.heatmap(conv_recommend_A, annot=True, fmt='.1%', linewidths=1, linecolor='grey', cbar_kws= {'orientation': 'horizontal'} \n",
    "            ).set(title = 'Retention rate along the funnel, recommendation system test, group A')\n",
    "plt.show()\n"
   ]
  },
  {
   "cell_type": "markdown",
   "id": "39f90ceb",
   "metadata": {},
   "source": [
    "### Conclusion on conversion for the A control group in the recommendation system a/b test"
   ]
  },
  {
   "cell_type": "markdown",
   "id": "92a0107f",
   "metadata": {},
   "source": [
    "The major problem in the funnel seems to be the relative redundency of the product_cart stage. The fact that the product page probably leads directly to purchases is causing the flow of the funnel to be uncharechtaristic.\n",
    "Other than the \"cohort\" of users who registered on December 12th, most daily conversion rates are well over 100% and the average concversion from cart is a little over 100%.\n",
    "Accordingly, conversion rate to the product cart is unser 50%.\n",
    "After login, some 60% of users get to the product pages., which probabely accounts for the higher throughpuy to purchases, as explained above. \n",
    "Overall conversion in the cohorts (from login to purchase) ran between a minimum of 0.13-0.14 to a maximum of 0.37 in two \"cohorts\". Overall average was around 0.3."
   ]
  },
  {
   "cell_type": "markdown",
   "id": "afe16d8d",
   "metadata": {},
   "source": [
    "### Calculating the funell stats and conversion for the test (B) group of the recommendation system test."
   ]
  },
  {
   "cell_type": "code",
   "execution_count": null,
   "id": "55e53975",
   "metadata": {
    "scrolled": false
   },
   "outputs": [],
   "source": [
    "pivot_recommend_B = pd.pivot_table(all_data_new_recommender_B, index=['cohort'], columns=['event_name'], values=['user_id'], aggfunc='nunique', margins=True)\n",
    "pivot_recommend_B\n"
   ]
  },
  {
   "cell_type": "code",
   "execution_count": null,
   "id": "78146de2",
   "metadata": {
    "scrolled": false
   },
   "outputs": [],
   "source": [
    "col_order2 = pivot_recommend_B.columns.to_list()\n",
    "col_order_new1 = [col_order2[0], col_order2[2], col_order2[1], col_order2[3]]\n",
    "pivot_recommend_B_new = pivot_recommend_B.reindex(columns=col_order_new1)\n",
    "pivot_recommend_B_new"
   ]
  },
  {
   "cell_type": "code",
   "execution_count": null,
   "id": "4a555e4b",
   "metadata": {
    "scrolled": true
   },
   "outputs": [],
   "source": [
    "conv_recommend_B = pd.DataFrame(index = pivot_recommend_B_new.index)\n",
    "for col_ind, col in enumerate(pivot_recommend_B_new.columns.to_list()[:-1]):\n",
    "    perc_temp1 = pivot_recommend_B_new.iloc[:,col_ind+1] /  pivot_recommend_B_new.iloc[:,col_ind]\n",
    "    conv_recommend_B = pd.concat([conv_recommend_B, perc_temp1], axis=1)\n",
    "conv_recommend_B.columns = ['conv_to page','conv_to_cart','conv_to_purchase']\n",
    "conv_recommend_B\n",
    "\n"
   ]
  },
  {
   "cell_type": "code",
   "execution_count": null,
   "id": "39f6c234",
   "metadata": {
    "scrolled": false
   },
   "outputs": [],
   "source": [
    "for row in pivot_recommend_B_new.iterrows():\n",
    "    overall_conversion_recommend_B = pivot_recommend_B_new.iloc[:,3] /  pivot_recommend_B_new.iloc[:,0]\n",
    "overall_conversion_recommend_B"
   ]
  },
  {
   "cell_type": "code",
   "execution_count": null,
   "id": "eb0f94d1",
   "metadata": {},
   "outputs": [],
   "source": [
    "over_conv2 = pd.DataFrame(overall_conversion_recommend_B, index = conv_recommend_B.index)\n",
    "over_conv2"
   ]
  },
  {
   "cell_type": "code",
   "execution_count": null,
   "id": "5caf2e49",
   "metadata": {
    "scrolled": true
   },
   "outputs": [],
   "source": [
    "#overall_conversion = pd.DataFrame(index = pivot_recommend_A_new2.index)\n",
    "conv_recommend_B_new=conv_recommend_B.merge(over_conv2, how='inner', on='cohort')\n",
    "conv_recommend_B_new.rename(columns={0: 'total_conversion'}, inplace=True)\n",
    "conv_recommend_B_new"
   ]
  },
  {
   "cell_type": "code",
   "execution_count": null,
   "id": "4bb4ce07",
   "metadata": {},
   "outputs": [],
   "source": [
    "for col in conv_recommend_B:\n",
    "    avg_conv_recommend_B = conv_recommend_B[col].mean()\n",
    "    print(col, avg_conv_recommend_B)"
   ]
  },
  {
   "cell_type": "code",
   "execution_count": null,
   "id": "6a284073",
   "metadata": {
    "scrolled": false
   },
   "outputs": [],
   "source": [
    "conv_recommend_B.index=conv_recommend_B.index.astype(str)\n",
    "fig, ax = plt.subplots(figsize=(14, 11))\n",
    "sns.heatmap(conv_recommend_B, annot=True, fmt='.1%', linewidths=1, linecolor='grey', cbar_kws= {'orientation': 'horizontal'} \n",
    "            ).set(title = 'Retention rate along the funnel, recommendation system test, group B')\n",
    "plt.show()\n"
   ]
  },
  {
   "cell_type": "markdown",
   "id": "e07fa05f",
   "metadata": {},
   "source": [
    "### Plotting the funnel:"
   ]
  },
  {
   "cell_type": "code",
   "execution_count": null,
   "id": "94125f55",
   "metadata": {
    "scrolled": true
   },
   "outputs": [],
   "source": [
    "total_a2_recommend = pivot_recommend_A_new2.iloc[-1]"
   ]
  },
  {
   "cell_type": "code",
   "execution_count": null,
   "id": "786c29be",
   "metadata": {},
   "outputs": [],
   "source": [
    "total_a2_recommend"
   ]
  },
  {
   "cell_type": "code",
   "execution_count": null,
   "id": "54e74c30",
   "metadata": {
    "scrolled": true
   },
   "outputs": [],
   "source": [
    "stages = total_a2_recommend.index.levels[1].to_list()[1:]\n",
    "stages"
   ]
  },
  {
   "cell_type": "code",
   "execution_count": null,
   "id": "e1a10647",
   "metadata": {},
   "outputs": [],
   "source": [
    "stages_new = [stages[0], stages[2], stages[1], stages[3]]\n",
    "stages_new"
   ]
  },
  {
   "cell_type": "code",
   "execution_count": null,
   "id": "744c9689",
   "metadata": {},
   "outputs": [],
   "source": [
    "numbers_a_recommend = total_a2_recommend.to_list()\n",
    "numbers_a_recommend "
   ]
  },
  {
   "cell_type": "code",
   "execution_count": null,
   "id": "59f10429",
   "metadata": {},
   "outputs": [],
   "source": [
    "total_b2_recommend = pivot_recommend_B_new.iloc[-1]\n",
    "total_b2_recommend"
   ]
  },
  {
   "cell_type": "code",
   "execution_count": null,
   "id": "be6620d5",
   "metadata": {
    "scrolled": true
   },
   "outputs": [],
   "source": [
    "numbers_b_recommend = total_b2_recommend.to_list()\n",
    "numbers_b_recommend "
   ]
  },
  {
   "cell_type": "markdown",
   "id": "4cf98c48",
   "metadata": {},
   "source": [
    "### Plotting the funnel for A/B test on recommendation system:"
   ]
  },
  {
   "cell_type": "code",
   "execution_count": null,
   "id": "fc251fc7",
   "metadata": {
    "scrolled": false
   },
   "outputs": [],
   "source": [
    "\n",
    "df_grpB = pd.DataFrame(dict(number=numbers_a_recommend, stage=stages_new))\n",
    "df_grpB['group'] = 'B'\n",
    "df_grpA = pd.DataFrame(dict(number=numbers_b_recommend, stage=stages_new))\n",
    "df_grpA['group'] = 'A'\n",
    "df_funnel_recommend = pd.concat([df_grpA, df_grpB], axis=0)\n",
    "fig = px.funnel(df_funnel_recommend, x='number', y='stage', color='group')\n",
    "fig.show()"
   ]
  },
  {
   "cell_type": "markdown",
   "id": "2150b0de",
   "metadata": {},
   "source": [
    "### Conclusion on conversion for the B test group in the recommendation system a/b test"
   ]
  },
  {
   "cell_type": "markdown",
   "id": "6451e265",
   "metadata": {},
   "source": [
    "Not surprisingly we see an even sharper effect of the gap betweeen what the cart delievers and purchases coming from other sources. In group B of the recommendaton test on December 13th there are twice as much purchases as there are cart visits. As this is the smallest group in terms of users, it's notsurprising that volatility here is bigger.\n",
    "Having said that, average conversion rate to purchase is only mildly higher in group B: 1.095 to 1.04 in group A less then 5% improvement. \n",
    "The conversion to the cart is actualy higher - 0.50 in B to 0.45 in A, again, half of the 10% expected improvement. \n",
    "In the case of the product page the trend is reversed and in the A group it had a higher conversion rate of o.63 to 0.52 in B - a fall of over 10%. "
   ]
  },
  {
   "cell_type": "markdown",
   "id": "3de2e8fe",
   "metadata": {},
   "source": [
    "There are two ways to interpret the intentions of the designer of the a/b test: one is that he was expecting a 10% lift in the baseline conversion established in group A, and the second is that he expect a straight increase in conversion of 10%. whether at least two of the funnel stages achieved that is up for interpretation."
   ]
  },
  {
   "cell_type": "markdown",
   "id": "70b60511",
   "metadata": {},
   "source": [
    "Generally, the overall conversion in group B here is also quite volatile ranging from around 0.13 to to 0.35, with an average of 0.28, a little lower then group A."
   ]
  },
  {
   "cell_type": "markdown",
   "id": "3cd457c9",
   "metadata": {},
   "source": [
    "### Calculating the funell stats and conversion for the control (A) group of the interface eu test."
   ]
  },
  {
   "cell_type": "code",
   "execution_count": null,
   "id": "6d500076",
   "metadata": {
    "scrolled": false
   },
   "outputs": [],
   "source": [
    "pivot_interface_A = pd.pivot_table(all_data_new_interface_A, index=['cohort'], columns=['event_name'], values=['user_id'], aggfunc='nunique', margins=True)\n",
    "pivot_interface_A\n"
   ]
  },
  {
   "cell_type": "code",
   "execution_count": null,
   "id": "549a6acc",
   "metadata": {
    "scrolled": false
   },
   "outputs": [],
   "source": [
    "col_orderA = pivot_interface_A.columns.to_list()\n",
    "col_order_newA = [col_orderA[0], col_orderA[2], col_orderA[1], col_orderA[3]]\n",
    "pivot_interface_A_new = pivot_interface_A.reindex(columns=col_order_newA)\n",
    "pivot_interface_A_new"
   ]
  },
  {
   "cell_type": "code",
   "execution_count": null,
   "id": "d024b80b",
   "metadata": {
    "scrolled": false
   },
   "outputs": [],
   "source": [
    "conv_interface_A = pd.DataFrame(index = pivot_interface_A_new.index)\n",
    "for col_ind, col in enumerate(pivot_interface_A_new.columns.to_list()[:-1]):\n",
    "    perc_tempA = pivot_interface_A_new.iloc[:,col_ind+1] /  pivot_interface_A_new.iloc[:,col_ind]\n",
    "    conv_interface_A = pd.concat([conv_interface_A, perc_tempA], axis=1)\n",
    "conv_interface_A.columns = ['conv_to page','conv_to_cart','conv_to_purchase']\n",
    "conv_interface_A\n",
    "\n"
   ]
  },
  {
   "cell_type": "code",
   "execution_count": null,
   "id": "5b07f44c",
   "metadata": {
    "scrolled": false
   },
   "outputs": [],
   "source": [
    "for row in pivot_interface_A_new.iterrows():\n",
    "    overall_conversion_interface_A = pivot_interface_A_new.iloc[:,3] /  pivot_interface_A_new.iloc[:,0]\n",
    "overall_conversion_interface_A"
   ]
  },
  {
   "cell_type": "code",
   "execution_count": null,
   "id": "55bc0e90",
   "metadata": {},
   "outputs": [],
   "source": [
    "over_conv3 = pd.DataFrame(overall_conversion_interface_A, index=conv_interface_A.index)\n",
    "over_conv3"
   ]
  },
  {
   "cell_type": "code",
   "execution_count": null,
   "id": "deae5763",
   "metadata": {
    "scrolled": true
   },
   "outputs": [],
   "source": [
    "# merging all conversion data:\n",
    "conv_interface_A_new=conv_interface_A.merge(over_conv3, how='inner', on='cohort')\n",
    "conv_interface_A_new.rename(columns={0: 'total_conversion'}, inplace=True)\n",
    "conv_interface_A_new"
   ]
  },
  {
   "cell_type": "code",
   "execution_count": null,
   "id": "ed13da42",
   "metadata": {},
   "outputs": [],
   "source": [
    "for col in conv_interface_A:\n",
    "    avg_conv_interface_A = conv_interface_A[col].mean()\n",
    "    print(col, avg_conv_interface_A)"
   ]
  },
  {
   "cell_type": "code",
   "execution_count": null,
   "id": "d04e8164",
   "metadata": {
    "scrolled": false
   },
   "outputs": [],
   "source": [
    "conv_interface_A.index=conv_interface_A.index.astype(str)\n",
    "fig, ax = plt.subplots(figsize=(14, 11))\n",
    "sns.heatmap(conv_interface_A, annot=True, fmt='.1%', linewidths=1, linecolor='grey', cbar_kws= {'orientation': 'horizontal'} \n",
    "            ).set(title = 'Retention rate along the funnel, interface eu test, group A')\n",
    "plt.show()\n"
   ]
  },
  {
   "cell_type": "markdown",
   "id": "28a8c207",
   "metadata": {},
   "source": [
    "### Conclusion on conversion for the A test group in the interface EU  a/b test"
   ]
  },
  {
   "cell_type": "markdown",
   "id": "71ff802c",
   "metadata": {},
   "source": [
    "The same pattern is observed here: artificially higher conversion for purchase because of the possible bypass of the cart.\n",
    "Volatility here seems a bit lower then the recommendation system test. The highest conversion on purchase is 123% on December 14th, wheras for A group in the other test it was as high as 140% and for it's B group it was 200%.\n",
    "The lowest conversion rate for cart is around 40%, whereas in the recommendation system test it got as low as 28% and 30% in groups A and B respectively.\n",
    "Overall conversion is higher and pretty steady then in both groups of the recommendation system test. The average overall conversion is over 0.35, with a low of 0.32 and a high of 0.39."
   ]
  },
  {
   "cell_type": "markdown",
   "id": "fadba047",
   "metadata": {},
   "source": [
    "### Calculating the funell stats and conversion for the test (B) group of the interface eu test."
   ]
  },
  {
   "cell_type": "code",
   "execution_count": null,
   "id": "c4e2fe00",
   "metadata": {
    "scrolled": false
   },
   "outputs": [],
   "source": [
    "pivot_interface_B = pd.pivot_table(all_data_new_interface_B, index=['cohort'], columns=['event_name'], values=['user_id'], aggfunc='nunique', margins=True)\n",
    "pivot_interface_B\n"
   ]
  },
  {
   "cell_type": "code",
   "execution_count": null,
   "id": "a37802f9",
   "metadata": {
    "scrolled": false
   },
   "outputs": [],
   "source": [
    "col_orderB = pivot_interface_B.columns.to_list()\n",
    "col_order_newB = [col_orderB[0], col_orderB[2], col_orderB[1], col_orderB[3]]\n",
    "pivot_interface_B_new = pivot_interface_B.reindex(columns=col_order_newB)\n",
    "pivot_interface_B_new"
   ]
  },
  {
   "cell_type": "code",
   "execution_count": null,
   "id": "26bfa2d1",
   "metadata": {
    "scrolled": false
   },
   "outputs": [],
   "source": [
    "conv_interface_B = pd.DataFrame(index = pivot_interface_B_new.index)\n",
    "for col_ind, col in enumerate(pivot_interface_B_new.columns.to_list()[:-1]):\n",
    "    perc_tempB = pivot_interface_B_new.iloc[:,col_ind+1] /  pivot_interface_B_new.iloc[:,col_ind]\n",
    "    conv_interface_B = pd.concat([conv_interface_B, perc_tempB], axis=1)\n",
    "conv_interface_B.columns = ['conv_to page','conv_to_cart','conv_to_purchase']\n",
    "conv_interface_B"
   ]
  },
  {
   "cell_type": "code",
   "execution_count": null,
   "id": "a4fdefe4",
   "metadata": {
    "scrolled": false
   },
   "outputs": [],
   "source": [
    "for row in pivot_interface_B_new.iterrows():\n",
    "    overall_conversion_interface_B = pivot_interface_B_new.iloc[:,3] /  pivot_interface_B_new.iloc[:,0]\n",
    "overall_conversion_interface_B"
   ]
  },
  {
   "cell_type": "code",
   "execution_count": null,
   "id": "b4ca2ba1",
   "metadata": {},
   "outputs": [],
   "source": [
    "over_conv4 = pd.DataFrame(overall_conversion_interface_B, index=conv_interface_B.index)\n",
    "over_conv4"
   ]
  },
  {
   "cell_type": "code",
   "execution_count": null,
   "id": "209576dc",
   "metadata": {
    "scrolled": true
   },
   "outputs": [],
   "source": [
    "conv_interface_B_new=conv_interface_B.merge(over_conv4, how='inner', on='cohort')\n",
    "conv_interface_B_new.rename(columns={0: 'total_conversion'}, inplace=True)\n",
    "conv_interface_B_new"
   ]
  },
  {
   "cell_type": "code",
   "execution_count": null,
   "id": "05af3aa2",
   "metadata": {},
   "outputs": [],
   "source": [
    "for col in conv_interface_B:\n",
    "    avg_conv_interface_B = conv_interface_B[col].mean()\n",
    "    print(col, avg_conv_interface_B)"
   ]
  },
  {
   "cell_type": "code",
   "execution_count": null,
   "id": "26baecba",
   "metadata": {
    "scrolled": false
   },
   "outputs": [],
   "source": [
    "conv_interface_B.index=conv_interface_B.index.astype(str)\n",
    "fig, ax = plt.subplots(figsize=(14, 11))\n",
    "sns.heatmap(conv_interface_B, annot=True, fmt='.1%', linewidths=1, linecolor='grey', cbar_kws= {'orientation': 'horizontal'} \n",
    "            ).set(title = 'Retention rate along the funnel, interface eu test, group B')\n",
    "plt.show()\n"
   ]
  },
  {
   "cell_type": "markdown",
   "id": "2cc98d7d",
   "metadata": {},
   "source": [
    "### Conclusion on conversion for the B test group in the interface EU  a/b test"
   ]
  },
  {
   "cell_type": "markdown",
   "id": "3725488a",
   "metadata": {},
   "source": [
    "Conversion in the test group of the interface eu test group is a bit down (under 100%), compared to all other groups. Cart conversion is a very similar to the A group of the same test, as is the conversion to the product page.\n",
    "Overall conversion in both group a and b is much less volatile then the other test. Group B of the interfacetest seems to display a slightly lower average conversion rate of 0.33 compared to over 0.35 in group A."
   ]
  },
  {
   "cell_type": "markdown",
   "id": "f52d02c4",
   "metadata": {},
   "source": [
    "### Plotting the funnel for A/B test on interface eu:"
   ]
  },
  {
   "cell_type": "code",
   "execution_count": null,
   "id": "6c34cbd2",
   "metadata": {
    "scrolled": true
   },
   "outputs": [],
   "source": [
    "total_a2_interface = pivot_interface_A_new.iloc[-1]"
   ]
  },
  {
   "cell_type": "code",
   "execution_count": null,
   "id": "9fb864b7",
   "metadata": {},
   "outputs": [],
   "source": [
    "total_a2_interface"
   ]
  },
  {
   "cell_type": "code",
   "execution_count": null,
   "id": "d66038f3",
   "metadata": {},
   "outputs": [],
   "source": [
    "numbers_a_interface = total_a2_interface.to_list()\n",
    "numbers_a_interface "
   ]
  },
  {
   "cell_type": "code",
   "execution_count": null,
   "id": "f0497b75",
   "metadata": {},
   "outputs": [],
   "source": [
    "total_b2_interface = pivot_interface_B_new.iloc[-1]\n",
    "total_b2_interface"
   ]
  },
  {
   "cell_type": "code",
   "execution_count": null,
   "id": "46f6f166",
   "metadata": {
    "scrolled": true
   },
   "outputs": [],
   "source": [
    "numbers_b_interface = total_b2_interface.to_list()\n",
    "numbers_b_interface "
   ]
  },
  {
   "cell_type": "code",
   "execution_count": null,
   "id": "b512c969",
   "metadata": {},
   "outputs": [],
   "source": [
    "df_grpB2 = pd.DataFrame(dict(number=numbers_b_interface, stage=stages_new))\n",
    "df_grpB2['group'] = 'B'\n",
    "df_grpA2 = pd.DataFrame(dict(number=numbers_a_interface, stage=stages_new))\n",
    "df_grpA2['group'] = 'A'\n",
    "df_funnel_interface = pd.concat([df_grpA2, df_grpB2], axis=0)\n",
    "fig = px.funnel(df_funnel_interface, x='number', y='stage', color='group')\n",
    "fig.show()"
   ]
  },
  {
   "cell_type": "markdown",
   "id": "c350d134",
   "metadata": {},
   "source": [
    "### Cunclusions on funnel:\n",
    "Funnel seems much more symetrical (and thus equal in size and conversion ratios) for groups A and B of the interface EU test, then the recommendation system test."
   ]
  },
  {
   "cell_type": "markdown",
   "id": "94a940b0",
   "metadata": {},
   "source": [
    "### Performing a Z test on overall conversion rate \n",
    "from login to purchase on both tests:"
   ]
  },
  {
   "cell_type": "markdown",
   "id": "b540b943",
   "metadata": {},
   "source": [
    "## 1. Recommendation system z-test:"
   ]
  },
  {
   "cell_type": "code",
   "execution_count": null,
   "id": "d8095575",
   "metadata": {
    "scrolled": false
   },
   "outputs": [],
   "source": [
    "pivot_recommend_A_new2.reset_index()"
   ]
  },
  {
   "cell_type": "markdown",
   "id": "40028f9c",
   "metadata": {},
   "source": [
    "Extracting overall conversion in A (purchases/logins) and total login events"
   ]
  },
  {
   "cell_type": "code",
   "execution_count": null,
   "id": "114ae8df",
   "metadata": {},
   "outputs": [],
   "source": [
    "proportion_recommend_a = pivot_recommend_A_new2.iloc[len(pivot_recommend_A_new2)-1,3] / pivot_recommend_A_new2.iloc[len(pivot_recommend_A_new2)-1,0]\n",
    "proportion_recommend_a"
   ]
  },
  {
   "cell_type": "code",
   "execution_count": null,
   "id": "03b48043",
   "metadata": {},
   "outputs": [],
   "source": [
    "stat_recommend_a = pivot_recommend_A_new2.iloc[len(pivot_recommend_A_new2)-1,0]\n",
    "stat_recommend_a"
   ]
  },
  {
   "cell_type": "markdown",
   "id": "efbf1481",
   "metadata": {},
   "source": [
    "Extracting the same valuse for B group of the recommendation system a/b test:"
   ]
  },
  {
   "cell_type": "code",
   "execution_count": null,
   "id": "ce4d72a0",
   "metadata": {
    "scrolled": false
   },
   "outputs": [],
   "source": [
    "pivot_recommend_B_new.reset_index()"
   ]
  },
  {
   "cell_type": "code",
   "execution_count": null,
   "id": "79eed525",
   "metadata": {},
   "outputs": [],
   "source": [
    "proportion_recommend_b = pivot_recommend_B_new.iloc[len(pivot_recommend_B_new)-1,3] / pivot_recommend_B_new.iloc[len(pivot_recommend_B_new)-1,0]\n",
    "proportion_recommend_b"
   ]
  },
  {
   "cell_type": "code",
   "execution_count": null,
   "id": "6a8fc678",
   "metadata": {},
   "outputs": [],
   "source": [
    "stat_recommend_b = pivot_recommend_B_new.iloc[len(pivot_recommend_B_new)-1,0]\n",
    "stat_recommend_b"
   ]
  },
  {
   "cell_type": "markdown",
   "id": "062dc101",
   "metadata": {},
   "source": [
    "### Performing Z-test on the overall conversion (purchase/login) new recommendation system a/b test:"
   ]
  },
  {
   "cell_type": "markdown",
   "id": "d9981e4a",
   "metadata": {},
   "source": [
    "#### H0:  There is no significant difference between the ratio of purchases to login events between groups A and B "
   ]
  },
  {
   "cell_type": "markdown",
   "id": "a1a92115",
   "metadata": {},
   "source": [
    "#### H1: There is a significant difference between the ratio of purchases to login events between groups A and B"
   ]
  },
  {
   "cell_type": "code",
   "execution_count": null,
   "id": "6ac9395d",
   "metadata": {
    "scrolled": true
   },
   "outputs": [],
   "source": [
    "alpha = .05 # significance level\n",
    "\n",
    "# success proportion in the first group:\n",
    "p1 = proportion_recommend_b\n",
    "\n",
    "# success proportion in the second group:\n",
    "p2 = proportion_recommend_a\n",
    "\n",
    "# success proportion in the combined dataset:\n",
    "p_combined = (pivot_recommend_A_new2.iloc[len(pivot_recommend_A_new2)-1,3] + pivot_recommend_B_new.iloc[len(pivot_recommend_B_new)-1,3]) / (pivot_recommend_A_new2.iloc[len(pivot_recommend_A_new2)-1,0] + pivot_recommend_B_new.iloc[len(pivot_recommend_B_new)-1,0])\n",
    " \n",
    "# the difference between the datasets' proportions:\n",
    "difference = p1 - p2 \n",
    "\n",
    "z_value = difference / mth.sqrt(p_combined * (1 - p_combined) * \n",
    "                                (1/pivot_recommend_A_new2.iloc[len(pivot_recommend_A_new2)-1,0] + 1/pivot_recommend_B_new.iloc[len(pivot_recommend_B_new)-1,0]))\n",
    "\n",
    "distr = st.norm(0, 1)  \n",
    "\n",
    "p_value = (1 - distr.cdf(abs(z_value))) * 2\n",
    "print(p1,p2)\n",
    "\n",
    "\n",
    "print('p-value: ', p_value)\n",
    "\n",
    "if p_value <  alpha:\n",
    "    print(\"Rejecting the null hypothesis: there is a significant difference between the proportions\")\n",
    "else:\n",
    "    print(\"Failed to reject the null hypothesis: there is no reason to consider the proportions different\")"
   ]
  },
  {
   "cell_type": "markdown",
   "id": "2f5eb4b4",
   "metadata": {},
   "source": [
    "## Conclusion on statistical test for recommendation system test:\n",
    "The change of recommendaton system did seem to have an effect on conversion. However with the proportions of samples (number of users) in groups A and B it's unclearif this result is valid and repeatable when proportions of users in the test and control groups are closer."
   ]
  },
  {
   "cell_type": "markdown",
   "id": "3352a49c",
   "metadata": {},
   "source": [
    "### Checking significance of conversion between login and all funnel stages in recommendation system test:"
   ]
  },
  {
   "cell_type": "code",
   "execution_count": null,
   "id": "24293b79",
   "metadata": {
    "scrolled": false
   },
   "outputs": [],
   "source": [
    "pivot_recommend_A_new2"
   ]
  },
  {
   "cell_type": "code",
   "execution_count": null,
   "id": "8ac6c34c",
   "metadata": {},
   "outputs": [],
   "source": [
    "conv_recommend_A_totals = []\n",
    "for col_ind, col in enumerate(pivot_recommend_A_new2.columns.to_list()[:4]):\n",
    "    perc_temp_recom_A_total = pivot_recommend_A_new2.iloc[len(pivot_recommend_A_new2)-1,col_ind] /  pivot_recommend_A_new2.iloc[len(pivot_recommend_A_new2)-1,0]\n",
    "    conv_recommend_A_totals.append(perc_temp_recom_A_total)\n",
    "conv_recommend_A_totals"
   ]
  },
  {
   "cell_type": "code",
   "execution_count": null,
   "id": "5651082c",
   "metadata": {
    "scrolled": false
   },
   "outputs": [],
   "source": [
    "stat_total_recommend_A = []\n",
    "for col_ind, col in enumerate(pivot_recommend_A_new2.columns.to_list()[:4]):\n",
    "    tempA_recom_total = pivot_recommend_A_new2.iloc[len(pivot_recommend_A_new2)-1,col_ind]\n",
    "    stat_total_recommend_A.append(tempA_recom_total)\n",
    "stat_total_recommend_A"
   ]
  },
  {
   "cell_type": "code",
   "execution_count": null,
   "id": "9753970b",
   "metadata": {},
   "outputs": [],
   "source": [
    "pivot_recommend_B_new"
   ]
  },
  {
   "cell_type": "code",
   "execution_count": null,
   "id": "3d107b73",
   "metadata": {
    "scrolled": true
   },
   "outputs": [],
   "source": [
    "conv_recommend_B_totals = []\n",
    "for col_ind, col in enumerate(pivot_recommend_B_new.columns.to_list()[:4]):\n",
    "    perc_temp_recom_B_total = pivot_recommend_B_new.iloc[len(pivot_recommend_B_new)-1,col_ind] /  pivot_recommend_B_new.iloc[len(pivot_recommend_B_new)-1,0]\n",
    "    conv_recommend_B_totals.append(perc_temp_recom_B_total)\n",
    "conv_recommend_B_totals"
   ]
  },
  {
   "cell_type": "code",
   "execution_count": null,
   "id": "af14ea4c",
   "metadata": {
    "scrolled": true
   },
   "outputs": [],
   "source": [
    "stat_total_recommend_B = []\n",
    "for col_ind, col in enumerate(pivot_recommend_B_new.columns.to_list()[:4]):\n",
    "    tempB_recom_total = pivot_recommend_B_new.iloc[len(pivot_recommend_B_new)-1,col_ind]\n",
    "    stat_total_recommend_B.append(tempB_recom_total)\n",
    "stat_total_recommend_B"
   ]
  },
  {
   "cell_type": "code",
   "execution_count": null,
   "id": "90ee63d2",
   "metadata": {},
   "outputs": [],
   "source": [
    "stat_total_recommend_A = pd.Series(stat_total_recommend_A)\n",
    "stat_total_recommend_B = pd.Series(stat_total_recommend_B)"
   ]
  },
  {
   "cell_type": "code",
   "execution_count": null,
   "id": "87603de5",
   "metadata": {
    "scrolled": false
   },
   "outputs": [],
   "source": [
    "stat_recom = pd.DataFrame()\n",
    "stat_recom = pd.concat([stat_total_recommend_A, stat_total_recommend_B], axis=1)\n",
    "stat_recom.rename(columns={0: 'recommend_A_stats', 1: 'recommend_B_stats'}, inplace=True)\n",
    "stat_recom\n"
   ]
  },
  {
   "cell_type": "code",
   "execution_count": null,
   "id": "bf7c7e03",
   "metadata": {},
   "outputs": [],
   "source": [
    "conv_total_recom_A = pd.Series(conv_recommend_A_totals)\n",
    "conv_total_recom_B = pd.Series(conv_recommend_B_totals)"
   ]
  },
  {
   "cell_type": "code",
   "execution_count": null,
   "id": "0720785d",
   "metadata": {},
   "outputs": [],
   "source": [
    "stat_recom_conv = pd.concat([conv_total_recom_A, conv_total_recom_B], axis=1)\n",
    "stat_recom_conv.rename(columns={0: 'conv_recom_a', 1: 'conv_recom_b'}, inplace=True)\n",
    "stat_recom_conv"
   ]
  },
  {
   "cell_type": "code",
   "execution_count": null,
   "id": "02cbaf21",
   "metadata": {},
   "outputs": [],
   "source": [
    "recom_total_stats = pd.concat([stat_recom, stat_recom_conv], axis=1)\n",
    "recom_total_stats"
   ]
  },
  {
   "cell_type": "code",
   "execution_count": null,
   "id": "48f38fa4",
   "metadata": {
    "scrolled": false
   },
   "outputs": [],
   "source": [
    "new_index_conv = [events.event_name.unique()[::-1]]\n",
    "recom_total_stats = recom_total_stats.set_axis(new_index_conv[:], axis='index')"
   ]
  },
  {
   "cell_type": "code",
   "execution_count": null,
   "id": "fa1608e2",
   "metadata": {
    "scrolled": true
   },
   "outputs": [],
   "source": [
    "recom_total_stats"
   ]
  },
  {
   "cell_type": "markdown",
   "id": "b2c79878",
   "metadata": {},
   "source": [
    "### H0: for every funnel stage, there is no significant difference between the conversion rate from the login stage to that stage between groups A and B of the recommendation system test"
   ]
  },
  {
   "cell_type": "markdown",
   "id": "9c42bb80",
   "metadata": {},
   "source": [
    "### H1: for every funnel stage, there is a significant difference between the conversion ratio from login to that stage between groups A and B of the recommendation system test"
   ]
  },
  {
   "cell_type": "code",
   "execution_count": null,
   "id": "d922e18b",
   "metadata": {},
   "outputs": [],
   "source": [
    "recom_total_stats.iloc[1,3]"
   ]
  },
  {
   "cell_type": "code",
   "execution_count": null,
   "id": "4c20c635",
   "metadata": {
    "scrolled": true
   },
   "outputs": [],
   "source": [
    "alpha = .05 # significance level\n",
    "distr = st.norm(0, 1)  \n",
    "n=1\n",
    "\n",
    "for col_ind, col in enumerate(recom_total_stats.columns.to_list()[:3]):\n",
    "    p1 = recom_total_stats.iloc[n,3]\n",
    "    p2 = recom_total_stats.iloc[n,2]\n",
    "    p_combined = (recom_total_stats.iloc[n,0] + recom_total_stats.iloc[n,1]) / (recom_total_stats.iloc[0,0] + recom_total_stats.iloc[0,1])\n",
    "    difference = p1 - p2 \n",
    "    z_value = difference / mth.sqrt(p_combined * (1 - p_combined) * \n",
    "                                (1/recom_total_stats.iloc[0,1] + 1/recom_total_stats.iloc[0,0]))\n",
    "    n=n+1\n",
    "    p_value = (1 - distr.cdf(abs(z_value))) * 2\n",
    "    print(p1,p2)\n",
    "    print('p-value: ', p_value)\n",
    "    if p_value <  alpha:\n",
    "        print(\"Rejecting the null hypothesis for {}: there is a significant difference between the proportions\".format(stages_new[n-1]))\n",
    "    else:\n",
    "        print(\"Failed to reject the null hypothesis for {}: there is no reason to consider the proportions different\".format(stages_new[n-1]))"
   ]
  },
  {
   "cell_type": "markdown",
   "id": "1ba4e433",
   "metadata": {},
   "source": [
    "### conclusion on different funnel stages conversion rate relative to login in recommendation system test:\n",
    "There was a significant difference in the conversion to the product page. However, no significant changes were detected in later stages of the funnel. Lessons may be learned as far as changes made to the product page, but this is to be taken with a grain of salt because of the problematic conditions in which the test was conducted. "
   ]
  },
  {
   "cell_type": "markdown",
   "id": "9c38f617",
   "metadata": {},
   "source": [
    "## 2. Interface EU Z-test"
   ]
  },
  {
   "cell_type": "code",
   "execution_count": null,
   "id": "d00b9f1a",
   "metadata": {
    "scrolled": true
   },
   "outputs": [],
   "source": [
    "pivot_interface_A_new.reset_index()"
   ]
  },
  {
   "cell_type": "markdown",
   "id": "260a02eb",
   "metadata": {},
   "source": [
    "Extracting overall conversion in A (purchases/logins) and total login events"
   ]
  },
  {
   "cell_type": "code",
   "execution_count": null,
   "id": "ae80ff2d",
   "metadata": {},
   "outputs": [],
   "source": [
    "proportion_interface_a = pivot_interface_A_new.iloc[len(pivot_interface_A_new)-1,3] / pivot_interface_A_new.iloc[len(pivot_interface_A_new)-1,0]\n",
    "proportion_interface_a"
   ]
  },
  {
   "cell_type": "code",
   "execution_count": null,
   "id": "e3ec764e",
   "metadata": {},
   "outputs": [],
   "source": [
    "stat_interface_a = pivot_interface_A_new.iloc[len(pivot_interface_A_new)-1,0]\n",
    "stat_interface_a"
   ]
  },
  {
   "cell_type": "markdown",
   "id": "c98396bc",
   "metadata": {},
   "source": [
    "Extracting all valuse for B group of the interface EU a/b test:"
   ]
  },
  {
   "cell_type": "code",
   "execution_count": null,
   "id": "4b7b3a6f",
   "metadata": {
    "scrolled": true
   },
   "outputs": [],
   "source": [
    "pivot_interface_B_new.reset_index()"
   ]
  },
  {
   "cell_type": "code",
   "execution_count": null,
   "id": "73953c08",
   "metadata": {},
   "outputs": [],
   "source": [
    "proportion_interface_b = pivot_interface_B_new.iloc[len(pivot_interface_B_new)-1,3] / pivot_interface_B_new.iloc[len(pivot_interface_B_new)-1,0]\n",
    "proportion_interface_b"
   ]
  },
  {
   "cell_type": "code",
   "execution_count": null,
   "id": "3c40f987",
   "metadata": {},
   "outputs": [],
   "source": [
    "stat_interface_b = pivot_interface_B_new.iloc[len(pivot_interface_B_new)-1,0]\n",
    "stat_interface_b"
   ]
  },
  {
   "cell_type": "markdown",
   "id": "3193d31f",
   "metadata": {},
   "source": [
    "### Performing Z-test on the new interface a/b test for login/purchase proportion:"
   ]
  },
  {
   "cell_type": "markdown",
   "id": "d7382a79",
   "metadata": {},
   "source": [
    "#### H0:  There is no significant difference between the ratio of purchases to login events between groups A and B "
   ]
  },
  {
   "cell_type": "markdown",
   "id": "3cec4579",
   "metadata": {},
   "source": [
    "#### H1: There is a significant difference between the ratio of purchases to login events between groups A and B"
   ]
  },
  {
   "cell_type": "code",
   "execution_count": null,
   "id": "dfdaf738",
   "metadata": {
    "scrolled": true
   },
   "outputs": [],
   "source": [
    "alpha = .05 # significance level\n",
    "\n",
    "# success proportion in the first group:\n",
    "p1i = proportion_interface_b\n",
    "\n",
    "# success proportion in the second group:\n",
    "p2i = proportion_interface_a\n",
    "\n",
    "# success proportion in the combined dataset:\n",
    "p_combinedi = (pivot_interface_A_new.iloc[len(pivot_interface_A_new)-1,3] + pivot_interface_B_new.iloc[len(pivot_interface_B_new)-1,3]) / (stat_interface_a + stat_interface_b)\n",
    " \n",
    "# the difference between the datasets' proportions:\n",
    "differencei = p1i - p2i \n",
    "\n",
    "z_valuei = differencei / mth.sqrt(p_combinedi * (1 - p_combinedi) * (1/stat_interface_a  + 1/stat_interface_b))\n",
    "                                 \n",
    "distri = st.norm(0, 1)  \n",
    "\n",
    "p_valuei = (1 - distri.cdf(abs(z_valuei))) * 2\n",
    "\n",
    "print('p-value: ', p_valuei)\n",
    "\n",
    "if p_valuei <  alpha:\n",
    "    print(\"Rejecting the null hypothesis: there is a significant difference between the proportions of purchase to login in a/b groups\")\n",
    "else:\n",
    "    print(\"Failed to reject the null hypothesis: there is no reason to consider the proportions of purchase to login different between a/b groups\")"
   ]
  },
  {
   "cell_type": "markdown",
   "id": "1314f1f1",
   "metadata": {},
   "source": [
    "## Conclusion on the Z-test for the interface a/b test:\n",
    "The change of interface did seem to have a real effect on conversion. However, this needs to be considered against seasonal variables of end of year / chritmas/ new year's shopping spree and the campaign held at the same time that could have skewed results.\n"
   ]
  },
  {
   "cell_type": "markdown",
   "id": "826e56b6",
   "metadata": {},
   "source": [
    "### Checking significance of conversion between login and all funnel stages in interface EU test:"
   ]
  },
  {
   "cell_type": "code",
   "execution_count": null,
   "id": "9146438e",
   "metadata": {},
   "outputs": [],
   "source": [
    "pivot_interface_A_new"
   ]
  },
  {
   "cell_type": "code",
   "execution_count": null,
   "id": "b7dad19e",
   "metadata": {},
   "outputs": [],
   "source": [
    "conv_interface_A_totals = []\n",
    "for col_ind, col in enumerate(pivot_interface_A_new.columns.to_list()[:4]):\n",
    "    perc_tempA_total = pivot_interface_A_new.iloc[len(pivot_interface_A_new)-1,col_ind] /  pivot_interface_A_new.iloc[len(pivot_interface_A_new)-1,0]\n",
    "    conv_interface_A_totals.append(perc_tempA_total)\n",
    "conv_interface_A_totals"
   ]
  },
  {
   "cell_type": "code",
   "execution_count": null,
   "id": "9ad20ce4",
   "metadata": {
    "scrolled": false
   },
   "outputs": [],
   "source": [
    "stat_total_interface_A = []\n",
    "for col_ind, col in enumerate(pivot_interface_A_new.columns.to_list()[:4]):\n",
    "    tempA_total = pivot_interface_A_new.iloc[len(pivot_interface_A_new)-1,col_ind]\n",
    "    stat_total_interface_A.append(tempA_total)\n",
    "stat_total_interface_A"
   ]
  },
  {
   "cell_type": "markdown",
   "id": "fb0ac873",
   "metadata": {},
   "source": [
    "#### Turning to group b:"
   ]
  },
  {
   "cell_type": "code",
   "execution_count": null,
   "id": "86c44790",
   "metadata": {
    "scrolled": true
   },
   "outputs": [],
   "source": [
    "pivot_interface_B_new"
   ]
  },
  {
   "cell_type": "code",
   "execution_count": null,
   "id": "b702be94",
   "metadata": {},
   "outputs": [],
   "source": [
    "conv_interface_B_totals = []\n",
    "for col_ind, col in enumerate(pivot_interface_B_new.columns.to_list()[:4]):\n",
    "    perc_tempB_total = pivot_interface_B_new.iloc[len(pivot_interface_B_new)-1,col_ind] /  pivot_interface_B_new.iloc[len(pivot_interface_B_new)-1,0]\n",
    "    conv_interface_B_totals.append(perc_tempB_total)\n",
    "conv_interface_B_totals"
   ]
  },
  {
   "cell_type": "code",
   "execution_count": null,
   "id": "123745e7",
   "metadata": {
    "scrolled": true
   },
   "outputs": [],
   "source": [
    "stat_total_interface_B = []\n",
    "for col_ind, col in enumerate(pivot_interface_B_new.columns.to_list()[:4]):\n",
    "    tempB_total = pivot_interface_B_new.iloc[len(pivot_interface_B_new)-1,col_ind]\n",
    "    stat_total_interface_B.append(tempB_total)\n",
    "stat_total_interface_B"
   ]
  },
  {
   "cell_type": "code",
   "execution_count": null,
   "id": "ececd237",
   "metadata": {
    "scrolled": false
   },
   "outputs": [],
   "source": [
    "names_columns = pivot_interface_B_new.columns[:4]\n",
    "names_columns"
   ]
  },
  {
   "cell_type": "code",
   "execution_count": null,
   "id": "d846e68a",
   "metadata": {},
   "outputs": [],
   "source": [
    "stat_total_interface_A = pd.Series(stat_total_interface_A)\n",
    "stat_total_interface_B = pd.Series(stat_total_interface_B)"
   ]
  },
  {
   "cell_type": "code",
   "execution_count": null,
   "id": "33b01e92",
   "metadata": {
    "scrolled": true
   },
   "outputs": [],
   "source": [
    "stat = pd.DataFrame(index = names_columns)\n",
    "stat = pd.concat([stat_total_interface_A, stat_total_interface_B], axis=1)\n",
    "stat.rename(columns={0: 'interface_A_stats', 1: 'interface_B_stats'}, inplace=True)\n",
    "stat\n"
   ]
  },
  {
   "cell_type": "code",
   "execution_count": null,
   "id": "d6feb981",
   "metadata": {},
   "outputs": [],
   "source": [
    "conv_total_A = pd.Series(conv_interface_A_totals)\n",
    "conv_total_B = pd.Series(conv_interface_B_totals)"
   ]
  },
  {
   "cell_type": "code",
   "execution_count": null,
   "id": "40498bc8",
   "metadata": {},
   "outputs": [],
   "source": [
    "stat_interface_total = pd.concat([conv_total_A, conv_total_B], axis=1)\n",
    "stat_interface_total.rename(columns={0: 'conv_interface_a', 1: 'conv_interface_b'}, inplace=True)\n",
    "stat_interface_total"
   ]
  },
  {
   "cell_type": "code",
   "execution_count": null,
   "id": "adc25335",
   "metadata": {},
   "outputs": [],
   "source": [
    "interface_total_stats = pd.concat([stat, stat_interface_total], axis=1)\n",
    "interface_total_stats"
   ]
  },
  {
   "cell_type": "code",
   "execution_count": null,
   "id": "497901d4",
   "metadata": {
    "scrolled": false
   },
   "outputs": [],
   "source": [
    "new_index = stages_new\n",
    "interface_total_stats = interface_total_stats.set_axis(new_index[:], axis='index')\n",
    "interface_total_stats"
   ]
  },
  {
   "cell_type": "markdown",
   "id": "286d4b89",
   "metadata": {},
   "source": [
    "### H0: for every funnel stage, there is no significant difference between the conversion rate from the login stage to that stage between groups A and B"
   ]
  },
  {
   "cell_type": "markdown",
   "id": "64e1944b",
   "metadata": {},
   "source": [
    "### H1: for every funnel stage, there is a significant difference between the conversion ratio from login to that stage between groups A and B"
   ]
  },
  {
   "cell_type": "code",
   "execution_count": null,
   "id": "17135366",
   "metadata": {},
   "outputs": [],
   "source": [
    "alpha = .05 # significance level\n",
    "distr = st.norm(0, 1)  \n",
    "n=1\n",
    "\n",
    "for col_ind, col in enumerate(interface_total_stats.columns.to_list()[:3]):\n",
    "    p1 = interface_total_stats.iloc[n,3]\n",
    "    p2 = interface_total_stats.iloc[n,2]\n",
    "    p_combined = (interface_total_stats.iloc[n,0] + interface_total_stats.iloc[n,1]) / (interface_total_stats.iloc[0,0] + interface_total_stats.iloc[0,1])\n",
    "    difference = p1 - p2 \n",
    "    z_value = difference / mth.sqrt(p_combined * (1 - p_combined) * \n",
    "                                (1/interface_total_stats.iloc[0,1] + 1/interface_total_stats.iloc[0,0]))\n",
    "    n=n+1\n",
    "    p_value = (1 - distr.cdf(abs(z_value))) * 2\n",
    "    print(\"p1 is {}\".format(p1))\n",
    "    print(\"p2 is {}\".format(p2))\n",
    "    print('p-value:', p_value)\n",
    "    if p_value <  alpha:\n",
    "        print(\"Rejecting the null hypothesis for {}: there is a significant difference between the proportions\".format(stages_new[n-1]))\n",
    "    else:\n",
    "        print(\"Failed to reject the null hypothesis for {}: there is no reason to consider the proportions different\".format(stages_new[n-1]))"
   ]
  },
  {
   "cell_type": "markdown",
   "id": "ebae28f6",
   "metadata": {},
   "source": [
    "### Conclusion on all funnel stages converion in interface-eu a/b test:\n",
    "The only significant conversion change between A and B groups was detected on purchases. We failed to detect any other significant change along the funnel."
   ]
  },
  {
   "cell_type": "markdown",
   "id": "9b11a4ec",
   "metadata": {},
   "source": [
    "# Final conclusion"
   ]
  },
  {
   "cell_type": "markdown",
   "id": "2337d0aa",
   "metadata": {},
   "source": [
    "### General \n",
    "The technical description left by my predecessor was largely unaccurate:\n",
    "1. There were two A/B test performed and only one documented. The Interfece EU wasn't described at all.  \n",
    "2. The test that was documented - recommender_system_test - took up new users after the stated date of December 21st (up to the 23rd), and stopped recording data before the crucial period of 14 days postulated for assesing results (data was not recorded after December 30th).\n",
    "3. Expected number of partcipants was close but not at the set number of 6000 for the interface test, and was nowhere near that on the recommendation system test group.\n",
    "\n",
    "### Results:\n",
    "Funnels did show an improved conversion rate, and overall conversion between login and purchase was significant on the interface-eu test and on the product page conversions from login in the recommendation test.\n",
    "However, there are several important things to consider before excepting these resulsts:\n",
    "1. There was a very small test group for the recommendtion system test, and it did show a more volatile overall conversion rate accros different days.\n",
    "2. There may have been a confounding variable which has to do with timing:\n",
    "2.2 End of year/Christmas campaign was carried out during the two tests in North America and the EU, and could have been the cause of better results.\n",
    "2.3 End of year in itself is a hectic shopping time, in which it is hard to assess effects of changes made to the website.\n",
    "\n",
    "### Recommendations:\n",
    "1. Disregars the tests.\n",
    "2. Redesign them and carry them out in the propper time and manner."
   ]
  }
 ],
 "metadata": {
  "ExecuteTimeLog": [
   {
    "duration": 949,
    "start_time": "2022-01-26T17:08:47.250Z"
   },
   {
    "duration": 185,
    "start_time": "2022-01-26T17:08:48.022Z"
   },
   {
    "duration": 168,
    "start_time": "2022-01-26T17:08:48.040Z"
   },
   {
    "duration": 164,
    "start_time": "2022-01-26T17:08:48.045Z"
   },
   {
    "duration": 161,
    "start_time": "2022-01-26T17:08:48.049Z"
   },
   {
    "duration": 153,
    "start_time": "2022-01-26T17:08:48.057Z"
   },
   {
    "duration": 149,
    "start_time": "2022-01-26T17:08:48.062Z"
   },
   {
    "duration": 146,
    "start_time": "2022-01-26T17:08:48.066Z"
   },
   {
    "duration": 143,
    "start_time": "2022-01-26T17:08:48.070Z"
   },
   {
    "duration": 140,
    "start_time": "2022-01-26T17:08:48.074Z"
   },
   {
    "duration": 136,
    "start_time": "2022-01-26T17:08:48.078Z"
   },
   {
    "duration": 134,
    "start_time": "2022-01-26T17:08:48.081Z"
   },
   {
    "duration": 131,
    "start_time": "2022-01-26T17:08:48.085Z"
   },
   {
    "duration": 128,
    "start_time": "2022-01-26T17:08:48.089Z"
   },
   {
    "duration": 126,
    "start_time": "2022-01-26T17:08:48.092Z"
   },
   {
    "duration": 123,
    "start_time": "2022-01-26T17:08:48.095Z"
   },
   {
    "duration": 121,
    "start_time": "2022-01-26T17:08:48.098Z"
   },
   {
    "duration": 119,
    "start_time": "2022-01-26T17:08:48.101Z"
   },
   {
    "duration": 116,
    "start_time": "2022-01-26T17:08:48.105Z"
   },
   {
    "duration": 114,
    "start_time": "2022-01-26T17:08:48.108Z"
   },
   {
    "duration": 111,
    "start_time": "2022-01-26T17:08:48.111Z"
   },
   {
    "duration": 100,
    "start_time": "2022-01-26T17:08:48.123Z"
   },
   {
    "duration": 96,
    "start_time": "2022-01-26T17:08:48.128Z"
   },
   {
    "duration": 94,
    "start_time": "2022-01-26T17:08:48.131Z"
   },
   {
    "duration": 92,
    "start_time": "2022-01-26T17:08:48.134Z"
   },
   {
    "duration": 86,
    "start_time": "2022-01-26T17:08:48.141Z"
   },
   {
    "duration": 83,
    "start_time": "2022-01-26T17:08:48.145Z"
   },
   {
    "duration": 80,
    "start_time": "2022-01-26T17:08:48.148Z"
   },
   {
    "duration": 76,
    "start_time": "2022-01-26T17:08:48.153Z"
   },
   {
    "duration": 74,
    "start_time": "2022-01-26T17:08:48.156Z"
   },
   {
    "duration": 72,
    "start_time": "2022-01-26T17:08:48.160Z"
   },
   {
    "duration": 70,
    "start_time": "2022-01-26T17:08:48.163Z"
   },
   {
    "duration": 67,
    "start_time": "2022-01-26T17:08:48.167Z"
   },
   {
    "duration": 65,
    "start_time": "2022-01-26T17:08:48.170Z"
   },
   {
    "duration": 62,
    "start_time": "2022-01-26T17:08:48.174Z"
   },
   {
    "duration": 60,
    "start_time": "2022-01-26T17:08:48.177Z"
   },
   {
    "duration": 58,
    "start_time": "2022-01-26T17:08:48.180Z"
   },
   {
    "duration": 56,
    "start_time": "2022-01-26T17:08:48.183Z"
   },
   {
    "duration": 53,
    "start_time": "2022-01-26T17:08:48.187Z"
   },
   {
    "duration": 51,
    "start_time": "2022-01-26T17:08:48.190Z"
   },
   {
    "duration": 48,
    "start_time": "2022-01-26T17:08:48.194Z"
   },
   {
    "duration": 46,
    "start_time": "2022-01-26T17:08:48.197Z"
   },
   {
    "duration": 44,
    "start_time": "2022-01-26T17:08:48.200Z"
   },
   {
    "duration": 42,
    "start_time": "2022-01-26T17:08:48.203Z"
   },
   {
    "duration": 39,
    "start_time": "2022-01-26T17:08:48.206Z"
   },
   {
    "duration": 38,
    "start_time": "2022-01-26T17:08:48.209Z"
   },
   {
    "duration": 36,
    "start_time": "2022-01-26T17:08:48.212Z"
   },
   {
    "duration": 33,
    "start_time": "2022-01-26T17:08:48.215Z"
   },
   {
    "duration": 31,
    "start_time": "2022-01-26T17:08:48.218Z"
   },
   {
    "duration": 19,
    "start_time": "2022-01-26T17:08:48.231Z"
   },
   {
    "duration": 14,
    "start_time": "2022-01-26T17:08:48.237Z"
   },
   {
    "duration": 12,
    "start_time": "2022-01-26T17:08:48.240Z"
   },
   {
    "duration": 9,
    "start_time": "2022-01-26T17:08:48.243Z"
   },
   {
    "duration": 6,
    "start_time": "2022-01-26T17:08:48.247Z"
   },
   {
    "duration": 3,
    "start_time": "2022-01-26T17:08:48.250Z"
   },
   {
    "duration": 0,
    "start_time": "2022-01-26T17:08:48.254Z"
   },
   {
    "duration": -4,
    "start_time": "2022-01-26T17:08:48.258Z"
   },
   {
    "duration": -6,
    "start_time": "2022-01-26T17:08:48.261Z"
   },
   {
    "duration": 46,
    "start_time": "2022-01-26T17:08:48.266Z"
   },
   {
    "duration": 43,
    "start_time": "2022-01-26T17:08:48.270Z"
   },
   {
    "duration": 41,
    "start_time": "2022-01-26T17:08:48.273Z"
   },
   {
    "duration": 39,
    "start_time": "2022-01-26T17:08:48.276Z"
   },
   {
    "duration": -100,
    "start_time": "2022-01-26T17:08:48.415Z"
   },
   {
    "duration": -141,
    "start_time": "2022-01-26T17:08:48.457Z"
   },
   {
    "duration": -144,
    "start_time": "2022-01-26T17:08:48.461Z"
   },
   {
    "duration": -146,
    "start_time": "2022-01-26T17:08:48.464Z"
   },
   {
    "duration": -158,
    "start_time": "2022-01-26T17:08:48.477Z"
   },
   {
    "duration": -164,
    "start_time": "2022-01-26T17:08:48.483Z"
   },
   {
    "duration": -167,
    "start_time": "2022-01-26T17:08:48.487Z"
   },
   {
    "duration": -206,
    "start_time": "2022-01-26T17:08:48.527Z"
   },
   {
    "duration": -209,
    "start_time": "2022-01-26T17:08:48.531Z"
   },
   {
    "duration": -211,
    "start_time": "2022-01-26T17:08:48.534Z"
   },
   {
    "duration": -247,
    "start_time": "2022-01-26T17:08:48.571Z"
   },
   {
    "duration": -257,
    "start_time": "2022-01-26T17:08:48.582Z"
   },
   {
    "duration": -261,
    "start_time": "2022-01-26T17:08:48.588Z"
   },
   {
    "duration": -296,
    "start_time": "2022-01-26T17:08:48.624Z"
   },
   {
    "duration": -298,
    "start_time": "2022-01-26T17:08:48.627Z"
   },
   {
    "duration": -331,
    "start_time": "2022-01-26T17:08:48.661Z"
   },
   {
    "duration": -334,
    "start_time": "2022-01-26T17:08:48.665Z"
   },
   {
    "duration": -375,
    "start_time": "2022-01-26T17:08:48.707Z"
   },
   {
    "duration": -379,
    "start_time": "2022-01-26T17:08:48.712Z"
   },
   {
    "duration": -381,
    "start_time": "2022-01-26T17:08:48.715Z"
   },
   {
    "duration": -414,
    "start_time": "2022-01-26T17:08:48.749Z"
   },
   {
    "duration": -417,
    "start_time": "2022-01-26T17:08:48.753Z"
   },
   {
    "duration": -448,
    "start_time": "2022-01-26T17:08:48.785Z"
   },
   {
    "duration": -450,
    "start_time": "2022-01-26T17:08:48.788Z"
   },
   {
    "duration": -487,
    "start_time": "2022-01-26T17:08:48.827Z"
   },
   {
    "duration": -549,
    "start_time": "2022-01-26T17:08:48.889Z"
   },
   {
    "duration": -819,
    "start_time": "2022-01-26T17:08:49.160Z"
   },
   {
    "duration": -937,
    "start_time": "2022-01-26T17:08:49.279Z"
   },
   {
    "duration": -939,
    "start_time": "2022-01-26T17:08:49.282Z"
   },
   {
    "duration": -974,
    "start_time": "2022-01-26T17:08:49.318Z"
   },
   {
    "duration": -1005,
    "start_time": "2022-01-26T17:08:49.350Z"
   },
   {
    "duration": -1007,
    "start_time": "2022-01-26T17:08:49.353Z"
   },
   {
    "duration": -1034,
    "start_time": "2022-01-26T17:08:49.381Z"
   },
   {
    "duration": -1030,
    "start_time": "2022-01-26T17:08:49.441Z"
   },
   {
    "duration": -1034,
    "start_time": "2022-01-26T17:08:49.446Z"
   },
   {
    "duration": -1036,
    "start_time": "2022-01-26T17:08:49.449Z"
   },
   {
    "duration": -1038,
    "start_time": "2022-01-26T17:08:49.452Z"
   },
   {
    "duration": -1041,
    "start_time": "2022-01-26T17:08:49.456Z"
   },
   {
    "duration": -1075,
    "start_time": "2022-01-26T17:08:49.491Z"
   },
   {
    "duration": -1079,
    "start_time": "2022-01-26T17:08:49.496Z"
   },
   {
    "duration": -1083,
    "start_time": "2022-01-26T17:08:49.501Z"
   },
   {
    "duration": -1110,
    "start_time": "2022-01-26T17:08:49.529Z"
   },
   {
    "duration": -1114,
    "start_time": "2022-01-26T17:08:49.533Z"
   },
   {
    "duration": -1150,
    "start_time": "2022-01-26T17:08:49.570Z"
   },
   {
    "duration": -1192,
    "start_time": "2022-01-26T17:08:49.613Z"
   },
   {
    "duration": -1465,
    "start_time": "2022-01-26T17:08:49.887Z"
   },
   {
    "duration": -1601,
    "start_time": "2022-01-26T17:08:50.024Z"
   },
   {
    "duration": -1808,
    "start_time": "2022-01-26T17:08:50.232Z"
   },
   {
    "duration": -1809,
    "start_time": "2022-01-26T17:08:50.235Z"
   },
   {
    "duration": -1811,
    "start_time": "2022-01-26T17:08:50.238Z"
   },
   {
    "duration": -1813,
    "start_time": "2022-01-26T17:08:50.242Z"
   },
   {
    "duration": -1815,
    "start_time": "2022-01-26T17:08:50.245Z"
   },
   {
    "duration": -1817,
    "start_time": "2022-01-26T17:08:50.249Z"
   },
   {
    "duration": -1819,
    "start_time": "2022-01-26T17:08:50.252Z"
   },
   {
    "duration": -1822,
    "start_time": "2022-01-26T17:08:50.256Z"
   },
   {
    "duration": -1823,
    "start_time": "2022-01-26T17:08:50.259Z"
   },
   {
    "duration": -1825,
    "start_time": "2022-01-26T17:08:50.262Z"
   },
   {
    "duration": -1826,
    "start_time": "2022-01-26T17:08:50.265Z"
   },
   {
    "duration": -1828,
    "start_time": "2022-01-26T17:08:50.268Z"
   },
   {
    "duration": -1830,
    "start_time": "2022-01-26T17:08:50.271Z"
   },
   {
    "duration": -1839,
    "start_time": "2022-01-26T17:08:50.282Z"
   },
   {
    "duration": -1842,
    "start_time": "2022-01-26T17:08:50.286Z"
   },
   {
    "duration": -1845,
    "start_time": "2022-01-26T17:08:50.291Z"
   },
   {
    "duration": -1847,
    "start_time": "2022-01-26T17:08:50.294Z"
   },
   {
    "duration": -1849,
    "start_time": "2022-01-26T17:08:50.297Z"
   },
   {
    "duration": -1850,
    "start_time": "2022-01-26T17:08:50.300Z"
   },
   {
    "duration": -1852,
    "start_time": "2022-01-26T17:08:50.303Z"
   },
   {
    "duration": -1855,
    "start_time": "2022-01-26T17:08:50.307Z"
   },
   {
    "duration": -1857,
    "start_time": "2022-01-26T17:08:50.310Z"
   },
   {
    "duration": -1859,
    "start_time": "2022-01-26T17:08:50.313Z"
   },
   {
    "duration": -1862,
    "start_time": "2022-01-26T17:08:50.317Z"
   },
   {
    "duration": -1806,
    "start_time": "2022-01-26T17:08:50.319Z"
   },
   {
    "duration": -1808,
    "start_time": "2022-01-26T17:08:50.323Z"
   },
   {
    "duration": -1810,
    "start_time": "2022-01-26T17:08:50.326Z"
   },
   {
    "duration": -1811,
    "start_time": "2022-01-26T17:08:50.329Z"
   },
   {
    "duration": -1813,
    "start_time": "2022-01-26T17:08:50.332Z"
   },
   {
    "duration": -1815,
    "start_time": "2022-01-26T17:08:50.335Z"
   },
   {
    "duration": -1816,
    "start_time": "2022-01-26T17:08:50.338Z"
   },
   {
    "duration": -1818,
    "start_time": "2022-01-26T17:08:50.342Z"
   },
   {
    "duration": -1819,
    "start_time": "2022-01-26T17:08:50.345Z"
   },
   {
    "duration": -1821,
    "start_time": "2022-01-26T17:08:50.348Z"
   },
   {
    "duration": -1822,
    "start_time": "2022-01-26T17:08:50.350Z"
   },
   {
    "duration": -1824,
    "start_time": "2022-01-26T17:08:50.354Z"
   },
   {
    "duration": -1826,
    "start_time": "2022-01-26T17:08:50.357Z"
   },
   {
    "duration": -1827,
    "start_time": "2022-01-26T17:08:50.360Z"
   },
   {
    "duration": -1829,
    "start_time": "2022-01-26T17:08:50.363Z"
   },
   {
    "duration": 1348,
    "start_time": "2022-01-26T17:09:09.956Z"
   },
   {
    "duration": 274,
    "start_time": "2022-01-26T17:09:32.595Z"
   },
   {
    "duration": 4,
    "start_time": "2022-01-26T17:09:44.521Z"
   },
   {
    "duration": 111,
    "start_time": "2022-01-26T17:09:46.145Z"
   },
   {
    "duration": 11,
    "start_time": "2022-01-26T17:09:47.177Z"
   },
   {
    "duration": 305,
    "start_time": "2022-01-26T17:09:48.001Z"
   },
   {
    "duration": 1790,
    "start_time": "2022-01-26T17:09:48.465Z"
   },
   {
    "duration": 656,
    "start_time": "2022-01-26T17:09:51.120Z"
   },
   {
    "duration": 129,
    "start_time": "2022-01-26T17:10:00.577Z"
   },
   {
    "duration": 6,
    "start_time": "2022-01-26T17:10:01.992Z"
   },
   {
    "duration": 13,
    "start_time": "2022-01-26T17:10:02.760Z"
   },
   {
    "duration": 7,
    "start_time": "2022-01-26T17:10:03.368Z"
   },
   {
    "duration": 7,
    "start_time": "2022-01-26T17:10:04.520Z"
   },
   {
    "duration": 29,
    "start_time": "2022-01-26T17:10:05.136Z"
   },
   {
    "duration": 9,
    "start_time": "2022-01-26T17:10:06.791Z"
   },
   {
    "duration": 19,
    "start_time": "2022-01-26T17:10:07.399Z"
   },
   {
    "duration": 56,
    "start_time": "2022-01-26T17:10:07.776Z"
   },
   {
    "duration": 21,
    "start_time": "2022-01-26T17:10:10.523Z"
   },
   {
    "duration": 3,
    "start_time": "2022-01-26T17:10:10.546Z"
   },
   {
    "duration": 10,
    "start_time": "2022-01-26T17:10:10.551Z"
   },
   {
    "duration": 52,
    "start_time": "2022-01-26T17:10:12.388Z"
   },
   {
    "duration": 274,
    "start_time": "2022-01-26T17:10:12.442Z"
   },
   {
    "duration": 9,
    "start_time": "2022-01-26T17:10:17.022Z"
   },
   {
    "duration": 19,
    "start_time": "2022-01-26T17:10:17.032Z"
   },
   {
    "duration": 92,
    "start_time": "2022-01-26T17:10:17.053Z"
   },
   {
    "duration": 161,
    "start_time": "2022-01-26T17:10:17.147Z"
   },
   {
    "duration": 9,
    "start_time": "2022-01-26T17:10:17.309Z"
   },
   {
    "duration": 18,
    "start_time": "2022-01-26T17:10:17.320Z"
   },
   {
    "duration": 57,
    "start_time": "2022-01-26T17:10:18.846Z"
   },
   {
    "duration": 18,
    "start_time": "2022-01-26T17:10:19.254Z"
   },
   {
    "duration": 752,
    "start_time": "2022-01-26T17:10:22.332Z"
   },
   {
    "duration": 222,
    "start_time": "2022-01-26T17:10:22.864Z"
   },
   {
    "duration": 218,
    "start_time": "2022-01-26T17:10:22.869Z"
   },
   {
    "duration": 214,
    "start_time": "2022-01-26T17:10:22.874Z"
   },
   {
    "duration": 201,
    "start_time": "2022-01-26T17:10:22.888Z"
   },
   {
    "duration": 2,
    "start_time": "2022-01-26T17:10:28.694Z"
   },
   {
    "duration": 12,
    "start_time": "2022-01-26T17:10:29.646Z"
   },
   {
    "duration": 3,
    "start_time": "2022-01-26T17:10:32.574Z"
   },
   {
    "duration": 30,
    "start_time": "2022-01-26T17:10:32.863Z"
   },
   {
    "duration": 2,
    "start_time": "2022-01-26T17:10:34.222Z"
   },
   {
    "duration": 10,
    "start_time": "2022-01-26T17:10:36.653Z"
   },
   {
    "duration": 1675,
    "start_time": "2022-01-26T17:10:37.437Z"
   },
   {
    "duration": 3,
    "start_time": "2022-01-26T17:10:39.392Z"
   },
   {
    "duration": 32,
    "start_time": "2022-01-26T17:10:40.781Z"
   },
   {
    "duration": 10,
    "start_time": "2022-01-26T17:10:40.975Z"
   },
   {
    "duration": 2098,
    "start_time": "2022-01-26T17:10:42.573Z"
   },
   {
    "duration": 6,
    "start_time": "2022-01-26T17:10:44.673Z"
   },
   {
    "duration": 11973,
    "start_time": "2022-01-26T17:10:50.541Z"
   },
   {
    "duration": 104,
    "start_time": "2022-01-26T17:11:02.516Z"
   },
   {
    "duration": 10,
    "start_time": "2022-01-26T17:11:02.623Z"
   },
   {
    "duration": 10,
    "start_time": "2022-01-26T17:11:02.635Z"
   },
   {
    "duration": 79,
    "start_time": "2022-01-26T17:11:02.646Z"
   },
   {
    "duration": 5,
    "start_time": "2022-01-26T17:11:02.727Z"
   },
   {
    "duration": 11,
    "start_time": "2022-01-26T17:11:02.733Z"
   },
   {
    "duration": 15,
    "start_time": "2022-01-26T17:11:02.747Z"
   },
   {
    "duration": 50,
    "start_time": "2022-01-26T17:11:02.764Z"
   },
   {
    "duration": 12,
    "start_time": "2022-01-26T17:11:12.475Z"
   },
   {
    "duration": 11,
    "start_time": "2022-01-26T17:11:12.647Z"
   },
   {
    "duration": 20,
    "start_time": "2022-01-26T17:11:13.155Z"
   },
   {
    "duration": 12,
    "start_time": "2022-01-26T17:11:13.618Z"
   },
   {
    "duration": 16,
    "start_time": "2022-01-26T17:11:14.212Z"
   },
   {
    "duration": 9,
    "start_time": "2022-01-26T17:11:14.571Z"
   },
   {
    "duration": 13,
    "start_time": "2022-01-26T17:11:15.061Z"
   },
   {
    "duration": 32,
    "start_time": "2022-01-26T17:11:15.627Z"
   },
   {
    "duration": 14,
    "start_time": "2022-01-26T17:11:15.986Z"
   },
   {
    "duration": 20,
    "start_time": "2022-01-26T17:11:16.339Z"
   },
   {
    "duration": 9,
    "start_time": "2022-01-26T17:11:16.554Z"
   },
   {
    "duration": 10,
    "start_time": "2022-01-26T17:11:16.907Z"
   },
   {
    "duration": 36,
    "start_time": "2022-01-26T17:11:17.099Z"
   },
   {
    "duration": 226,
    "start_time": "2022-01-26T17:11:17.595Z"
   },
   {
    "duration": 200,
    "start_time": "2022-01-26T17:11:22.979Z"
   },
   {
    "duration": 11,
    "start_time": "2022-01-26T17:11:23.219Z"
   },
   {
    "duration": 170,
    "start_time": "2022-01-26T17:11:23.401Z"
   },
   {
    "duration": 12,
    "start_time": "2022-01-26T17:11:23.578Z"
   },
   {
    "duration": 65,
    "start_time": "2022-01-26T17:11:23.913Z"
   },
   {
    "duration": 31,
    "start_time": "2022-01-26T17:11:24.094Z"
   },
   {
    "duration": 13,
    "start_time": "2022-01-26T17:11:24.240Z"
   },
   {
    "duration": 14,
    "start_time": "2022-01-26T17:11:24.570Z"
   },
   {
    "duration": 14,
    "start_time": "2022-01-26T17:11:24.755Z"
   },
   {
    "duration": 14,
    "start_time": "2022-01-26T17:11:25.258Z"
   },
   {
    "duration": 10,
    "start_time": "2022-01-26T17:11:25.586Z"
   },
   {
    "duration": 37,
    "start_time": "2022-01-26T17:11:25.946Z"
   },
   {
    "duration": 324,
    "start_time": "2022-01-26T17:11:26.122Z"
   },
   {
    "duration": 187,
    "start_time": "2022-01-26T17:11:26.261Z"
   },
   {
    "duration": 31,
    "start_time": "2022-01-26T17:11:26.473Z"
   },
   {
    "duration": 16,
    "start_time": "2022-01-26T17:11:27.010Z"
   },
   {
    "duration": 2,
    "start_time": "2022-01-26T17:11:31.651Z"
   },
   {
    "duration": 36,
    "start_time": "2022-01-26T17:11:32.074Z"
   },
   {
    "duration": 33,
    "start_time": "2022-01-26T17:11:32.394Z"
   },
   {
    "duration": 17,
    "start_time": "2022-01-26T17:11:33.762Z"
   },
   {
    "duration": 23,
    "start_time": "2022-01-26T17:11:34.146Z"
   },
   {
    "duration": 13,
    "start_time": "2022-01-26T17:11:34.507Z"
   },
   {
    "duration": 24,
    "start_time": "2022-01-26T17:11:34.851Z"
   },
   {
    "duration": 14,
    "start_time": "2022-01-26T17:11:35.122Z"
   },
   {
    "duration": 14,
    "start_time": "2022-01-26T17:11:35.345Z"
   },
   {
    "duration": 25,
    "start_time": "2022-01-26T17:11:35.577Z"
   },
   {
    "duration": 11,
    "start_time": "2022-01-26T17:11:35.986Z"
   },
   {
    "duration": 7,
    "start_time": "2022-01-26T17:11:36.190Z"
   },
   {
    "duration": 21,
    "start_time": "2022-01-26T17:11:36.570Z"
   },
   {
    "duration": 22,
    "start_time": "2022-01-26T17:11:36.913Z"
   },
   {
    "duration": 268,
    "start_time": "2022-01-26T17:11:37.109Z"
   },
   {
    "duration": 41,
    "start_time": "2022-01-26T17:11:37.379Z"
   },
   {
    "duration": 26,
    "start_time": "2022-01-26T17:11:37.448Z"
   },
   {
    "duration": 419,
    "start_time": "2022-01-26T17:11:37.621Z"
   },
   {
    "duration": 8,
    "start_time": "2022-01-26T17:11:38.162Z"
   },
   {
    "duration": 8,
    "start_time": "2022-01-26T17:11:38.205Z"
   },
   {
    "duration": 21,
    "start_time": "2022-01-26T17:11:38.795Z"
   },
   {
    "duration": 12,
    "start_time": "2022-01-26T17:11:38.976Z"
   },
   {
    "duration": 226,
    "start_time": "2022-01-26T17:11:40.334Z"
   },
   {
    "duration": 16,
    "start_time": "2022-01-26T17:11:40.562Z"
   },
   {
    "duration": 13,
    "start_time": "2022-01-26T17:11:40.580Z"
   },
   {
    "duration": 243,
    "start_time": "2022-01-26T17:11:40.612Z"
   },
   {
    "duration": 7,
    "start_time": "2022-01-26T17:11:40.856Z"
   },
   {
    "duration": 7,
    "start_time": "2022-01-26T17:11:40.864Z"
   },
   {
    "duration": 13,
    "start_time": "2022-01-26T17:11:40.872Z"
   },
   {
    "duration": 33,
    "start_time": "2022-01-26T17:11:40.886Z"
   },
   {
    "duration": 284,
    "start_time": "2022-01-26T17:11:41.061Z"
   },
   {
    "duration": 5,
    "start_time": "2022-01-26T17:11:41.346Z"
   },
   {
    "duration": 4,
    "start_time": "2022-01-26T17:11:41.400Z"
   },
   {
    "duration": 7,
    "start_time": "2022-01-26T17:11:42.033Z"
   },
   {
    "duration": 193,
    "start_time": "2022-01-26T17:11:42.234Z"
   },
   {
    "duration": 351,
    "start_time": "2022-01-26T17:11:42.835Z"
   },
   {
    "duration": 636,
    "start_time": "2022-01-26T17:11:44.307Z"
   },
   {
    "duration": 6,
    "start_time": "2022-01-26T17:11:44.945Z"
   },
   {
    "duration": 213,
    "start_time": "2022-01-26T17:11:44.953Z"
   },
   {
    "duration": 211,
    "start_time": "2022-01-26T17:11:45.167Z"
   },
   {
    "duration": 9242,
    "start_time": "2022-01-26T17:11:45.379Z"
   },
   {
    "duration": 191,
    "start_time": "2022-01-26T17:11:54.432Z"
   },
   {
    "duration": 188,
    "start_time": "2022-01-26T17:11:54.436Z"
   },
   {
    "duration": 186,
    "start_time": "2022-01-26T17:11:54.439Z"
   },
   {
    "duration": 176,
    "start_time": "2022-01-26T17:11:54.449Z"
   },
   {
    "duration": 171,
    "start_time": "2022-01-26T17:11:54.455Z"
   },
   {
    "duration": 168,
    "start_time": "2022-01-26T17:11:54.459Z"
   },
   {
    "duration": 165,
    "start_time": "2022-01-26T17:11:54.463Z"
   },
   {
    "duration": 163,
    "start_time": "2022-01-26T17:11:54.466Z"
   },
   {
    "duration": 160,
    "start_time": "2022-01-26T17:11:54.470Z"
   },
   {
    "duration": 158,
    "start_time": "2022-01-26T17:11:54.473Z"
   },
   {
    "duration": 8121,
    "start_time": "2022-01-26T17:11:54.632Z"
   },
   {
    "duration": 184,
    "start_time": "2022-01-26T17:12:02.571Z"
   },
   {
    "duration": 167,
    "start_time": "2022-01-26T17:12:02.589Z"
   },
   {
    "duration": 164,
    "start_time": "2022-01-26T17:12:02.593Z"
   },
   {
    "duration": 161,
    "start_time": "2022-01-26T17:12:02.597Z"
   },
   {
    "duration": 148,
    "start_time": "2022-01-26T17:12:02.611Z"
   },
   {
    "duration": 139,
    "start_time": "2022-01-26T17:12:02.621Z"
   },
   {
    "duration": 137,
    "start_time": "2022-01-26T17:12:02.624Z"
   },
   {
    "duration": 133,
    "start_time": "2022-01-26T17:12:02.629Z"
   },
   {
    "duration": 130,
    "start_time": "2022-01-26T17:12:02.633Z"
   },
   {
    "duration": 127,
    "start_time": "2022-01-26T17:12:02.637Z"
   },
   {
    "duration": 125,
    "start_time": "2022-01-26T17:12:02.640Z"
   },
   {
    "duration": 122,
    "start_time": "2022-01-26T17:12:02.644Z"
   },
   {
    "duration": 120,
    "start_time": "2022-01-26T17:12:02.648Z"
   },
   {
    "duration": 116,
    "start_time": "2022-01-26T17:12:02.652Z"
   },
   {
    "duration": 113,
    "start_time": "2022-01-26T17:12:02.656Z"
   },
   {
    "duration": 98,
    "start_time": "2022-01-26T17:12:02.672Z"
   },
   {
    "duration": 84,
    "start_time": "2022-01-26T17:12:02.687Z"
   },
   {
    "duration": 80,
    "start_time": "2022-01-26T17:12:02.693Z"
   },
   {
    "duration": 77,
    "start_time": "2022-01-26T17:12:02.697Z"
   },
   {
    "duration": 65,
    "start_time": "2022-01-26T17:12:02.711Z"
   },
   {
    "duration": 58,
    "start_time": "2022-01-26T17:12:02.719Z"
   },
   {
    "duration": 57,
    "start_time": "2022-01-26T17:12:02.723Z"
   },
   {
    "duration": 54,
    "start_time": "2022-01-26T17:12:02.727Z"
   },
   {
    "duration": 51,
    "start_time": "2022-01-26T17:12:02.731Z"
   },
   {
    "duration": 22,
    "start_time": "2022-01-26T17:14:29.288Z"
   },
   {
    "duration": 12509,
    "start_time": "2022-01-26T17:14:50.045Z"
   },
   {
    "duration": -2587,
    "start_time": "2022-01-26T17:15:05.143Z"
   },
   {
    "duration": -2606,
    "start_time": "2022-01-26T17:15:05.163Z"
   },
   {
    "duration": 288,
    "start_time": "2022-01-26T17:15:05.276Z"
   },
   {
    "duration": 234,
    "start_time": "2022-01-26T17:15:05.332Z"
   },
   {
    "duration": 105597,
    "start_time": "2022-01-26T17:15:17.643Z"
   },
   {
    "duration": 4,
    "start_time": "2022-01-26T17:17:34.629Z"
   },
   {
    "duration": 6971,
    "start_time": "2022-01-26T17:17:51.621Z"
   },
   {
    "duration": 24,
    "start_time": "2022-01-26T17:18:20.107Z"
   },
   {
    "duration": 7754,
    "start_time": "2022-01-26T17:18:26.475Z"
   },
   {
    "duration": 42160,
    "start_time": "2022-01-26T17:35:18.735Z"
   },
   {
    "duration": 110769,
    "start_time": "2022-01-26T19:40:42.574Z"
   },
   {
    "duration": 1931,
    "start_time": "2022-01-26T19:42:33.345Z"
   },
   {
    "duration": 108,
    "start_time": "2022-01-26T19:42:35.280Z"
   },
   {
    "duration": 12,
    "start_time": "2022-01-26T19:42:35.390Z"
   },
   {
    "duration": 310,
    "start_time": "2022-01-26T19:42:35.404Z"
   },
   {
    "duration": 1754,
    "start_time": "2022-01-26T19:42:35.716Z"
   },
   {
    "duration": 130,
    "start_time": "2022-01-26T19:42:37.472Z"
   },
   {
    "duration": 6,
    "start_time": "2022-01-26T19:42:37.604Z"
   },
   {
    "duration": 11,
    "start_time": "2022-01-26T19:42:37.612Z"
   },
   {
    "duration": 6,
    "start_time": "2022-01-26T19:42:37.625Z"
   },
   {
    "duration": 8,
    "start_time": "2022-01-26T19:42:37.632Z"
   },
   {
    "duration": 21,
    "start_time": "2022-01-26T19:42:37.642Z"
   },
   {
    "duration": 8,
    "start_time": "2022-01-26T19:42:37.664Z"
   },
   {
    "duration": 49,
    "start_time": "2022-01-26T19:42:37.674Z"
   },
   {
    "duration": 55,
    "start_time": "2022-01-26T19:42:37.725Z"
   },
   {
    "duration": 3,
    "start_time": "2022-01-26T19:42:37.781Z"
   },
   {
    "duration": 8,
    "start_time": "2022-01-26T19:42:37.785Z"
   },
   {
    "duration": 22,
    "start_time": "2022-01-26T19:42:37.795Z"
   },
   {
    "duration": 21,
    "start_time": "2022-01-26T19:42:37.819Z"
   },
   {
    "duration": 210,
    "start_time": "2022-01-26T19:42:37.841Z"
   },
   {
    "duration": 7,
    "start_time": "2022-01-26T19:42:38.053Z"
   },
   {
    "duration": 15,
    "start_time": "2022-01-26T19:42:38.063Z"
   },
   {
    "duration": 62,
    "start_time": "2022-01-26T19:42:38.080Z"
   },
   {
    "duration": 135,
    "start_time": "2022-01-26T19:42:38.143Z"
   },
   {
    "duration": 7,
    "start_time": "2022-01-26T19:42:38.279Z"
   },
   {
    "duration": 7,
    "start_time": "2022-01-26T19:42:38.287Z"
   },
   {
    "duration": 76,
    "start_time": "2022-01-26T19:42:38.296Z"
   },
   {
    "duration": 25,
    "start_time": "2022-01-26T19:42:38.373Z"
   },
   {
    "duration": 2,
    "start_time": "2022-01-26T19:42:38.411Z"
   },
   {
    "duration": 11,
    "start_time": "2022-01-26T19:42:38.415Z"
   },
   {
    "duration": 2,
    "start_time": "2022-01-26T19:42:38.428Z"
   },
   {
    "duration": 25,
    "start_time": "2022-01-26T19:42:38.431Z"
   },
   {
    "duration": 2,
    "start_time": "2022-01-26T19:42:38.457Z"
   },
   {
    "duration": 8,
    "start_time": "2022-01-26T19:42:38.461Z"
   },
   {
    "duration": 5,
    "start_time": "2022-01-26T19:42:38.470Z"
   },
   {
    "duration": 60,
    "start_time": "2022-01-26T19:42:38.476Z"
   },
   {
    "duration": 7,
    "start_time": "2022-01-26T19:42:38.537Z"
   },
   {
    "duration": 2100,
    "start_time": "2022-01-26T19:42:38.545Z"
   },
   {
    "duration": 6,
    "start_time": "2022-01-26T19:42:40.647Z"
   },
   {
    "duration": 11145,
    "start_time": "2022-01-26T19:42:40.654Z"
   },
   {
    "duration": 49,
    "start_time": "2022-01-26T19:42:51.800Z"
   },
   {
    "duration": 72,
    "start_time": "2022-01-26T19:42:51.851Z"
   },
   {
    "duration": 10,
    "start_time": "2022-01-26T19:42:51.924Z"
   },
   {
    "duration": 18,
    "start_time": "2022-01-26T19:42:51.935Z"
   },
   {
    "duration": 65,
    "start_time": "2022-01-26T19:42:51.955Z"
   },
   {
    "duration": 5,
    "start_time": "2022-01-26T19:42:52.022Z"
   },
   {
    "duration": 5,
    "start_time": "2022-01-26T19:42:52.029Z"
   },
   {
    "duration": 6,
    "start_time": "2022-01-26T19:42:52.035Z"
   },
   {
    "duration": 11,
    "start_time": "2022-01-26T19:42:52.042Z"
   },
   {
    "duration": 62,
    "start_time": "2022-01-26T19:42:52.055Z"
   },
   {
    "duration": 12,
    "start_time": "2022-01-26T19:42:52.118Z"
   },
   {
    "duration": 9,
    "start_time": "2022-01-26T19:42:52.131Z"
   },
   {
    "duration": 14,
    "start_time": "2022-01-26T19:42:52.141Z"
   },
   {
    "duration": 65,
    "start_time": "2022-01-26T19:42:52.157Z"
   },
   {
    "duration": 16,
    "start_time": "2022-01-26T19:42:52.224Z"
   },
   {
    "duration": 75,
    "start_time": "2022-01-26T19:42:52.242Z"
   },
   {
    "duration": 12,
    "start_time": "2022-01-26T19:42:52.318Z"
   },
   {
    "duration": 16,
    "start_time": "2022-01-26T19:42:52.331Z"
   },
   {
    "duration": 69,
    "start_time": "2022-01-26T19:42:52.349Z"
   },
   {
    "duration": 9,
    "start_time": "2022-01-26T19:42:52.420Z"
   },
   {
    "duration": 93,
    "start_time": "2022-01-26T19:42:52.431Z"
   },
   {
    "duration": 391,
    "start_time": "2022-01-26T19:42:52.525Z"
   },
   {
    "duration": 9,
    "start_time": "2022-01-26T19:42:52.917Z"
   },
   {
    "duration": 305,
    "start_time": "2022-01-26T19:42:52.928Z"
   },
   {
    "duration": 14,
    "start_time": "2022-01-26T19:42:53.235Z"
   },
   {
    "duration": 167,
    "start_time": "2022-01-26T19:42:53.251Z"
   },
   {
    "duration": 34,
    "start_time": "2022-01-26T19:42:53.424Z"
   },
   {
    "duration": 15,
    "start_time": "2022-01-26T19:42:53.460Z"
   },
   {
    "duration": 46,
    "start_time": "2022-01-26T19:42:53.477Z"
   },
   {
    "duration": 14,
    "start_time": "2022-01-26T19:42:53.525Z"
   },
   {
    "duration": 9,
    "start_time": "2022-01-26T19:42:53.541Z"
   },
   {
    "duration": 9,
    "start_time": "2022-01-26T19:42:53.551Z"
   },
   {
    "duration": 58,
    "start_time": "2022-01-26T19:42:53.562Z"
   },
   {
    "duration": 2,
    "start_time": "2022-01-26T19:42:53.621Z"
   },
   {
    "duration": 40,
    "start_time": "2022-01-26T19:42:53.625Z"
   },
   {
    "duration": 48,
    "start_time": "2022-01-26T19:42:53.667Z"
   },
   {
    "duration": 13,
    "start_time": "2022-01-26T19:42:53.717Z"
   },
   {
    "duration": 19,
    "start_time": "2022-01-26T19:42:53.732Z"
   },
   {
    "duration": 15,
    "start_time": "2022-01-26T19:42:53.752Z"
   },
   {
    "duration": 56,
    "start_time": "2022-01-26T19:42:53.769Z"
   },
   {
    "duration": 14,
    "start_time": "2022-01-26T19:42:53.827Z"
   },
   {
    "duration": 15,
    "start_time": "2022-01-26T19:42:53.843Z"
   },
   {
    "duration": 53,
    "start_time": "2022-01-26T19:42:53.859Z"
   },
   {
    "duration": 9,
    "start_time": "2022-01-26T19:42:53.914Z"
   },
   {
    "duration": 7,
    "start_time": "2022-01-26T19:42:53.925Z"
   },
   {
    "duration": 22,
    "start_time": "2022-01-26T19:42:53.934Z"
   },
   {
    "duration": 18,
    "start_time": "2022-01-26T19:42:53.957Z"
   },
   {
    "duration": 279,
    "start_time": "2022-01-26T19:42:53.977Z"
   },
   {
    "duration": 560,
    "start_time": "2022-01-26T19:42:54.257Z"
   },
   {
    "duration": 580,
    "start_time": "2022-01-26T19:42:54.819Z"
   },
   {
    "duration": 634,
    "start_time": "2022-01-26T19:42:55.400Z"
   },
   {
    "duration": 7,
    "start_time": "2022-01-26T19:42:56.036Z"
   },
   {
    "duration": 9,
    "start_time": "2022-01-26T19:42:56.044Z"
   },
   {
    "duration": 21,
    "start_time": "2022-01-26T19:42:56.054Z"
   },
   {
    "duration": 36,
    "start_time": "2022-01-26T19:42:56.077Z"
   },
   {
    "duration": 222,
    "start_time": "2022-01-26T19:42:56.114Z"
   },
   {
    "duration": 16,
    "start_time": "2022-01-26T19:42:56.338Z"
   },
   {
    "duration": 12,
    "start_time": "2022-01-26T19:42:56.355Z"
   },
   {
    "duration": 383,
    "start_time": "2022-01-26T19:42:56.369Z"
   },
   {
    "duration": 5,
    "start_time": "2022-01-26T19:42:56.754Z"
   },
   {
    "duration": 6,
    "start_time": "2022-01-26T19:42:56.760Z"
   },
   {
    "duration": 13,
    "start_time": "2022-01-26T19:42:56.768Z"
   },
   {
    "duration": 37,
    "start_time": "2022-01-26T19:42:56.782Z"
   },
   {
    "duration": 263,
    "start_time": "2022-01-26T19:42:56.821Z"
   },
   {
    "duration": 4,
    "start_time": "2022-01-26T19:42:57.085Z"
   },
   {
    "duration": 7,
    "start_time": "2022-01-26T19:42:57.091Z"
   },
   {
    "duration": 17,
    "start_time": "2022-01-26T19:42:57.099Z"
   },
   {
    "duration": 265,
    "start_time": "2022-01-26T19:42:57.117Z"
   },
   {
    "duration": 285,
    "start_time": "2022-01-26T19:42:57.384Z"
   },
   {
    "duration": 632,
    "start_time": "2022-01-26T19:42:57.670Z"
   },
   {
    "duration": 10,
    "start_time": "2022-01-26T19:42:58.304Z"
   },
   {
    "duration": 264,
    "start_time": "2022-01-26T19:42:58.316Z"
   },
   {
    "duration": 293,
    "start_time": "2022-01-26T19:42:58.581Z"
   },
   {
    "duration": 65,
    "start_time": "2022-01-26T19:42:58.876Z"
   },
   {
    "duration": 11,
    "start_time": "2022-01-26T19:42:58.942Z"
   },
   {
    "duration": 12,
    "start_time": "2022-01-26T19:42:58.955Z"
   },
   {
    "duration": 5,
    "start_time": "2022-01-26T19:42:58.969Z"
   },
   {
    "duration": 567,
    "start_time": "2022-01-26T19:42:58.975Z"
   },
   {
    "duration": 40,
    "start_time": "2022-01-26T19:42:59.544Z"
   },
   {
    "duration": 26,
    "start_time": "2022-01-26T19:42:59.586Z"
   },
   {
    "duration": 15,
    "start_time": "2022-01-26T19:42:59.613Z"
   },
   {
    "duration": 5,
    "start_time": "2022-01-26T19:42:59.629Z"
   },
   {
    "duration": 529,
    "start_time": "2022-01-26T19:42:59.636Z"
   },
   {
    "duration": 439,
    "start_time": "2022-01-26T19:43:00.167Z"
   },
   {
    "duration": -271,
    "start_time": "2022-01-26T19:43:00.879Z"
   },
   {
    "duration": -274,
    "start_time": "2022-01-26T19:43:00.883Z"
   },
   {
    "duration": -278,
    "start_time": "2022-01-26T19:43:00.887Z"
   },
   {
    "duration": -281,
    "start_time": "2022-01-26T19:43:00.891Z"
   },
   {
    "duration": -286,
    "start_time": "2022-01-26T19:43:00.897Z"
   },
   {
    "duration": -289,
    "start_time": "2022-01-26T19:43:00.901Z"
   },
   {
    "duration": -293,
    "start_time": "2022-01-26T19:43:00.906Z"
   },
   {
    "duration": -297,
    "start_time": "2022-01-26T19:43:00.911Z"
   },
   {
    "duration": -300,
    "start_time": "2022-01-26T19:43:00.916Z"
   },
   {
    "duration": -303,
    "start_time": "2022-01-26T19:43:00.920Z"
   },
   {
    "duration": -309,
    "start_time": "2022-01-26T19:43:00.927Z"
   },
   {
    "duration": -311,
    "start_time": "2022-01-26T19:43:00.931Z"
   },
   {
    "duration": -314,
    "start_time": "2022-01-26T19:43:00.935Z"
   },
   {
    "duration": -316,
    "start_time": "2022-01-26T19:43:00.939Z"
   },
   {
    "duration": -319,
    "start_time": "2022-01-26T19:43:00.943Z"
   },
   {
    "duration": -322,
    "start_time": "2022-01-26T19:43:00.947Z"
   },
   {
    "duration": -324,
    "start_time": "2022-01-26T19:43:00.951Z"
   },
   {
    "duration": -326,
    "start_time": "2022-01-26T19:43:00.954Z"
   },
   {
    "duration": -329,
    "start_time": "2022-01-26T19:43:00.959Z"
   },
   {
    "duration": -332,
    "start_time": "2022-01-26T19:43:00.963Z"
   },
   {
    "duration": -333,
    "start_time": "2022-01-26T19:43:00.966Z"
   },
   {
    "duration": -336,
    "start_time": "2022-01-26T19:43:00.970Z"
   },
   {
    "duration": -339,
    "start_time": "2022-01-26T19:43:00.974Z"
   },
   {
    "duration": -341,
    "start_time": "2022-01-26T19:43:00.978Z"
   },
   {
    "duration": -344,
    "start_time": "2022-01-26T19:43:00.982Z"
   },
   {
    "duration": 59330,
    "start_time": "2022-01-27T05:24:53.810Z"
   },
   {
    "duration": 1532,
    "start_time": "2022-01-27T05:25:53.145Z"
   },
   {
    "duration": 68,
    "start_time": "2022-01-27T05:25:54.679Z"
   },
   {
    "duration": 12,
    "start_time": "2022-01-27T05:25:54.748Z"
   },
   {
    "duration": 296,
    "start_time": "2022-01-27T05:25:54.762Z"
   },
   {
    "duration": 1843,
    "start_time": "2022-01-27T05:25:55.060Z"
   },
   {
    "duration": 101,
    "start_time": "2022-01-27T05:25:56.905Z"
   },
   {
    "duration": 7,
    "start_time": "2022-01-27T05:25:57.008Z"
   },
   {
    "duration": 13,
    "start_time": "2022-01-27T05:25:57.017Z"
   },
   {
    "duration": 6,
    "start_time": "2022-01-27T05:25:57.032Z"
   },
   {
    "duration": 7,
    "start_time": "2022-01-27T05:25:57.040Z"
   },
   {
    "duration": 23,
    "start_time": "2022-01-27T05:25:57.048Z"
   },
   {
    "duration": 30,
    "start_time": "2022-01-27T05:25:57.073Z"
   },
   {
    "duration": 21,
    "start_time": "2022-01-27T05:25:57.105Z"
   },
   {
    "duration": 73,
    "start_time": "2022-01-27T05:25:57.128Z"
   },
   {
    "duration": 3,
    "start_time": "2022-01-27T05:25:57.203Z"
   },
   {
    "duration": 7,
    "start_time": "2022-01-27T05:25:57.207Z"
   },
   {
    "duration": 9,
    "start_time": "2022-01-27T05:25:57.216Z"
   },
   {
    "duration": 23,
    "start_time": "2022-01-27T05:25:57.227Z"
   },
   {
    "duration": 240,
    "start_time": "2022-01-27T05:25:57.252Z"
   },
   {
    "duration": 9,
    "start_time": "2022-01-27T05:25:57.494Z"
   },
   {
    "duration": 16,
    "start_time": "2022-01-27T05:25:57.508Z"
   },
   {
    "duration": 75,
    "start_time": "2022-01-27T05:25:57.527Z"
   },
   {
    "duration": 154,
    "start_time": "2022-01-27T05:25:57.603Z"
   },
   {
    "duration": 7,
    "start_time": "2022-01-27T05:25:57.759Z"
   },
   {
    "duration": 9,
    "start_time": "2022-01-27T05:25:57.768Z"
   },
   {
    "duration": 87,
    "start_time": "2022-01-27T05:25:57.779Z"
   },
   {
    "duration": 40,
    "start_time": "2022-01-27T05:25:57.868Z"
   },
   {
    "duration": 2,
    "start_time": "2022-01-27T05:25:57.910Z"
   },
   {
    "duration": 14,
    "start_time": "2022-01-27T05:25:57.913Z"
   },
   {
    "duration": 2,
    "start_time": "2022-01-27T05:25:57.929Z"
   },
   {
    "duration": 27,
    "start_time": "2022-01-27T05:25:57.933Z"
   },
   {
    "duration": 2,
    "start_time": "2022-01-27T05:25:57.962Z"
   },
   {
    "duration": 36,
    "start_time": "2022-01-27T05:25:57.965Z"
   },
   {
    "duration": 4,
    "start_time": "2022-01-27T05:25:58.003Z"
   },
   {
    "duration": 38,
    "start_time": "2022-01-27T05:25:58.008Z"
   },
   {
    "duration": 7,
    "start_time": "2022-01-27T05:25:58.047Z"
   },
   {
    "duration": 2292,
    "start_time": "2022-01-27T05:25:58.056Z"
   },
   {
    "duration": 6,
    "start_time": "2022-01-27T05:26:00.349Z"
   },
   {
    "duration": 11916,
    "start_time": "2022-01-27T05:26:00.357Z"
   },
   {
    "duration": 125,
    "start_time": "2022-01-27T05:26:12.275Z"
   },
   {
    "duration": 11,
    "start_time": "2022-01-27T05:26:12.402Z"
   },
   {
    "duration": 10,
    "start_time": "2022-01-27T05:26:12.414Z"
   },
   {
    "duration": 74,
    "start_time": "2022-01-27T05:26:12.426Z"
   },
   {
    "duration": 9,
    "start_time": "2022-01-27T05:26:12.501Z"
   },
   {
    "duration": 11,
    "start_time": "2022-01-27T05:26:12.512Z"
   },
   {
    "duration": 8,
    "start_time": "2022-01-27T05:26:12.524Z"
   },
   {
    "duration": 7,
    "start_time": "2022-01-27T05:26:12.534Z"
   },
   {
    "duration": 62,
    "start_time": "2022-01-27T05:26:12.543Z"
   },
   {
    "duration": 10,
    "start_time": "2022-01-27T05:26:12.606Z"
   },
   {
    "duration": 12,
    "start_time": "2022-01-27T05:26:12.617Z"
   },
   {
    "duration": 8,
    "start_time": "2022-01-27T05:26:12.631Z"
   },
   {
    "duration": 72,
    "start_time": "2022-01-27T05:26:12.641Z"
   },
   {
    "duration": 12,
    "start_time": "2022-01-27T05:26:12.714Z"
   },
   {
    "duration": 15,
    "start_time": "2022-01-27T05:26:12.727Z"
   },
   {
    "duration": 77,
    "start_time": "2022-01-27T05:26:12.743Z"
   },
   {
    "duration": 12,
    "start_time": "2022-01-27T05:26:12.821Z"
   },
   {
    "duration": 70,
    "start_time": "2022-01-27T05:26:12.834Z"
   },
   {
    "duration": 10,
    "start_time": "2022-01-27T05:26:12.906Z"
   },
   {
    "duration": 8,
    "start_time": "2022-01-27T05:26:12.918Z"
   },
   {
    "duration": 93,
    "start_time": "2022-01-27T05:26:12.927Z"
   },
   {
    "duration": 408,
    "start_time": "2022-01-27T05:26:13.021Z"
   },
   {
    "duration": 10,
    "start_time": "2022-01-27T05:26:13.430Z"
   },
   {
    "duration": 368,
    "start_time": "2022-01-27T05:26:13.442Z"
   },
   {
    "duration": 13,
    "start_time": "2022-01-27T05:26:13.812Z"
   },
   {
    "duration": 112,
    "start_time": "2022-01-27T05:26:13.826Z"
   },
   {
    "duration": 88,
    "start_time": "2022-01-27T05:26:13.944Z"
   },
   {
    "duration": 15,
    "start_time": "2022-01-27T05:26:14.035Z"
   },
   {
    "duration": 16,
    "start_time": "2022-01-27T05:26:14.052Z"
   },
   {
    "duration": 18,
    "start_time": "2022-01-27T05:26:14.099Z"
   },
   {
    "duration": 12,
    "start_time": "2022-01-27T05:26:14.119Z"
   },
   {
    "duration": 9,
    "start_time": "2022-01-27T05:26:14.133Z"
   },
   {
    "duration": 54,
    "start_time": "2022-01-27T05:26:14.144Z"
   },
   {
    "duration": 3,
    "start_time": "2022-01-27T05:26:14.200Z"
   },
   {
    "duration": 43,
    "start_time": "2022-01-27T05:26:14.204Z"
   },
   {
    "duration": 58,
    "start_time": "2022-01-27T05:26:14.249Z"
   },
   {
    "duration": 15,
    "start_time": "2022-01-27T05:26:14.308Z"
   },
   {
    "duration": 26,
    "start_time": "2022-01-27T05:26:14.324Z"
   },
   {
    "duration": 16,
    "start_time": "2022-01-27T05:26:14.352Z"
   },
   {
    "duration": 52,
    "start_time": "2022-01-27T05:26:14.370Z"
   },
   {
    "duration": 14,
    "start_time": "2022-01-27T05:26:14.423Z"
   },
   {
    "duration": 17,
    "start_time": "2022-01-27T05:26:14.439Z"
   },
   {
    "duration": 51,
    "start_time": "2022-01-27T05:26:14.458Z"
   },
   {
    "duration": 8,
    "start_time": "2022-01-27T05:26:14.510Z"
   },
   {
    "duration": 17,
    "start_time": "2022-01-27T05:26:14.520Z"
   },
   {
    "duration": 30,
    "start_time": "2022-01-27T05:26:14.538Z"
   },
   {
    "duration": 36,
    "start_time": "2022-01-27T05:26:14.570Z"
   },
   {
    "duration": 265,
    "start_time": "2022-01-27T05:26:14.608Z"
   },
   {
    "duration": 36,
    "start_time": "2022-01-27T05:26:14.875Z"
   },
   {
    "duration": 21,
    "start_time": "2022-01-27T05:26:14.912Z"
   },
   {
    "duration": 264,
    "start_time": "2022-01-27T05:26:14.934Z"
   },
   {
    "duration": 7,
    "start_time": "2022-01-27T05:26:15.200Z"
   },
   {
    "duration": 8,
    "start_time": "2022-01-27T05:26:15.208Z"
   },
   {
    "duration": 17,
    "start_time": "2022-01-27T05:26:15.217Z"
   },
   {
    "duration": 11,
    "start_time": "2022-01-27T05:26:15.236Z"
   },
   {
    "duration": 459,
    "start_time": "2022-01-27T05:26:15.248Z"
   },
   {
    "duration": 17,
    "start_time": "2022-01-27T05:26:15.708Z"
   },
   {
    "duration": 918,
    "start_time": "2022-01-27T05:26:15.727Z"
   },
   {
    "duration": 942,
    "start_time": "2022-01-27T05:26:16.647Z"
   },
   {
    "duration": 11,
    "start_time": "2022-01-27T05:26:17.590Z"
   },
   {
    "duration": 8,
    "start_time": "2022-01-27T05:26:17.603Z"
   },
   {
    "duration": 12,
    "start_time": "2022-01-27T05:26:17.612Z"
   },
   {
    "duration": 16,
    "start_time": "2022-01-27T05:26:17.625Z"
   },
   {
    "duration": 283,
    "start_time": "2022-01-27T05:26:17.642Z"
   },
   {
    "duration": 5,
    "start_time": "2022-01-27T05:26:17.926Z"
   },
   {
    "duration": 7,
    "start_time": "2022-01-27T05:26:17.933Z"
   },
   {
    "duration": 10,
    "start_time": "2022-01-27T05:26:17.942Z"
   },
   {
    "duration": 218,
    "start_time": "2022-01-27T05:26:17.953Z"
   },
   {
    "duration": 216,
    "start_time": "2022-01-27T05:26:18.173Z"
   },
   {
    "duration": 662,
    "start_time": "2022-01-27T05:26:18.399Z"
   },
   {
    "duration": 6,
    "start_time": "2022-01-27T05:26:19.063Z"
   },
   {
    "duration": 213,
    "start_time": "2022-01-27T05:26:19.070Z"
   },
   {
    "duration": 225,
    "start_time": "2022-01-27T05:26:19.285Z"
   },
   {
    "duration": 53,
    "start_time": "2022-01-27T05:26:19.511Z"
   },
   {
    "duration": 11,
    "start_time": "2022-01-27T05:26:19.566Z"
   },
   {
    "duration": 14,
    "start_time": "2022-01-27T05:26:19.599Z"
   },
   {
    "duration": 12,
    "start_time": "2022-01-27T05:26:19.614Z"
   },
   {
    "duration": 737,
    "start_time": "2022-01-27T05:26:19.628Z"
   },
   {
    "duration": 52,
    "start_time": "2022-01-27T05:26:20.367Z"
   },
   {
    "duration": 12,
    "start_time": "2022-01-27T05:26:20.421Z"
   },
   {
    "duration": 15,
    "start_time": "2022-01-27T05:26:20.434Z"
   },
   {
    "duration": 5,
    "start_time": "2022-01-27T05:26:20.450Z"
   },
   {
    "duration": 785,
    "start_time": "2022-01-27T05:26:20.457Z"
   },
   {
    "duration": 343,
    "start_time": "2022-01-27T05:26:21.244Z"
   },
   {
    "duration": 5284,
    "start_time": "2022-01-27T05:26:16.305Z"
   },
   {
    "duration": 5277,
    "start_time": "2022-01-27T05:26:16.313Z"
   },
   {
    "duration": 5270,
    "start_time": "2022-01-27T05:26:16.321Z"
   },
   {
    "duration": 5263,
    "start_time": "2022-01-27T05:26:16.329Z"
   },
   {
    "duration": 5255,
    "start_time": "2022-01-27T05:26:16.337Z"
   },
   {
    "duration": 5249,
    "start_time": "2022-01-27T05:26:16.344Z"
   },
   {
    "duration": 5242,
    "start_time": "2022-01-27T05:26:16.352Z"
   },
   {
    "duration": 5236,
    "start_time": "2022-01-27T05:26:16.359Z"
   },
   {
    "duration": 5229,
    "start_time": "2022-01-27T05:26:16.367Z"
   },
   {
    "duration": 5224,
    "start_time": "2022-01-27T05:26:16.372Z"
   },
   {
    "duration": 5218,
    "start_time": "2022-01-27T05:26:16.379Z"
   },
   {
    "duration": 5214,
    "start_time": "2022-01-27T05:26:16.384Z"
   },
   {
    "duration": 5208,
    "start_time": "2022-01-27T05:26:16.391Z"
   },
   {
    "duration": 5202,
    "start_time": "2022-01-27T05:26:16.397Z"
   },
   {
    "duration": 5197,
    "start_time": "2022-01-27T05:26:16.403Z"
   },
   {
    "duration": 5193,
    "start_time": "2022-01-27T05:26:16.408Z"
   },
   {
    "duration": 5188,
    "start_time": "2022-01-27T05:26:16.414Z"
   },
   {
    "duration": 5184,
    "start_time": "2022-01-27T05:26:16.419Z"
   },
   {
    "duration": 5178,
    "start_time": "2022-01-27T05:26:16.425Z"
   },
   {
    "duration": 5174,
    "start_time": "2022-01-27T05:26:16.430Z"
   },
   {
    "duration": 5170,
    "start_time": "2022-01-27T05:26:16.435Z"
   },
   {
    "duration": 5164,
    "start_time": "2022-01-27T05:26:16.442Z"
   },
   {
    "duration": 5156,
    "start_time": "2022-01-27T05:26:16.450Z"
   },
   {
    "duration": 5151,
    "start_time": "2022-01-27T05:26:16.456Z"
   },
   {
    "duration": 5146,
    "start_time": "2022-01-27T05:26:16.462Z"
   },
   {
    "duration": 1701,
    "start_time": "2022-01-27T07:08:11.211Z"
   },
   {
    "duration": 76,
    "start_time": "2022-01-27T07:08:12.914Z"
   },
   {
    "duration": 12,
    "start_time": "2022-01-27T07:08:12.992Z"
   },
   {
    "duration": 291,
    "start_time": "2022-01-27T07:08:13.006Z"
   },
   {
    "duration": 1911,
    "start_time": "2022-01-27T07:08:13.298Z"
   },
   {
    "duration": 104,
    "start_time": "2022-01-27T07:08:15.211Z"
   },
   {
    "duration": 8,
    "start_time": "2022-01-27T07:08:15.316Z"
   },
   {
    "duration": 14,
    "start_time": "2022-01-27T07:08:15.326Z"
   },
   {
    "duration": 9,
    "start_time": "2022-01-27T07:08:15.342Z"
   },
   {
    "duration": 7,
    "start_time": "2022-01-27T07:08:15.353Z"
   },
   {
    "duration": 42,
    "start_time": "2022-01-27T07:08:15.361Z"
   },
   {
    "duration": 8,
    "start_time": "2022-01-27T07:08:15.405Z"
   },
   {
    "duration": 22,
    "start_time": "2022-01-27T07:08:15.414Z"
   },
   {
    "duration": 83,
    "start_time": "2022-01-27T07:08:15.438Z"
   },
   {
    "duration": 4,
    "start_time": "2022-01-27T07:08:15.522Z"
   },
   {
    "duration": 8,
    "start_time": "2022-01-27T07:08:15.527Z"
   },
   {
    "duration": 9,
    "start_time": "2022-01-27T07:08:15.537Z"
   },
   {
    "duration": 24,
    "start_time": "2022-01-27T07:08:15.547Z"
   },
   {
    "duration": 251,
    "start_time": "2022-01-27T07:08:15.573Z"
   },
   {
    "duration": 8,
    "start_time": "2022-01-27T07:08:15.825Z"
   },
   {
    "duration": 20,
    "start_time": "2022-01-27T07:08:15.835Z"
   },
   {
    "duration": 78,
    "start_time": "2022-01-27T07:08:15.856Z"
   },
   {
    "duration": 173,
    "start_time": "2022-01-27T07:08:15.938Z"
   },
   {
    "duration": 7,
    "start_time": "2022-01-27T07:08:16.114Z"
   },
   {
    "duration": 28,
    "start_time": "2022-01-27T07:08:16.123Z"
   },
   {
    "duration": 94,
    "start_time": "2022-01-27T07:08:16.153Z"
   },
   {
    "duration": 28,
    "start_time": "2022-01-27T07:08:16.249Z"
   },
   {
    "duration": 20,
    "start_time": "2022-01-27T07:08:16.280Z"
   },
   {
    "duration": 19,
    "start_time": "2022-01-27T07:08:16.303Z"
   },
   {
    "duration": 3,
    "start_time": "2022-01-27T07:08:16.324Z"
   },
   {
    "duration": 29,
    "start_time": "2022-01-27T07:08:16.330Z"
   },
   {
    "duration": 3,
    "start_time": "2022-01-27T07:08:16.361Z"
   },
   {
    "duration": 37,
    "start_time": "2022-01-27T07:08:16.366Z"
   },
   {
    "duration": 5,
    "start_time": "2022-01-27T07:08:16.406Z"
   },
   {
    "duration": 40,
    "start_time": "2022-01-27T07:08:16.413Z"
   },
   {
    "duration": 10,
    "start_time": "2022-01-27T07:08:16.455Z"
   },
   {
    "duration": 2365,
    "start_time": "2022-01-27T07:08:16.467Z"
   },
   {
    "duration": 6,
    "start_time": "2022-01-27T07:08:18.835Z"
   },
   {
    "duration": 12513,
    "start_time": "2022-01-27T07:08:18.843Z"
   },
   {
    "duration": 148,
    "start_time": "2022-01-27T07:08:31.360Z"
   },
   {
    "duration": 11,
    "start_time": "2022-01-27T07:08:31.510Z"
   },
   {
    "duration": 10,
    "start_time": "2022-01-27T07:08:31.523Z"
   },
   {
    "duration": 74,
    "start_time": "2022-01-27T07:08:31.535Z"
   },
   {
    "duration": 9,
    "start_time": "2022-01-27T07:08:31.611Z"
   },
   {
    "duration": 13,
    "start_time": "2022-01-27T07:08:31.622Z"
   },
   {
    "duration": 9,
    "start_time": "2022-01-27T07:08:31.637Z"
   },
   {
    "duration": 55,
    "start_time": "2022-01-27T07:08:31.648Z"
   },
   {
    "duration": 17,
    "start_time": "2022-01-27T07:08:31.705Z"
   },
   {
    "duration": 9,
    "start_time": "2022-01-27T07:08:31.724Z"
   },
   {
    "duration": 64,
    "start_time": "2022-01-27T07:08:31.735Z"
   },
   {
    "duration": 10,
    "start_time": "2022-01-27T07:08:31.801Z"
   },
   {
    "duration": 16,
    "start_time": "2022-01-27T07:08:31.813Z"
   },
   {
    "duration": 69,
    "start_time": "2022-01-27T07:08:31.831Z"
   },
   {
    "duration": 28,
    "start_time": "2022-01-27T07:08:31.902Z"
   },
   {
    "duration": 75,
    "start_time": "2022-01-27T07:08:31.932Z"
   },
   {
    "duration": 12,
    "start_time": "2022-01-27T07:08:32.009Z"
   },
   {
    "duration": 19,
    "start_time": "2022-01-27T07:08:32.023Z"
   },
   {
    "duration": 12,
    "start_time": "2022-01-27T07:08:32.099Z"
   },
   {
    "duration": 9,
    "start_time": "2022-01-27T07:08:32.113Z"
   },
   {
    "duration": 98,
    "start_time": "2022-01-27T07:08:32.124Z"
   },
   {
    "duration": 479,
    "start_time": "2022-01-27T07:08:32.224Z"
   },
   {
    "duration": 11,
    "start_time": "2022-01-27T07:08:32.704Z"
   },
   {
    "duration": 336,
    "start_time": "2022-01-27T07:08:32.716Z"
   },
   {
    "duration": 11,
    "start_time": "2022-01-27T07:08:33.054Z"
   },
   {
    "duration": 88,
    "start_time": "2022-01-27T07:08:33.067Z"
   },
   {
    "duration": 46,
    "start_time": "2022-01-27T07:08:33.157Z"
   },
   {
    "duration": 17,
    "start_time": "2022-01-27T07:08:33.205Z"
   },
   {
    "duration": 15,
    "start_time": "2022-01-27T07:08:33.228Z"
   },
   {
    "duration": 15,
    "start_time": "2022-01-27T07:08:33.246Z"
   },
   {
    "duration": 39,
    "start_time": "2022-01-27T07:08:33.262Z"
   },
   {
    "duration": 12,
    "start_time": "2022-01-27T07:08:33.303Z"
   },
   {
    "duration": 40,
    "start_time": "2022-01-27T07:08:33.317Z"
   },
   {
    "duration": 2,
    "start_time": "2022-01-27T07:08:33.358Z"
   },
   {
    "duration": 70,
    "start_time": "2022-01-27T07:08:33.362Z"
   },
   {
    "duration": 36,
    "start_time": "2022-01-27T07:08:33.434Z"
   },
   {
    "duration": 29,
    "start_time": "2022-01-27T07:08:33.472Z"
   },
   {
    "duration": 22,
    "start_time": "2022-01-27T07:08:33.502Z"
   },
   {
    "duration": 18,
    "start_time": "2022-01-27T07:08:33.525Z"
   },
   {
    "duration": 30,
    "start_time": "2022-01-27T07:08:33.544Z"
   },
   {
    "duration": 14,
    "start_time": "2022-01-27T07:08:33.599Z"
   },
   {
    "duration": 15,
    "start_time": "2022-01-27T07:08:33.615Z"
   },
   {
    "duration": 32,
    "start_time": "2022-01-27T07:08:33.632Z"
   },
   {
    "duration": 32,
    "start_time": "2022-01-27T07:08:33.666Z"
   },
   {
    "duration": 8,
    "start_time": "2022-01-27T07:08:33.700Z"
   },
   {
    "duration": 25,
    "start_time": "2022-01-27T07:08:33.709Z"
   },
   {
    "duration": 19,
    "start_time": "2022-01-27T07:08:33.735Z"
   },
   {
    "duration": 284,
    "start_time": "2022-01-27T07:08:33.756Z"
   },
   {
    "duration": 24,
    "start_time": "2022-01-27T07:08:34.041Z"
   },
   {
    "duration": 38,
    "start_time": "2022-01-27T07:08:34.067Z"
   },
   {
    "duration": 276,
    "start_time": "2022-01-27T07:08:34.107Z"
   },
   {
    "duration": 15,
    "start_time": "2022-01-27T07:08:34.385Z"
   },
   {
    "duration": 10,
    "start_time": "2022-01-27T07:08:34.401Z"
   },
   {
    "duration": 19,
    "start_time": "2022-01-27T07:08:34.413Z"
   },
   {
    "duration": 12,
    "start_time": "2022-01-27T07:08:34.434Z"
   },
   {
    "duration": 291,
    "start_time": "2022-01-27T07:08:34.449Z"
   },
   {
    "duration": 21,
    "start_time": "2022-01-27T07:08:34.742Z"
   },
   {
    "duration": 34,
    "start_time": "2022-01-27T07:08:34.764Z"
   },
   {
    "duration": 486,
    "start_time": "2022-01-27T07:08:34.800Z"
   },
   {
    "duration": 13,
    "start_time": "2022-01-27T07:08:35.288Z"
   },
   {
    "duration": 8,
    "start_time": "2022-01-27T07:08:35.303Z"
   },
   {
    "duration": 13,
    "start_time": "2022-01-27T07:08:35.313Z"
   },
   {
    "duration": 18,
    "start_time": "2022-01-27T07:08:35.328Z"
   },
   {
    "duration": 315,
    "start_time": "2022-01-27T07:08:35.347Z"
   },
   {
    "duration": 6,
    "start_time": "2022-01-27T07:08:35.663Z"
   },
   {
    "duration": 18,
    "start_time": "2022-01-27T07:08:35.670Z"
   },
   {
    "duration": 12,
    "start_time": "2022-01-27T07:08:35.690Z"
   },
   {
    "duration": 226,
    "start_time": "2022-01-27T07:08:35.703Z"
   },
   {
    "duration": 246,
    "start_time": "2022-01-27T07:08:35.931Z"
   },
   {
    "duration": 718,
    "start_time": "2022-01-27T07:08:36.179Z"
   },
   {
    "duration": 6,
    "start_time": "2022-01-27T07:08:36.899Z"
   },
   {
    "duration": 234,
    "start_time": "2022-01-27T07:08:36.906Z"
   },
   {
    "duration": 241,
    "start_time": "2022-01-27T07:08:37.141Z"
   },
   {
    "duration": 65,
    "start_time": "2022-01-27T07:08:37.384Z"
   },
   {
    "duration": 12,
    "start_time": "2022-01-27T07:08:37.451Z"
   },
   {
    "duration": 14,
    "start_time": "2022-01-27T07:08:37.465Z"
   },
   {
    "duration": 4,
    "start_time": "2022-01-27T07:08:37.499Z"
   },
   {
    "duration": 834,
    "start_time": "2022-01-27T07:08:37.505Z"
   },
   {
    "duration": 46,
    "start_time": "2022-01-27T07:08:38.341Z"
   },
   {
    "duration": 13,
    "start_time": "2022-01-27T07:08:38.399Z"
   },
   {
    "duration": 15,
    "start_time": "2022-01-27T07:08:38.413Z"
   },
   {
    "duration": 5,
    "start_time": "2022-01-27T07:08:38.430Z"
   },
   {
    "duration": 847,
    "start_time": "2022-01-27T07:08:38.437Z"
   },
   {
    "duration": 392,
    "start_time": "2022-01-27T07:08:39.285Z"
   },
   {
    "duration": 3739,
    "start_time": "2022-01-27T07:08:35.940Z"
   },
   {
    "duration": 3734,
    "start_time": "2022-01-27T07:08:35.947Z"
   },
   {
    "duration": 3728,
    "start_time": "2022-01-27T07:08:35.954Z"
   },
   {
    "duration": 3722,
    "start_time": "2022-01-27T07:08:35.961Z"
   },
   {
    "duration": 3715,
    "start_time": "2022-01-27T07:08:35.969Z"
   },
   {
    "duration": 3707,
    "start_time": "2022-01-27T07:08:35.978Z"
   },
   {
    "duration": 3701,
    "start_time": "2022-01-27T07:08:35.985Z"
   },
   {
    "duration": 3694,
    "start_time": "2022-01-27T07:08:35.992Z"
   },
   {
    "duration": 3689,
    "start_time": "2022-01-27T07:08:35.998Z"
   },
   {
    "duration": 3683,
    "start_time": "2022-01-27T07:08:36.005Z"
   },
   {
    "duration": 3678,
    "start_time": "2022-01-27T07:08:36.011Z"
   },
   {
    "duration": 3672,
    "start_time": "2022-01-27T07:08:36.018Z"
   },
   {
    "duration": 3666,
    "start_time": "2022-01-27T07:08:36.025Z"
   },
   {
    "duration": 3659,
    "start_time": "2022-01-27T07:08:36.032Z"
   },
   {
    "duration": 3654,
    "start_time": "2022-01-27T07:08:36.038Z"
   },
   {
    "duration": 3648,
    "start_time": "2022-01-27T07:08:36.045Z"
   },
   {
    "duration": 3642,
    "start_time": "2022-01-27T07:08:36.052Z"
   },
   {
    "duration": 3636,
    "start_time": "2022-01-27T07:08:36.059Z"
   },
   {
    "duration": 3629,
    "start_time": "2022-01-27T07:08:36.067Z"
   },
   {
    "duration": 3622,
    "start_time": "2022-01-27T07:08:36.075Z"
   },
   {
    "duration": 3616,
    "start_time": "2022-01-27T07:08:36.081Z"
   },
   {
    "duration": 3610,
    "start_time": "2022-01-27T07:08:36.088Z"
   },
   {
    "duration": 3605,
    "start_time": "2022-01-27T07:08:36.094Z"
   },
   {
    "duration": 3599,
    "start_time": "2022-01-27T07:08:36.101Z"
   },
   {
    "duration": 3594,
    "start_time": "2022-01-27T07:08:36.107Z"
   },
   {
    "duration": 16,
    "start_time": "2022-01-27T09:16:23.881Z"
   },
   {
    "duration": 11,
    "start_time": "2022-01-27T09:16:29.042Z"
   },
   {
    "duration": 17,
    "start_time": "2022-01-27T09:16:38.578Z"
   },
   {
    "duration": 12,
    "start_time": "2022-01-27T09:16:52.318Z"
   },
   {
    "duration": 15,
    "start_time": "2022-01-27T09:17:02.603Z"
   },
   {
    "duration": 13,
    "start_time": "2022-01-27T09:17:10.497Z"
   },
   {
    "duration": 31,
    "start_time": "2022-01-27T09:17:59.490Z"
   },
   {
    "duration": 35,
    "start_time": "2022-01-27T09:18:16.513Z"
   },
   {
    "duration": 41,
    "start_time": "2022-01-27T09:18:20.326Z"
   },
   {
    "duration": 33,
    "start_time": "2022-01-27T09:19:37.581Z"
   },
   {
    "duration": 58,
    "start_time": "2022-01-27T09:19:53.129Z"
   },
   {
    "duration": 56,
    "start_time": "2022-01-27T09:19:55.697Z"
   },
   {
    "duration": 55,
    "start_time": "2022-01-27T09:20:16.594Z"
   },
   {
    "duration": 1065,
    "start_time": "2022-01-27T09:20:21.385Z"
   },
   {
    "duration": 65,
    "start_time": "2022-01-27T09:20:26.385Z"
   },
   {
    "duration": 31,
    "start_time": "2022-01-27T09:21:23.257Z"
   },
   {
    "duration": 16,
    "start_time": "2022-01-27T09:21:33.241Z"
   },
   {
    "duration": 33,
    "start_time": "2022-01-27T09:21:56.045Z"
   },
   {
    "duration": 17,
    "start_time": "2022-01-27T09:22:03.802Z"
   },
   {
    "duration": 25,
    "start_time": "2022-01-27T09:23:20.121Z"
   },
   {
    "duration": 55,
    "start_time": "2022-01-27T09:23:29.002Z"
   },
   {
    "duration": 51,
    "start_time": "2022-01-27T09:24:15.473Z"
   },
   {
    "duration": 10,
    "start_time": "2022-01-27T09:27:14.219Z"
   },
   {
    "duration": 10,
    "start_time": "2022-01-27T09:28:05.785Z"
   },
   {
    "duration": 25,
    "start_time": "2022-01-27T09:29:12.858Z"
   },
   {
    "duration": 189,
    "start_time": "2022-01-27T09:58:15.013Z"
   },
   {
    "duration": 100904,
    "start_time": "2022-01-27T09:58:37.510Z"
   },
   {
    "duration": 3,
    "start_time": "2022-01-27T10:00:18.417Z"
   },
   {
    "duration": 219,
    "start_time": "2022-01-27T10:00:52.551Z"
   },
   {
    "duration": 3,
    "start_time": "2022-01-27T10:00:58.384Z"
   },
   {
    "duration": 197,
    "start_time": "2022-01-27T10:00:58.583Z"
   },
   {
    "duration": 99797,
    "start_time": "2022-01-27T10:01:05.294Z"
   },
   {
    "duration": 203,
    "start_time": "2022-01-27T10:03:33.904Z"
   },
   {
    "duration": 3,
    "start_time": "2022-01-27T10:03:35.294Z"
   },
   {
    "duration": 203,
    "start_time": "2022-01-27T10:03:36.216Z"
   },
   {
    "duration": 87,
    "start_time": "2022-01-27T10:03:53.189Z"
   },
   {
    "duration": 13,
    "start_time": "2022-01-27T10:03:53.638Z"
   },
   {
    "duration": 16,
    "start_time": "2022-01-27T10:03:54.022Z"
   },
   {
    "duration": 5,
    "start_time": "2022-01-27T10:03:54.342Z"
   },
   {
    "duration": 1112,
    "start_time": "2022-01-27T10:03:54.574Z"
   },
   {
    "duration": 77,
    "start_time": "2022-01-27T10:03:55.775Z"
   },
   {
    "duration": 13,
    "start_time": "2022-01-27T10:03:56.093Z"
   },
   {
    "duration": 16,
    "start_time": "2022-01-27T10:03:56.373Z"
   },
   {
    "duration": 5,
    "start_time": "2022-01-27T10:03:56.710Z"
   },
   {
    "duration": 836,
    "start_time": "2022-01-27T10:03:56.914Z"
   },
   {
    "duration": 191,
    "start_time": "2022-01-27T10:03:57.752Z"
   },
   {
    "duration": 12,
    "start_time": "2022-01-27T10:03:59.357Z"
   },
   {
    "duration": 5,
    "start_time": "2022-01-27T10:03:59.659Z"
   },
   {
    "duration": 5,
    "start_time": "2022-01-27T10:03:59.815Z"
   },
   {
    "duration": 12,
    "start_time": "2022-01-27T10:04:00.109Z"
   },
   {
    "duration": 6,
    "start_time": "2022-01-27T10:04:00.276Z"
   },
   {
    "duration": 4,
    "start_time": "2022-01-27T10:04:00.402Z"
   },
   {
    "duration": 8,
    "start_time": "2022-01-27T10:04:00.925Z"
   },
   {
    "duration": 13,
    "start_time": "2022-01-27T10:04:01.322Z"
   },
   {
    "duration": 6,
    "start_time": "2022-01-27T10:04:01.598Z"
   },
   {
    "duration": 4,
    "start_time": "2022-01-27T10:04:01.718Z"
   },
   {
    "duration": 13,
    "start_time": "2022-01-27T10:04:02.005Z"
   },
   {
    "duration": 5,
    "start_time": "2022-01-27T10:04:02.176Z"
   },
   {
    "duration": 5,
    "start_time": "2022-01-27T10:04:02.282Z"
   },
   {
    "duration": 8,
    "start_time": "2022-01-27T10:04:02.799Z"
   },
   {
    "duration": 683,
    "start_time": "2022-01-27T10:13:14.298Z"
   },
   {
    "duration": 1586,
    "start_time": "2022-01-27T10:13:20.263Z"
   },
   {
    "duration": 129,
    "start_time": "2022-01-27T10:13:21.854Z"
   },
   {
    "duration": 13,
    "start_time": "2022-01-27T10:13:21.985Z"
   },
   {
    "duration": 312,
    "start_time": "2022-01-27T10:13:22.000Z"
   },
   {
    "duration": 1807,
    "start_time": "2022-01-27T10:13:22.314Z"
   },
   {
    "duration": 132,
    "start_time": "2022-01-27T10:13:24.122Z"
   },
   {
    "duration": 8,
    "start_time": "2022-01-27T10:13:24.256Z"
   },
   {
    "duration": 10,
    "start_time": "2022-01-27T10:13:24.266Z"
   },
   {
    "duration": 7,
    "start_time": "2022-01-27T10:13:24.278Z"
   },
   {
    "duration": 9,
    "start_time": "2022-01-27T10:13:24.286Z"
   },
   {
    "duration": 43,
    "start_time": "2022-01-27T10:13:24.296Z"
   },
   {
    "duration": 8,
    "start_time": "2022-01-27T10:13:24.341Z"
   },
   {
    "duration": 22,
    "start_time": "2022-01-27T10:13:24.351Z"
   },
   {
    "duration": 83,
    "start_time": "2022-01-27T10:13:24.375Z"
   },
   {
    "duration": 22,
    "start_time": "2022-01-27T10:13:24.460Z"
   },
   {
    "duration": 28,
    "start_time": "2022-01-27T10:13:24.484Z"
   },
   {
    "duration": 11,
    "start_time": "2022-01-27T10:13:24.514Z"
   },
   {
    "duration": 36,
    "start_time": "2022-01-27T10:13:24.527Z"
   },
   {
    "duration": 326,
    "start_time": "2022-01-27T10:13:24.565Z"
   },
   {
    "duration": 7,
    "start_time": "2022-01-27T10:13:24.893Z"
   },
   {
    "duration": 29,
    "start_time": "2022-01-27T10:13:24.902Z"
   },
   {
    "duration": 112,
    "start_time": "2022-01-27T10:13:24.938Z"
   },
   {
    "duration": 199,
    "start_time": "2022-01-27T10:13:25.053Z"
   },
   {
    "duration": 9,
    "start_time": "2022-01-27T10:13:25.254Z"
   },
   {
    "duration": 12,
    "start_time": "2022-01-27T10:13:25.264Z"
   },
   {
    "duration": 96,
    "start_time": "2022-01-27T10:13:25.277Z"
   },
   {
    "duration": 17,
    "start_time": "2022-01-27T10:13:25.375Z"
   },
   {
    "duration": 2,
    "start_time": "2022-01-27T10:13:25.394Z"
   },
   {
    "duration": 26,
    "start_time": "2022-01-27T10:13:25.397Z"
   },
   {
    "duration": 3,
    "start_time": "2022-01-27T10:13:25.425Z"
   },
   {
    "duration": 33,
    "start_time": "2022-01-27T10:13:25.430Z"
   },
   {
    "duration": 2,
    "start_time": "2022-01-27T10:13:25.465Z"
   },
   {
    "duration": 14,
    "start_time": "2022-01-27T10:13:25.469Z"
   },
   {
    "duration": 2,
    "start_time": "2022-01-27T10:13:25.513Z"
   },
   {
    "duration": 35,
    "start_time": "2022-01-27T10:13:25.517Z"
   },
   {
    "duration": 8,
    "start_time": "2022-01-27T10:13:25.553Z"
   },
   {
    "duration": 2266,
    "start_time": "2022-01-27T10:13:25.562Z"
   },
   {
    "duration": 7,
    "start_time": "2022-01-27T10:13:27.830Z"
   },
   {
    "duration": 12248,
    "start_time": "2022-01-27T10:13:27.838Z"
   },
   {
    "duration": 56,
    "start_time": "2022-01-27T10:13:40.088Z"
   },
   {
    "duration": 75,
    "start_time": "2022-01-27T10:13:40.145Z"
   },
   {
    "duration": 10,
    "start_time": "2022-01-27T10:13:40.221Z"
   },
   {
    "duration": 17,
    "start_time": "2022-01-27T10:13:40.232Z"
   },
   {
    "duration": 5,
    "start_time": "2022-01-27T10:13:40.250Z"
   },
   {
    "duration": 58,
    "start_time": "2022-01-27T10:13:40.257Z"
   },
   {
    "duration": 4,
    "start_time": "2022-01-27T10:13:40.317Z"
   },
   {
    "duration": 6,
    "start_time": "2022-01-27T10:13:40.323Z"
   },
   {
    "duration": 11,
    "start_time": "2022-01-27T10:13:40.331Z"
   },
   {
    "duration": 10,
    "start_time": "2022-01-27T10:13:40.343Z"
   },
   {
    "duration": 71,
    "start_time": "2022-01-27T10:13:40.354Z"
   },
   {
    "duration": 10,
    "start_time": "2022-01-27T10:13:40.427Z"
   },
   {
    "duration": 14,
    "start_time": "2022-01-27T10:13:40.438Z"
   },
   {
    "duration": 60,
    "start_time": "2022-01-27T10:13:40.454Z"
   },
   {
    "duration": 14,
    "start_time": "2022-01-27T10:13:40.516Z"
   },
   {
    "duration": 82,
    "start_time": "2022-01-27T10:13:40.532Z"
   },
   {
    "duration": 12,
    "start_time": "2022-01-27T10:13:40.615Z"
   },
   {
    "duration": 18,
    "start_time": "2022-01-27T10:13:40.628Z"
   },
   {
    "duration": 7,
    "start_time": "2022-01-27T10:13:40.647Z"
   },
   {
    "duration": 63,
    "start_time": "2022-01-27T10:13:40.656Z"
   },
   {
    "duration": 35,
    "start_time": "2022-01-27T10:13:40.720Z"
   },
   {
    "duration": 168,
    "start_time": "2022-01-27T10:13:40.756Z"
   },
   {
    "duration": 407,
    "start_time": "2022-01-27T10:13:40.926Z"
   },
   {
    "duration": 9,
    "start_time": "2022-01-27T10:13:41.335Z"
   },
   {
    "duration": 368,
    "start_time": "2022-01-27T10:13:41.345Z"
   },
   {
    "duration": 12,
    "start_time": "2022-01-27T10:13:41.715Z"
   },
   {
    "duration": 70,
    "start_time": "2022-01-27T10:13:41.729Z"
   },
   {
    "duration": 31,
    "start_time": "2022-01-27T10:13:41.813Z"
   },
   {
    "duration": 13,
    "start_time": "2022-01-27T10:13:41.847Z"
   },
   {
    "duration": 13,
    "start_time": "2022-01-27T10:13:41.862Z"
   },
   {
    "duration": 41,
    "start_time": "2022-01-27T10:13:41.877Z"
   },
   {
    "duration": 48,
    "start_time": "2022-01-27T10:13:41.919Z"
   },
   {
    "duration": 12,
    "start_time": "2022-01-27T10:13:41.968Z"
   },
   {
    "duration": 31,
    "start_time": "2022-01-27T10:13:41.982Z"
   },
   {
    "duration": 32,
    "start_time": "2022-01-27T10:13:42.015Z"
   },
   {
    "duration": 2,
    "start_time": "2022-01-27T10:13:42.049Z"
   },
   {
    "duration": 44,
    "start_time": "2022-01-27T10:13:42.053Z"
   },
   {
    "duration": 27,
    "start_time": "2022-01-27T10:13:42.112Z"
   },
   {
    "duration": 13,
    "start_time": "2022-01-27T10:13:42.141Z"
   },
   {
    "duration": 20,
    "start_time": "2022-01-27T10:13:42.155Z"
   },
   {
    "duration": 35,
    "start_time": "2022-01-27T10:13:42.177Z"
   },
   {
    "duration": 24,
    "start_time": "2022-01-27T10:13:42.214Z"
   },
   {
    "duration": 12,
    "start_time": "2022-01-27T10:13:42.239Z"
   },
   {
    "duration": 14,
    "start_time": "2022-01-27T10:13:42.253Z"
   },
   {
    "duration": 44,
    "start_time": "2022-01-27T10:13:42.268Z"
   },
   {
    "duration": 10,
    "start_time": "2022-01-27T10:13:42.314Z"
   },
   {
    "duration": 8,
    "start_time": "2022-01-27T10:13:42.325Z"
   },
   {
    "duration": 21,
    "start_time": "2022-01-27T10:13:42.336Z"
   },
   {
    "duration": 18,
    "start_time": "2022-01-27T10:13:42.358Z"
   },
   {
    "duration": 274,
    "start_time": "2022-01-27T10:13:42.377Z"
   },
   {
    "duration": 22,
    "start_time": "2022-01-27T10:13:42.653Z"
   },
   {
    "duration": 37,
    "start_time": "2022-01-27T10:13:42.677Z"
   },
   {
    "duration": 399,
    "start_time": "2022-01-27T10:13:42.716Z"
   },
   {
    "duration": 9,
    "start_time": "2022-01-27T10:13:43.117Z"
   },
   {
    "duration": 10,
    "start_time": "2022-01-27T10:13:43.128Z"
   },
   {
    "duration": 17,
    "start_time": "2022-01-27T10:13:43.139Z"
   },
   {
    "duration": 12,
    "start_time": "2022-01-27T10:13:43.158Z"
   },
   {
    "duration": 291,
    "start_time": "2022-01-27T10:13:43.171Z"
   },
   {
    "duration": 18,
    "start_time": "2022-01-27T10:13:43.464Z"
   },
   {
    "duration": 31,
    "start_time": "2022-01-27T10:13:43.484Z"
   },
   {
    "duration": 245,
    "start_time": "2022-01-27T10:13:43.517Z"
   },
   {
    "duration": 9,
    "start_time": "2022-01-27T10:13:43.764Z"
   },
   {
    "duration": 7,
    "start_time": "2022-01-27T10:13:43.775Z"
   },
   {
    "duration": 33,
    "start_time": "2022-01-27T10:13:43.783Z"
   },
   {
    "duration": 13,
    "start_time": "2022-01-27T10:13:43.818Z"
   },
   {
    "duration": 303,
    "start_time": "2022-01-27T10:13:43.833Z"
   },
   {
    "duration": 5,
    "start_time": "2022-01-27T10:13:44.137Z"
   },
   {
    "duration": 6,
    "start_time": "2022-01-27T10:13:44.143Z"
   },
   {
    "duration": 7,
    "start_time": "2022-01-27T10:13:44.150Z"
   },
   {
    "duration": 208,
    "start_time": "2022-01-27T10:13:44.159Z"
   },
   {
    "duration": 364,
    "start_time": "2022-01-27T10:13:44.369Z"
   },
   {
    "duration": 636,
    "start_time": "2022-01-27T10:13:44.735Z"
   },
   {
    "duration": 7,
    "start_time": "2022-01-27T10:13:45.372Z"
   },
   {
    "duration": 208,
    "start_time": "2022-01-27T10:13:45.381Z"
   },
   {
    "duration": 221,
    "start_time": "2022-01-27T10:13:45.591Z"
   },
   {
    "duration": 7001,
    "start_time": "2022-01-27T10:13:45.813Z"
   },
   {
    "duration": 5846,
    "start_time": "2022-01-27T10:13:46.970Z"
   },
   {
    "duration": 5839,
    "start_time": "2022-01-27T10:13:46.978Z"
   },
   {
    "duration": 5833,
    "start_time": "2022-01-27T10:13:46.985Z"
   },
   {
    "duration": 5825,
    "start_time": "2022-01-27T10:13:46.994Z"
   },
   {
    "duration": 5819,
    "start_time": "2022-01-27T10:13:47.001Z"
   },
   {
    "duration": 5812,
    "start_time": "2022-01-27T10:13:47.009Z"
   },
   {
    "duration": 5806,
    "start_time": "2022-01-27T10:13:47.016Z"
   },
   {
    "duration": 5798,
    "start_time": "2022-01-27T10:13:47.024Z"
   },
   {
    "duration": 5791,
    "start_time": "2022-01-27T10:13:47.032Z"
   },
   {
    "duration": 5783,
    "start_time": "2022-01-27T10:13:47.041Z"
   },
   {
    "duration": 5777,
    "start_time": "2022-01-27T10:13:47.048Z"
   },
   {
    "duration": 5769,
    "start_time": "2022-01-27T10:13:47.057Z"
   },
   {
    "duration": 5762,
    "start_time": "2022-01-27T10:13:47.065Z"
   },
   {
    "duration": 5755,
    "start_time": "2022-01-27T10:13:47.073Z"
   },
   {
    "duration": 5747,
    "start_time": "2022-01-27T10:13:47.082Z"
   },
   {
    "duration": 5739,
    "start_time": "2022-01-27T10:13:47.091Z"
   },
   {
    "duration": 5731,
    "start_time": "2022-01-27T10:13:47.099Z"
   },
   {
    "duration": 5724,
    "start_time": "2022-01-27T10:13:47.107Z"
   },
   {
    "duration": 5718,
    "start_time": "2022-01-27T10:13:47.114Z"
   },
   {
    "duration": 5711,
    "start_time": "2022-01-27T10:13:47.123Z"
   },
   {
    "duration": 5705,
    "start_time": "2022-01-27T10:13:47.130Z"
   },
   {
    "duration": 5697,
    "start_time": "2022-01-27T10:13:47.138Z"
   },
   {
    "duration": 5690,
    "start_time": "2022-01-27T10:13:47.146Z"
   },
   {
    "duration": 5682,
    "start_time": "2022-01-27T10:13:47.155Z"
   },
   {
    "duration": 5675,
    "start_time": "2022-01-27T10:13:47.163Z"
   },
   {
    "duration": 5668,
    "start_time": "2022-01-27T10:13:47.171Z"
   },
   {
    "duration": 5659,
    "start_time": "2022-01-27T10:13:47.181Z"
   },
   {
    "duration": 5650,
    "start_time": "2022-01-27T10:13:47.191Z"
   },
   {
    "duration": 5643,
    "start_time": "2022-01-27T10:13:47.199Z"
   },
   {
    "duration": 5636,
    "start_time": "2022-01-27T10:13:47.207Z"
   },
   {
    "duration": 5629,
    "start_time": "2022-01-27T10:13:47.215Z"
   },
   {
    "duration": 5621,
    "start_time": "2022-01-27T10:13:47.223Z"
   },
   {
    "duration": 5616,
    "start_time": "2022-01-27T10:13:47.230Z"
   },
   {
    "duration": 5609,
    "start_time": "2022-01-27T10:13:47.238Z"
   },
   {
    "duration": 5602,
    "start_time": "2022-01-27T10:13:47.246Z"
   },
   {
    "duration": 285,
    "start_time": "2022-01-27T10:14:04.408Z"
   },
   {
    "duration": 327,
    "start_time": "2022-01-27T10:14:04.758Z"
   },
   {
    "duration": 6057,
    "start_time": "2022-01-27T10:13:59.030Z"
   },
   {
    "duration": 279,
    "start_time": "2022-01-27T10:14:05.351Z"
   },
   {
    "duration": 7772,
    "start_time": "2022-01-27T10:14:06.670Z"
   },
   {
    "duration": 5962,
    "start_time": "2022-01-27T10:14:08.482Z"
   },
   {
    "duration": 5912,
    "start_time": "2022-01-27T10:14:08.533Z"
   },
   {
    "duration": 5881,
    "start_time": "2022-01-27T10:14:08.565Z"
   },
   {
    "duration": 5841,
    "start_time": "2022-01-27T10:14:08.606Z"
   },
   {
    "duration": 5829,
    "start_time": "2022-01-27T10:14:08.619Z"
   },
   {
    "duration": 5811,
    "start_time": "2022-01-27T10:14:08.638Z"
   },
   {
    "duration": 5800,
    "start_time": "2022-01-27T10:14:08.650Z"
   },
   {
    "duration": 5787,
    "start_time": "2022-01-27T10:14:08.664Z"
   },
   {
    "duration": 5776,
    "start_time": "2022-01-27T10:14:08.676Z"
   },
   {
    "duration": 5765,
    "start_time": "2022-01-27T10:14:08.688Z"
   },
   {
    "duration": 5726,
    "start_time": "2022-01-27T10:14:08.728Z"
   },
   {
    "duration": 5714,
    "start_time": "2022-01-27T10:14:08.741Z"
   },
   {
    "duration": 5706,
    "start_time": "2022-01-27T10:14:08.750Z"
   },
   {
    "duration": 5697,
    "start_time": "2022-01-27T10:14:08.760Z"
   },
   {
    "duration": 5689,
    "start_time": "2022-01-27T10:14:08.769Z"
   },
   {
    "duration": 345,
    "start_time": "2022-01-27T10:14:19.156Z"
   },
   {
    "duration": 294,
    "start_time": "2022-01-27T10:14:20.108Z"
   },
   {
    "duration": 267,
    "start_time": "2022-01-27T10:14:20.895Z"
   },
   {
    "duration": 273,
    "start_time": "2022-01-27T10:14:21.560Z"
   },
   {
    "duration": 283,
    "start_time": "2022-01-27T10:14:22.969Z"
   },
   {
    "duration": 8209,
    "start_time": "2022-01-27T10:14:25.086Z"
   },
   {
    "duration": 6055,
    "start_time": "2022-01-27T10:14:27.243Z"
   },
   {
    "duration": 6047,
    "start_time": "2022-01-27T10:14:27.252Z"
   },
   {
    "duration": 6040,
    "start_time": "2022-01-27T10:14:27.261Z"
   },
   {
    "duration": 268,
    "start_time": "2022-01-27T10:14:39.584Z"
   },
   {
    "duration": 350,
    "start_time": "2022-01-27T10:14:41.118Z"
   },
   {
    "duration": 260,
    "start_time": "2022-01-27T10:14:41.959Z"
   },
   {
    "duration": 310,
    "start_time": "2022-01-27T10:14:43.358Z"
   },
   {
    "duration": 276,
    "start_time": "2022-01-27T10:14:44.208Z"
   },
   {
    "duration": 277,
    "start_time": "2022-01-27T10:14:44.727Z"
   },
   {
    "duration": 1272,
    "start_time": "2022-01-29T21:55:57.359Z"
   },
   {
    "duration": -887,
    "start_time": "2022-01-29T21:55:59.528Z"
   },
   {
    "duration": -964,
    "start_time": "2022-01-29T21:55:59.607Z"
   },
   {
    "duration": -973,
    "start_time": "2022-01-29T21:55:59.618Z"
   },
   {
    "duration": -1001,
    "start_time": "2022-01-29T21:55:59.647Z"
   },
   {
    "duration": -1048,
    "start_time": "2022-01-29T21:55:59.696Z"
   },
   {
    "duration": -1061,
    "start_time": "2022-01-29T21:55:59.710Z"
   },
   {
    "duration": -1073,
    "start_time": "2022-01-29T21:55:59.724Z"
   },
   {
    "duration": -1091,
    "start_time": "2022-01-29T21:55:59.743Z"
   },
   {
    "duration": -1219,
    "start_time": "2022-01-29T21:55:59.872Z"
   },
   {
    "duration": -1235,
    "start_time": "2022-01-29T21:55:59.890Z"
   },
   {
    "duration": -1254,
    "start_time": "2022-01-29T21:55:59.910Z"
   },
   {
    "duration": -1274,
    "start_time": "2022-01-29T21:55:59.932Z"
   },
   {
    "duration": -1295,
    "start_time": "2022-01-29T21:55:59.954Z"
   },
   {
    "duration": -1315,
    "start_time": "2022-01-29T21:55:59.976Z"
   },
   {
    "duration": -1363,
    "start_time": "2022-01-29T21:56:00.025Z"
   },
   {
    "duration": -1383,
    "start_time": "2022-01-29T21:56:00.047Z"
   },
   {
    "duration": -1401,
    "start_time": "2022-01-29T21:56:00.066Z"
   },
   {
    "duration": -1416,
    "start_time": "2022-01-29T21:56:00.082Z"
   },
   {
    "duration": -1432,
    "start_time": "2022-01-29T21:56:00.099Z"
   },
   {
    "duration": -1446,
    "start_time": "2022-01-29T21:56:00.115Z"
   },
   {
    "duration": -1467,
    "start_time": "2022-01-29T21:56:00.137Z"
   },
   {
    "duration": -1475,
    "start_time": "2022-01-29T21:56:00.146Z"
   },
   {
    "duration": -1482,
    "start_time": "2022-01-29T21:56:00.155Z"
   },
   {
    "duration": -1490,
    "start_time": "2022-01-29T21:56:00.164Z"
   },
   {
    "duration": -1497,
    "start_time": "2022-01-29T21:56:00.173Z"
   },
   {
    "duration": -1505,
    "start_time": "2022-01-29T21:56:00.182Z"
   },
   {
    "duration": -1511,
    "start_time": "2022-01-29T21:56:00.190Z"
   },
   {
    "duration": -1519,
    "start_time": "2022-01-29T21:56:00.199Z"
   },
   {
    "duration": -1529,
    "start_time": "2022-01-29T21:56:00.210Z"
   },
   {
    "duration": -1538,
    "start_time": "2022-01-29T21:56:00.221Z"
   },
   {
    "duration": -1549,
    "start_time": "2022-01-29T21:56:00.233Z"
   },
   {
    "duration": -1588,
    "start_time": "2022-01-29T21:56:00.274Z"
   },
   {
    "duration": -1604,
    "start_time": "2022-01-29T21:56:00.291Z"
   },
   {
    "duration": -1620,
    "start_time": "2022-01-29T21:56:00.309Z"
   },
   {
    "duration": -1635,
    "start_time": "2022-01-29T21:56:00.325Z"
   },
   {
    "duration": -1652,
    "start_time": "2022-01-29T21:56:00.343Z"
   },
   {
    "duration": -1667,
    "start_time": "2022-01-29T21:56:00.360Z"
   },
   {
    "duration": -1694,
    "start_time": "2022-01-29T21:56:00.388Z"
   },
   {
    "duration": -1706,
    "start_time": "2022-01-29T21:56:00.401Z"
   },
   {
    "duration": -1714,
    "start_time": "2022-01-29T21:56:00.411Z"
   },
   {
    "duration": -1722,
    "start_time": "2022-01-29T21:56:00.420Z"
   },
   {
    "duration": -1670,
    "start_time": "2022-01-29T21:56:00.429Z"
   },
   {
    "duration": -1676,
    "start_time": "2022-01-29T21:56:00.437Z"
   },
   {
    "duration": -1684,
    "start_time": "2022-01-29T21:56:00.446Z"
   },
   {
    "duration": -1691,
    "start_time": "2022-01-29T21:56:00.455Z"
   },
   {
    "duration": -1701,
    "start_time": "2022-01-29T21:56:00.466Z"
   },
   {
    "duration": -1709,
    "start_time": "2022-01-29T21:56:00.475Z"
   },
   {
    "duration": -1738,
    "start_time": "2022-01-29T21:56:00.506Z"
   },
   {
    "duration": -1754,
    "start_time": "2022-01-29T21:56:00.523Z"
   },
   {
    "duration": -1771,
    "start_time": "2022-01-29T21:56:00.542Z"
   },
   {
    "duration": -1786,
    "start_time": "2022-01-29T21:56:00.558Z"
   },
   {
    "duration": -1803,
    "start_time": "2022-01-29T21:56:00.576Z"
   },
   {
    "duration": -1820,
    "start_time": "2022-01-29T21:56:00.595Z"
   },
   {
    "duration": -1846,
    "start_time": "2022-01-29T21:56:00.622Z"
   },
   {
    "duration": -1857,
    "start_time": "2022-01-29T21:56:00.634Z"
   },
   {
    "duration": -1868,
    "start_time": "2022-01-29T21:56:00.647Z"
   },
   {
    "duration": -1879,
    "start_time": "2022-01-29T21:56:00.659Z"
   },
   {
    "duration": -1889,
    "start_time": "2022-01-29T21:56:00.671Z"
   },
   {
    "duration": -1898,
    "start_time": "2022-01-29T21:56:00.681Z"
   },
   {
    "duration": -2045,
    "start_time": "2022-01-29T21:56:00.829Z"
   },
   {
    "duration": -2052,
    "start_time": "2022-01-29T21:56:00.838Z"
   },
   {
    "duration": -2061,
    "start_time": "2022-01-29T21:56:00.848Z"
   },
   {
    "duration": -2068,
    "start_time": "2022-01-29T21:56:00.857Z"
   },
   {
    "duration": -2215,
    "start_time": "2022-01-29T21:56:01.005Z"
   },
   {
    "duration": -2222,
    "start_time": "2022-01-29T21:56:01.014Z"
   },
   {
    "duration": -2231,
    "start_time": "2022-01-29T21:56:01.024Z"
   },
   {
    "duration": -2237,
    "start_time": "2022-01-29T21:56:01.032Z"
   },
   {
    "duration": -2244,
    "start_time": "2022-01-29T21:56:01.041Z"
   },
   {
    "duration": -2187,
    "start_time": "2022-01-29T21:56:01.050Z"
   },
   {
    "duration": -2195,
    "start_time": "2022-01-29T21:56:01.059Z"
   },
   {
    "duration": -2201,
    "start_time": "2022-01-29T21:56:01.067Z"
   },
   {
    "duration": -2208,
    "start_time": "2022-01-29T21:56:01.076Z"
   },
   {
    "duration": -2215,
    "start_time": "2022-01-29T21:56:01.084Z"
   },
   {
    "duration": -2222,
    "start_time": "2022-01-29T21:56:01.093Z"
   },
   {
    "duration": -2229,
    "start_time": "2022-01-29T21:56:01.101Z"
   },
   {
    "duration": -2249,
    "start_time": "2022-01-29T21:56:01.123Z"
   },
   {
    "duration": -2257,
    "start_time": "2022-01-29T21:56:01.132Z"
   },
   {
    "duration": -2264,
    "start_time": "2022-01-29T21:56:01.141Z"
   },
   {
    "duration": -2271,
    "start_time": "2022-01-29T21:56:01.149Z"
   },
   {
    "duration": -2278,
    "start_time": "2022-01-29T21:56:01.158Z"
   },
   {
    "duration": -2484,
    "start_time": "2022-01-29T21:56:01.365Z"
   },
   {
    "duration": -2502,
    "start_time": "2022-01-29T21:56:01.385Z"
   },
   {
    "duration": -2509,
    "start_time": "2022-01-29T21:56:01.393Z"
   },
   {
    "duration": -2519,
    "start_time": "2022-01-29T21:56:01.405Z"
   },
   {
    "duration": -2527,
    "start_time": "2022-01-29T21:56:01.414Z"
   },
   {
    "duration": -2535,
    "start_time": "2022-01-29T21:56:01.424Z"
   },
   {
    "duration": -2544,
    "start_time": "2022-01-29T21:56:01.434Z"
   },
   {
    "duration": -2553,
    "start_time": "2022-01-29T21:56:01.445Z"
   },
   {
    "duration": -2564,
    "start_time": "2022-01-29T21:56:01.457Z"
   },
   {
    "duration": -3086,
    "start_time": "2022-01-29T21:56:01.981Z"
   },
   {
    "duration": -3108,
    "start_time": "2022-01-29T21:56:02.004Z"
   },
   {
    "duration": -3051,
    "start_time": "2022-01-29T21:56:02.013Z"
   },
   {
    "duration": -3058,
    "start_time": "2022-01-29T21:56:02.021Z"
   },
   {
    "duration": -3064,
    "start_time": "2022-01-29T21:56:02.029Z"
   },
   {
    "duration": -3070,
    "start_time": "2022-01-29T21:56:02.037Z"
   },
   {
    "duration": -3077,
    "start_time": "2022-01-29T21:56:02.045Z"
   },
   {
    "duration": -3083,
    "start_time": "2022-01-29T21:56:02.053Z"
   },
   {
    "duration": -3089,
    "start_time": "2022-01-29T21:56:02.061Z"
   },
   {
    "duration": -3096,
    "start_time": "2022-01-29T21:56:02.069Z"
   },
   {
    "duration": -3104,
    "start_time": "2022-01-29T21:56:02.078Z"
   },
   {
    "duration": -3110,
    "start_time": "2022-01-29T21:56:02.086Z"
   },
   {
    "duration": -3117,
    "start_time": "2022-01-29T21:56:02.095Z"
   },
   {
    "duration": -3123,
    "start_time": "2022-01-29T21:56:02.102Z"
   },
   {
    "duration": -3144,
    "start_time": "2022-01-29T21:56:02.125Z"
   },
   {
    "duration": -3153,
    "start_time": "2022-01-29T21:56:02.135Z"
   },
   {
    "duration": -3161,
    "start_time": "2022-01-29T21:56:02.145Z"
   },
   {
    "duration": -3171,
    "start_time": "2022-01-29T21:56:02.156Z"
   },
   {
    "duration": -3182,
    "start_time": "2022-01-29T21:56:02.169Z"
   },
   {
    "duration": -3193,
    "start_time": "2022-01-29T21:56:02.181Z"
   },
   {
    "duration": -3205,
    "start_time": "2022-01-29T21:56:02.194Z"
   },
   {
    "duration": -3215,
    "start_time": "2022-01-29T21:56:02.206Z"
   },
   {
    "duration": -3227,
    "start_time": "2022-01-29T21:56:02.219Z"
   },
   {
    "duration": -3255,
    "start_time": "2022-01-29T21:56:02.248Z"
   },
   {
    "duration": -3266,
    "start_time": "2022-01-29T21:56:02.260Z"
   },
   {
    "duration": -3276,
    "start_time": "2022-01-29T21:56:02.272Z"
   },
   {
    "duration": -3289,
    "start_time": "2022-01-29T21:56:02.286Z"
   },
   {
    "duration": -3240,
    "start_time": "2022-01-29T21:56:02.299Z"
   },
   {
    "duration": -3253,
    "start_time": "2022-01-29T21:56:02.314Z"
   },
   {
    "duration": -3265,
    "start_time": "2022-01-29T21:56:02.327Z"
   },
   {
    "duration": -3277,
    "start_time": "2022-01-29T21:56:02.341Z"
   },
   {
    "duration": -3532,
    "start_time": "2022-01-29T21:56:02.597Z"
   },
   {
    "duration": -3538,
    "start_time": "2022-01-29T21:56:02.605Z"
   },
   {
    "duration": -3558,
    "start_time": "2022-01-29T21:56:02.626Z"
   },
   {
    "duration": -3566,
    "start_time": "2022-01-29T21:56:02.635Z"
   },
   {
    "duration": -3572,
    "start_time": "2022-01-29T21:56:02.643Z"
   },
   {
    "duration": -3579,
    "start_time": "2022-01-29T21:56:02.651Z"
   },
   {
    "duration": -3586,
    "start_time": "2022-01-29T21:56:02.659Z"
   },
   {
    "duration": -3592,
    "start_time": "2022-01-29T21:56:02.667Z"
   },
   {
    "duration": -3599,
    "start_time": "2022-01-29T21:56:02.675Z"
   },
   {
    "duration": -3606,
    "start_time": "2022-01-29T21:56:02.683Z"
   },
   {
    "duration": -3612,
    "start_time": "2022-01-29T21:56:02.690Z"
   },
   {
    "duration": -3618,
    "start_time": "2022-01-29T21:56:02.698Z"
   },
   {
    "duration": -3625,
    "start_time": "2022-01-29T21:56:02.706Z"
   },
   {
    "duration": -3632,
    "start_time": "2022-01-29T21:56:02.714Z"
   },
   {
    "duration": -3638,
    "start_time": "2022-01-29T21:56:02.721Z"
   },
   {
    "duration": -3658,
    "start_time": "2022-01-29T21:56:02.743Z"
   },
   {
    "duration": -3665,
    "start_time": "2022-01-29T21:56:02.751Z"
   },
   {
    "duration": -3673,
    "start_time": "2022-01-29T21:56:02.760Z"
   },
   {
    "duration": -3678,
    "start_time": "2022-01-29T21:56:02.767Z"
   },
   {
    "duration": -3686,
    "start_time": "2022-01-29T21:56:02.776Z"
   },
   {
    "duration": -3692,
    "start_time": "2022-01-29T21:56:02.783Z"
   },
   {
    "duration": -3698,
    "start_time": "2022-01-29T21:56:02.791Z"
   },
   {
    "duration": -3704,
    "start_time": "2022-01-29T21:56:02.798Z"
   },
   {
    "duration": -3648,
    "start_time": "2022-01-29T21:56:02.807Z"
   },
   {
    "duration": -3653,
    "start_time": "2022-01-29T21:56:02.814Z"
   },
   {
    "duration": -3659,
    "start_time": "2022-01-29T21:56:02.822Z"
   },
   {
    "duration": -3666,
    "start_time": "2022-01-29T21:56:02.830Z"
   },
   {
    "duration": -3672,
    "start_time": "2022-01-29T21:56:02.838Z"
   },
   {
    "duration": 375,
    "start_time": "2022-01-29T21:55:59.173Z"
   },
   {
    "duration": 1874,
    "start_time": "2022-01-29T21:56:49.509Z"
   },
   {
    "duration": -843,
    "start_time": "2022-01-29T21:56:52.237Z"
   },
   {
    "duration": -865,
    "start_time": "2022-01-29T21:56:52.260Z"
   },
   {
    "duration": -886,
    "start_time": "2022-01-29T21:56:52.282Z"
   },
   {
    "duration": -930,
    "start_time": "2022-01-29T21:56:52.327Z"
   },
   {
    "duration": -945,
    "start_time": "2022-01-29T21:56:52.344Z"
   },
   {
    "duration": -956,
    "start_time": "2022-01-29T21:56:52.356Z"
   },
   {
    "duration": -965,
    "start_time": "2022-01-29T21:56:52.366Z"
   },
   {
    "duration": -973,
    "start_time": "2022-01-29T21:56:52.376Z"
   },
   {
    "duration": -984,
    "start_time": "2022-01-29T21:56:52.388Z"
   },
   {
    "duration": -993,
    "start_time": "2022-01-29T21:56:52.398Z"
   },
   {
    "duration": -1003,
    "start_time": "2022-01-29T21:56:52.409Z"
   },
   {
    "duration": -1023,
    "start_time": "2022-01-29T21:56:52.431Z"
   },
   {
    "duration": -1032,
    "start_time": "2022-01-29T21:56:52.441Z"
   },
   {
    "duration": -1041,
    "start_time": "2022-01-29T21:56:52.451Z"
   },
   {
    "duration": -1051,
    "start_time": "2022-01-29T21:56:52.462Z"
   },
   {
    "duration": -1060,
    "start_time": "2022-01-29T21:56:52.472Z"
   },
   {
    "duration": -1069,
    "start_time": "2022-01-29T21:56:52.482Z"
   },
   {
    "duration": -1076,
    "start_time": "2022-01-29T21:56:52.491Z"
   },
   {
    "duration": -1085,
    "start_time": "2022-01-29T21:56:52.501Z"
   },
   {
    "duration": -1093,
    "start_time": "2022-01-29T21:56:52.510Z"
   },
   {
    "duration": -1101,
    "start_time": "2022-01-29T21:56:52.520Z"
   },
   {
    "duration": -1109,
    "start_time": "2022-01-29T21:56:52.529Z"
   },
   {
    "duration": -1132,
    "start_time": "2022-01-29T21:56:52.553Z"
   },
   {
    "duration": -1141,
    "start_time": "2022-01-29T21:56:52.563Z"
   },
   {
    "duration": -1727,
    "start_time": "2022-01-29T21:56:53.151Z"
   },
   {
    "duration": -1736,
    "start_time": "2022-01-29T21:56:53.161Z"
   },
   {
    "duration": -1746,
    "start_time": "2022-01-29T21:56:53.172Z"
   },
   {
    "duration": -1755,
    "start_time": "2022-01-29T21:56:53.182Z"
   },
   {
    "duration": -1730,
    "start_time": "2022-01-29T21:56:53.192Z"
   },
   {
    "duration": -1737,
    "start_time": "2022-01-29T21:56:53.201Z"
   },
   {
    "duration": -1747,
    "start_time": "2022-01-29T21:56:53.212Z"
   },
   {
    "duration": -1754,
    "start_time": "2022-01-29T21:56:53.221Z"
   },
   {
    "duration": -1762,
    "start_time": "2022-01-29T21:56:53.231Z"
   },
   {
    "duration": -1770,
    "start_time": "2022-01-29T21:56:53.240Z"
   },
   {
    "duration": -1792,
    "start_time": "2022-01-29T21:56:53.263Z"
   },
   {
    "duration": -1800,
    "start_time": "2022-01-29T21:56:53.273Z"
   },
   {
    "duration": -1809,
    "start_time": "2022-01-29T21:56:53.283Z"
   },
   {
    "duration": -1818,
    "start_time": "2022-01-29T21:56:53.293Z"
   },
   {
    "duration": -1826,
    "start_time": "2022-01-29T21:56:53.303Z"
   },
   {
    "duration": -1834,
    "start_time": "2022-01-29T21:56:53.312Z"
   },
   {
    "duration": -1842,
    "start_time": "2022-01-29T21:56:53.322Z"
   },
   {
    "duration": -1851,
    "start_time": "2022-01-29T21:56:53.332Z"
   },
   {
    "duration": -1859,
    "start_time": "2022-01-29T21:56:53.341Z"
   },
   {
    "duration": -1866,
    "start_time": "2022-01-29T21:56:53.350Z"
   },
   {
    "duration": -1876,
    "start_time": "2022-01-29T21:56:53.361Z"
   },
   {
    "duration": -1896,
    "start_time": "2022-01-29T21:56:53.383Z"
   },
   {
    "duration": -1906,
    "start_time": "2022-01-29T21:56:53.394Z"
   },
   {
    "duration": -1914,
    "start_time": "2022-01-29T21:56:53.403Z"
   },
   {
    "duration": -1923,
    "start_time": "2022-01-29T21:56:53.414Z"
   },
   {
    "duration": -1931,
    "start_time": "2022-01-29T21:56:53.423Z"
   },
   {
    "duration": -1940,
    "start_time": "2022-01-29T21:56:53.433Z"
   },
   {
    "duration": -1947,
    "start_time": "2022-01-29T21:56:53.442Z"
   },
   {
    "duration": -1892,
    "start_time": "2022-01-29T21:56:53.452Z"
   },
   {
    "duration": -1899,
    "start_time": "2022-01-29T21:56:53.462Z"
   },
   {
    "duration": -1907,
    "start_time": "2022-01-29T21:56:53.472Z"
   },
   {
    "duration": -1914,
    "start_time": "2022-01-29T21:56:53.481Z"
   },
   {
    "duration": -2864,
    "start_time": "2022-01-29T21:56:54.434Z"
   },
   {
    "duration": -3690,
    "start_time": "2022-01-29T21:56:55.262Z"
   },
   {
    "duration": -3719,
    "start_time": "2022-01-29T21:56:55.293Z"
   },
   {
    "duration": -3730,
    "start_time": "2022-01-29T21:56:55.306Z"
   },
   {
    "duration": -3742,
    "start_time": "2022-01-29T21:56:55.320Z"
   },
   {
    "duration": -3753,
    "start_time": "2022-01-29T21:56:55.334Z"
   },
   {
    "duration": -3767,
    "start_time": "2022-01-29T21:56:55.350Z"
   },
   {
    "duration": -3778,
    "start_time": "2022-01-29T21:56:55.364Z"
   },
   {
    "duration": -3791,
    "start_time": "2022-01-29T21:56:55.379Z"
   },
   {
    "duration": -3820,
    "start_time": "2022-01-29T21:56:55.411Z"
   },
   {
    "duration": -3834,
    "start_time": "2022-01-29T21:56:55.427Z"
   },
   {
    "duration": -3784,
    "start_time": "2022-01-29T21:56:55.442Z"
   },
   {
    "duration": -3797,
    "start_time": "2022-01-29T21:56:55.458Z"
   },
   {
    "duration": -3811,
    "start_time": "2022-01-29T21:56:55.474Z"
   },
   {
    "duration": -3823,
    "start_time": "2022-01-29T21:56:55.489Z"
   },
   {
    "duration": -3835,
    "start_time": "2022-01-29T21:56:55.503Z"
   },
   {
    "duration": -3868,
    "start_time": "2022-01-29T21:56:55.538Z"
   },
   {
    "duration": -3879,
    "start_time": "2022-01-29T21:56:55.552Z"
   },
   {
    "duration": -3892,
    "start_time": "2022-01-29T21:56:55.567Z"
   },
   {
    "duration": -3904,
    "start_time": "2022-01-29T21:56:55.582Z"
   },
   {
    "duration": -3918,
    "start_time": "2022-01-29T21:56:55.598Z"
   },
   {
    "duration": -3930,
    "start_time": "2022-01-29T21:56:55.612Z"
   },
   {
    "duration": -3942,
    "start_time": "2022-01-29T21:56:55.627Z"
   },
   {
    "duration": -3972,
    "start_time": "2022-01-29T21:56:55.659Z"
   },
   {
    "duration": -3980,
    "start_time": "2022-01-29T21:56:55.670Z"
   },
   {
    "duration": -3988,
    "start_time": "2022-01-29T21:56:55.680Z"
   },
   {
    "duration": -3995,
    "start_time": "2022-01-29T21:56:55.690Z"
   },
   {
    "duration": -4003,
    "start_time": "2022-01-29T21:56:55.700Z"
   },
   {
    "duration": -3953,
    "start_time": "2022-01-29T21:56:55.711Z"
   },
   {
    "duration": -3960,
    "start_time": "2022-01-29T21:56:55.721Z"
   },
   {
    "duration": -3968,
    "start_time": "2022-01-29T21:56:55.731Z"
   },
   {
    "duration": -3974,
    "start_time": "2022-01-29T21:56:55.739Z"
   },
   {
    "duration": -3982,
    "start_time": "2022-01-29T21:56:55.749Z"
   },
   {
    "duration": -4003,
    "start_time": "2022-01-29T21:56:55.772Z"
   },
   {
    "duration": -4014,
    "start_time": "2022-01-29T21:56:55.785Z"
   },
   {
    "duration": -4022,
    "start_time": "2022-01-29T21:56:55.796Z"
   },
   {
    "duration": -4035,
    "start_time": "2022-01-29T21:56:55.811Z"
   },
   {
    "duration": -4046,
    "start_time": "2022-01-29T21:56:55.824Z"
   },
   {
    "duration": -4059,
    "start_time": "2022-01-29T21:56:55.839Z"
   },
   {
    "duration": -4511,
    "start_time": "2022-01-29T21:56:56.293Z"
   },
   {
    "duration": -4870,
    "start_time": "2022-01-29T21:56:56.655Z"
   },
   {
    "duration": -4879,
    "start_time": "2022-01-29T21:56:56.666Z"
   },
   {
    "duration": -4890,
    "start_time": "2022-01-29T21:56:56.678Z"
   },
   {
    "duration": -4900,
    "start_time": "2022-01-29T21:56:56.691Z"
   },
   {
    "duration": -4914,
    "start_time": "2022-01-29T21:56:56.707Z"
   },
   {
    "duration": -4928,
    "start_time": "2022-01-29T21:56:56.722Z"
   },
   {
    "duration": -4941,
    "start_time": "2022-01-29T21:56:56.737Z"
   },
   {
    "duration": -4953,
    "start_time": "2022-01-29T21:56:56.752Z"
   },
   {
    "duration": -4925,
    "start_time": "2022-01-29T21:56:56.785Z"
   },
   {
    "duration": -4933,
    "start_time": "2022-01-29T21:56:56.795Z"
   },
   {
    "duration": -4942,
    "start_time": "2022-01-29T21:56:56.806Z"
   },
   {
    "duration": -4950,
    "start_time": "2022-01-29T21:56:56.815Z"
   },
   {
    "duration": -4958,
    "start_time": "2022-01-29T21:56:56.825Z"
   },
   {
    "duration": -4965,
    "start_time": "2022-01-29T21:56:56.834Z"
   },
   {
    "duration": -4973,
    "start_time": "2022-01-29T21:56:56.843Z"
   },
   {
    "duration": -4980,
    "start_time": "2022-01-29T21:56:56.852Z"
   },
   {
    "duration": -4988,
    "start_time": "2022-01-29T21:56:56.862Z"
   },
   {
    "duration": -4995,
    "start_time": "2022-01-29T21:56:56.871Z"
   },
   {
    "duration": -5017,
    "start_time": "2022-01-29T21:56:56.894Z"
   },
   {
    "duration": -5024,
    "start_time": "2022-01-29T21:56:56.903Z"
   },
   {
    "duration": -5033,
    "start_time": "2022-01-29T21:56:56.914Z"
   },
   {
    "duration": -5040,
    "start_time": "2022-01-29T21:56:56.923Z"
   },
   {
    "duration": -5048,
    "start_time": "2022-01-29T21:56:56.932Z"
   },
   {
    "duration": -5056,
    "start_time": "2022-01-29T21:56:56.941Z"
   },
   {
    "duration": -5064,
    "start_time": "2022-01-29T21:56:56.951Z"
   },
   {
    "duration": -5069,
    "start_time": "2022-01-29T21:56:56.960Z"
   },
   {
    "duration": -5077,
    "start_time": "2022-01-29T21:56:56.970Z"
   },
   {
    "duration": -5084,
    "start_time": "2022-01-29T21:56:56.979Z"
   },
   {
    "duration": -5090,
    "start_time": "2022-01-29T21:56:56.988Z"
   },
   {
    "duration": -5051,
    "start_time": "2022-01-29T21:56:57.010Z"
   },
   {
    "duration": -5060,
    "start_time": "2022-01-29T21:56:57.022Z"
   },
   {
    "duration": -5069,
    "start_time": "2022-01-29T21:56:57.033Z"
   },
   {
    "duration": -5080,
    "start_time": "2022-01-29T21:56:57.046Z"
   },
   {
    "duration": -5090,
    "start_time": "2022-01-29T21:56:57.058Z"
   },
   {
    "duration": -5099,
    "start_time": "2022-01-29T21:56:57.070Z"
   },
   {
    "duration": -5107,
    "start_time": "2022-01-29T21:56:57.080Z"
   },
   {
    "duration": -5117,
    "start_time": "2022-01-29T21:56:57.092Z"
   },
   {
    "duration": -5126,
    "start_time": "2022-01-29T21:56:57.103Z"
   },
   {
    "duration": -5151,
    "start_time": "2022-01-29T21:56:57.131Z"
   },
   {
    "duration": -5160,
    "start_time": "2022-01-29T21:56:57.142Z"
   },
   {
    "duration": -5169,
    "start_time": "2022-01-29T21:56:57.154Z"
   },
   {
    "duration": -5178,
    "start_time": "2022-01-29T21:56:57.165Z"
   },
   {
    "duration": -5189,
    "start_time": "2022-01-29T21:56:57.178Z"
   },
   {
    "duration": -5200,
    "start_time": "2022-01-29T21:56:57.192Z"
   },
   {
    "duration": -5212,
    "start_time": "2022-01-29T21:56:57.206Z"
   },
   {
    "duration": -5222,
    "start_time": "2022-01-29T21:56:57.218Z"
   },
   {
    "duration": -5192,
    "start_time": "2022-01-29T21:56:57.251Z"
   },
   {
    "duration": -5203,
    "start_time": "2022-01-29T21:56:57.264Z"
   },
   {
    "duration": -5214,
    "start_time": "2022-01-29T21:56:57.278Z"
   },
   {
    "duration": -5224,
    "start_time": "2022-01-29T21:56:57.290Z"
   },
   {
    "duration": -5233,
    "start_time": "2022-01-29T21:56:57.301Z"
   },
   {
    "duration": -5241,
    "start_time": "2022-01-29T21:56:57.311Z"
   },
   {
    "duration": -5249,
    "start_time": "2022-01-29T21:56:57.321Z"
   },
   {
    "duration": 12625,
    "start_time": "2022-01-29T22:06:34.939Z"
   },
   {
    "duration": 1366,
    "start_time": "2022-01-29T22:08:47.215Z"
   },
   {
    "duration": 5,
    "start_time": "2022-01-29T22:09:48.793Z"
   },
   {
    "duration": 175,
    "start_time": "2022-01-29T22:09:48.801Z"
   },
   {
    "duration": 18,
    "start_time": "2022-01-29T22:09:48.979Z"
   },
   {
    "duration": 1070,
    "start_time": "2022-01-29T22:09:49.000Z"
   },
   {
    "duration": 5680,
    "start_time": "2022-01-29T22:09:50.073Z"
   },
   {
    "duration": 317,
    "start_time": "2022-01-29T22:09:55.756Z"
   },
   {
    "duration": 11,
    "start_time": "2022-01-29T22:09:56.076Z"
   },
   {
    "duration": 12,
    "start_time": "2022-01-29T22:09:56.091Z"
   },
   {
    "duration": 9,
    "start_time": "2022-01-29T22:09:56.106Z"
   },
   {
    "duration": 44,
    "start_time": "2022-01-29T22:09:56.117Z"
   },
   {
    "duration": 46,
    "start_time": "2022-01-29T22:09:56.163Z"
   },
   {
    "duration": 13,
    "start_time": "2022-01-29T22:09:56.212Z"
   },
   {
    "duration": 58,
    "start_time": "2022-01-29T22:09:56.227Z"
   },
   {
    "duration": 93,
    "start_time": "2022-01-29T22:09:56.288Z"
   },
   {
    "duration": 27,
    "start_time": "2022-01-29T22:09:56.384Z"
   },
   {
    "duration": 6,
    "start_time": "2022-01-29T22:09:56.413Z"
   },
   {
    "duration": 42,
    "start_time": "2022-01-29T22:09:56.421Z"
   },
   {
    "duration": 45,
    "start_time": "2022-01-29T22:09:56.465Z"
   },
   {
    "duration": 392,
    "start_time": "2022-01-29T22:09:56.512Z"
   },
   {
    "duration": 12,
    "start_time": "2022-01-29T22:09:56.906Z"
   },
   {
    "duration": 20,
    "start_time": "2022-01-29T22:09:56.920Z"
   },
   {
    "duration": 123,
    "start_time": "2022-01-29T22:09:56.961Z"
   },
   {
    "duration": 216,
    "start_time": "2022-01-29T22:09:57.090Z"
   },
   {
    "duration": 13,
    "start_time": "2022-01-29T22:09:57.310Z"
   },
   {
    "duration": 34,
    "start_time": "2022-01-29T22:09:57.325Z"
   },
   {
    "duration": 72,
    "start_time": "2022-01-29T22:09:57.362Z"
   },
   {
    "duration": 38,
    "start_time": "2022-01-29T22:09:57.436Z"
   },
   {
    "duration": 27,
    "start_time": "2022-01-29T22:09:57.477Z"
   },
   {
    "duration": 14,
    "start_time": "2022-01-29T22:09:57.507Z"
   },
   {
    "duration": 64,
    "start_time": "2022-01-29T22:09:57.523Z"
   },
   {
    "duration": 38,
    "start_time": "2022-01-29T22:09:57.590Z"
   },
   {
    "duration": 155,
    "start_time": "2022-01-29T22:09:57.631Z"
   },
   {
    "duration": 11,
    "start_time": "2022-01-29T22:09:57.789Z"
   },
   {
    "duration": 164,
    "start_time": "2022-01-29T22:09:57.803Z"
   },
   {
    "duration": 45,
    "start_time": "2022-01-29T22:09:57.970Z"
   },
   {
    "duration": 12,
    "start_time": "2022-01-29T22:09:58.017Z"
   },
   {
    "duration": 3432,
    "start_time": "2022-01-29T22:09:58.059Z"
   },
   {
    "duration": 9,
    "start_time": "2022-01-29T22:10:01.493Z"
   },
   {
    "duration": 19467,
    "start_time": "2022-01-29T22:10:01.504Z"
   },
   {
    "duration": 110,
    "start_time": "2022-01-29T22:10:20.974Z"
   },
   {
    "duration": 79,
    "start_time": "2022-01-29T22:10:21.087Z"
   },
   {
    "duration": 21,
    "start_time": "2022-01-29T22:10:21.169Z"
   },
   {
    "duration": 91,
    "start_time": "2022-01-29T22:10:21.193Z"
   },
   {
    "duration": 11,
    "start_time": "2022-01-29T22:10:21.287Z"
   },
   {
    "duration": 61,
    "start_time": "2022-01-29T22:10:21.300Z"
   },
   {
    "duration": 5,
    "start_time": "2022-01-29T22:10:21.363Z"
   },
   {
    "duration": 9,
    "start_time": "2022-01-29T22:10:21.370Z"
   },
   {
    "duration": 17,
    "start_time": "2022-01-29T22:10:21.382Z"
   },
   {
    "duration": 69,
    "start_time": "2022-01-29T22:10:21.401Z"
   },
   {
    "duration": 26,
    "start_time": "2022-01-29T22:10:21.472Z"
   },
   {
    "duration": 73,
    "start_time": "2022-01-29T22:10:21.500Z"
   },
   {
    "duration": 21,
    "start_time": "2022-01-29T22:10:21.576Z"
   },
   {
    "duration": 67,
    "start_time": "2022-01-29T22:10:21.600Z"
   },
   {
    "duration": 18,
    "start_time": "2022-01-29T22:10:21.669Z"
   },
   {
    "duration": 99,
    "start_time": "2022-01-29T22:10:21.689Z"
   },
   {
    "duration": 71,
    "start_time": "2022-01-29T22:10:21.790Z"
   },
   {
    "duration": 30,
    "start_time": "2022-01-29T22:10:21.863Z"
   },
   {
    "duration": 11,
    "start_time": "2022-01-29T22:10:21.896Z"
   },
   {
    "duration": 13,
    "start_time": "2022-01-29T22:10:21.960Z"
   },
   {
    "duration": 103,
    "start_time": "2022-01-29T22:10:21.976Z"
   },
   {
    "duration": 204,
    "start_time": "2022-01-29T22:10:22.081Z"
   },
   {
    "duration": 609,
    "start_time": "2022-01-29T22:10:22.287Z"
   },
   {
    "duration": 63,
    "start_time": "2022-01-29T22:10:22.898Z"
   },
   {
    "duration": 449,
    "start_time": "2022-01-29T22:10:22.963Z"
   },
   {
    "duration": 53,
    "start_time": "2022-01-29T22:10:23.415Z"
   },
   {
    "duration": 106,
    "start_time": "2022-01-29T22:10:23.471Z"
   },
   {
    "duration": 39,
    "start_time": "2022-01-29T22:10:23.579Z"
   },
   {
    "duration": 39,
    "start_time": "2022-01-29T22:10:23.630Z"
   },
   {
    "duration": 20,
    "start_time": "2022-01-29T22:10:23.674Z"
   },
   {
    "duration": 23,
    "start_time": "2022-01-29T22:10:23.696Z"
   },
   {
    "duration": 95,
    "start_time": "2022-01-29T22:10:23.721Z"
   },
   {
    "duration": 16,
    "start_time": "2022-01-29T22:10:23.818Z"
   },
   {
    "duration": 29,
    "start_time": "2022-01-29T22:10:23.837Z"
   },
   {
    "duration": 47,
    "start_time": "2022-01-29T22:10:23.868Z"
   },
   {
    "duration": 105,
    "start_time": "2022-01-29T22:10:23.918Z"
   },
   {
    "duration": 60,
    "start_time": "2022-01-29T22:10:24.025Z"
   },
   {
    "duration": 40,
    "start_time": "2022-01-29T22:10:24.087Z"
   },
   {
    "duration": 36,
    "start_time": "2022-01-29T22:10:24.129Z"
   },
   {
    "duration": 31,
    "start_time": "2022-01-29T22:10:24.167Z"
   },
   {
    "duration": 17,
    "start_time": "2022-01-29T22:10:24.200Z"
   },
   {
    "duration": 64,
    "start_time": "2022-01-29T22:10:24.219Z"
   },
   {
    "duration": 19,
    "start_time": "2022-01-29T22:10:24.285Z"
   },
   {
    "duration": 18,
    "start_time": "2022-01-29T22:10:24.306Z"
   },
   {
    "duration": 55,
    "start_time": "2022-01-29T22:10:24.326Z"
   },
   {
    "duration": 15,
    "start_time": "2022-01-29T22:10:24.384Z"
   },
   {
    "duration": 10,
    "start_time": "2022-01-29T22:10:24.401Z"
   },
   {
    "duration": 61,
    "start_time": "2022-01-29T22:10:24.413Z"
   },
   {
    "duration": 24,
    "start_time": "2022-01-29T22:10:24.477Z"
   },
   {
    "duration": 427,
    "start_time": "2022-01-29T22:10:24.504Z"
   },
   {
    "duration": 48,
    "start_time": "2022-01-29T22:10:24.933Z"
   },
   {
    "duration": 25,
    "start_time": "2022-01-29T22:10:24.983Z"
   },
   {
    "duration": 619,
    "start_time": "2022-01-29T22:10:25.010Z"
   },
   {
    "duration": 27,
    "start_time": "2022-01-29T22:10:25.631Z"
   },
   {
    "duration": 11,
    "start_time": "2022-01-29T22:10:25.661Z"
   },
   {
    "duration": 26,
    "start_time": "2022-01-29T22:10:25.674Z"
   },
   {
    "duration": 17,
    "start_time": "2022-01-29T22:10:25.702Z"
   },
   {
    "duration": 423,
    "start_time": "2022-01-29T22:10:25.722Z"
   },
   {
    "duration": 33,
    "start_time": "2022-01-29T22:10:26.148Z"
   },
   {
    "duration": 22,
    "start_time": "2022-01-29T22:10:26.184Z"
   },
   {
    "duration": 430,
    "start_time": "2022-01-29T22:10:26.209Z"
   },
   {
    "duration": 24,
    "start_time": "2022-01-29T22:10:26.642Z"
   },
   {
    "duration": 10,
    "start_time": "2022-01-29T22:10:26.669Z"
   },
   {
    "duration": 17,
    "start_time": "2022-01-29T22:10:26.682Z"
   },
   {
    "duration": 60,
    "start_time": "2022-01-29T22:10:26.701Z"
   },
   {
    "duration": 446,
    "start_time": "2022-01-29T22:10:26.763Z"
   },
   {
    "duration": 8,
    "start_time": "2022-01-29T22:10:27.211Z"
   },
   {
    "duration": 8,
    "start_time": "2022-01-29T22:10:27.221Z"
   },
   {
    "duration": 32,
    "start_time": "2022-01-29T22:10:27.232Z"
   },
   {
    "duration": 322,
    "start_time": "2022-01-29T22:10:27.266Z"
   },
   {
    "duration": 636,
    "start_time": "2022-01-29T22:10:27.590Z"
   },
   {
    "duration": 981,
    "start_time": "2022-01-29T22:10:28.229Z"
   },
   {
    "duration": 12,
    "start_time": "2022-01-29T22:10:29.212Z"
   },
   {
    "duration": 341,
    "start_time": "2022-01-29T22:10:29.227Z"
   },
   {
    "duration": 343,
    "start_time": "2022-01-29T22:10:29.571Z"
   },
   {
    "duration": 10644,
    "start_time": "2022-01-29T22:10:29.917Z"
   },
   {
    "duration": -3843,
    "start_time": "2022-01-29T22:10:44.407Z"
   },
   {
    "duration": -3852,
    "start_time": "2022-01-29T22:10:44.418Z"
   },
   {
    "duration": -3862,
    "start_time": "2022-01-29T22:10:44.430Z"
   },
   {
    "duration": -3873,
    "start_time": "2022-01-29T22:10:44.442Z"
   },
   {
    "duration": -3881,
    "start_time": "2022-01-29T22:10:44.452Z"
   },
   {
    "duration": -3890,
    "start_time": "2022-01-29T22:10:44.462Z"
   },
   {
    "duration": -3897,
    "start_time": "2022-01-29T22:10:44.470Z"
   },
   {
    "duration": -3904,
    "start_time": "2022-01-29T22:10:44.479Z"
   },
   {
    "duration": -3911,
    "start_time": "2022-01-29T22:10:44.487Z"
   },
   {
    "duration": -3933,
    "start_time": "2022-01-29T22:10:44.511Z"
   },
   {
    "duration": -3941,
    "start_time": "2022-01-29T22:10:44.520Z"
   },
   {
    "duration": -3948,
    "start_time": "2022-01-29T22:10:44.529Z"
   },
   {
    "duration": -3956,
    "start_time": "2022-01-29T22:10:44.538Z"
   },
   {
    "duration": -3964,
    "start_time": "2022-01-29T22:10:44.547Z"
   },
   {
    "duration": -3971,
    "start_time": "2022-01-29T22:10:44.556Z"
   },
   {
    "duration": -3979,
    "start_time": "2022-01-29T22:10:44.565Z"
   },
   {
    "duration": -3987,
    "start_time": "2022-01-29T22:10:44.574Z"
   },
   {
    "duration": -3995,
    "start_time": "2022-01-29T22:10:44.583Z"
   },
   {
    "duration": -4001,
    "start_time": "2022-01-29T22:10:44.591Z"
   },
   {
    "duration": -4010,
    "start_time": "2022-01-29T22:10:44.601Z"
   },
   {
    "duration": -4032,
    "start_time": "2022-01-29T22:10:44.624Z"
   },
   {
    "duration": -4039,
    "start_time": "2022-01-29T22:10:44.633Z"
   },
   {
    "duration": -4047,
    "start_time": "2022-01-29T22:10:44.642Z"
   },
   {
    "duration": -4056,
    "start_time": "2022-01-29T22:10:44.652Z"
   },
   {
    "duration": -4062,
    "start_time": "2022-01-29T22:10:44.660Z"
   },
   {
    "duration": -4071,
    "start_time": "2022-01-29T22:10:44.670Z"
   },
   {
    "duration": -4079,
    "start_time": "2022-01-29T22:10:44.679Z"
   },
   {
    "duration": -4087,
    "start_time": "2022-01-29T22:10:44.689Z"
   },
   {
    "duration": -4037,
    "start_time": "2022-01-29T22:10:44.697Z"
   },
   {
    "duration": -4046,
    "start_time": "2022-01-29T22:10:44.707Z"
   },
   {
    "duration": -4052,
    "start_time": "2022-01-29T22:10:44.715Z"
   },
   {
    "duration": -4077,
    "start_time": "2022-01-29T22:10:44.741Z"
   },
   {
    "duration": -4085,
    "start_time": "2022-01-29T22:10:44.751Z"
   },
   {
    "duration": -4095,
    "start_time": "2022-01-29T22:10:44.763Z"
   },
   {
    "duration": -4104,
    "start_time": "2022-01-29T22:10:44.773Z"
   },
   {
    "duration": 517,
    "start_time": "2022-01-29T22:40:08.732Z"
   },
   {
    "duration": 20947,
    "start_time": "2022-01-29T22:40:40.875Z"
   },
   {
    "duration": 20342,
    "start_time": "2022-01-29T22:45:12.766Z"
   },
   {
    "duration": 580,
    "start_time": "2022-01-29T23:06:00.443Z"
   },
   {
    "duration": 600,
    "start_time": "2022-01-29T23:15:03.615Z"
   },
   {
    "duration": 818,
    "start_time": "2022-01-29T23:18:05.455Z"
   },
   {
    "duration": 453,
    "start_time": "2022-01-29T23:23:31.808Z"
   },
   {
    "duration": 386,
    "start_time": "2022-01-29T23:23:52.916Z"
   },
   {
    "duration": 368,
    "start_time": "2022-01-29T23:24:07.523Z"
   },
   {
    "duration": 360,
    "start_time": "2022-01-29T23:24:27.394Z"
   },
   {
    "duration": 546,
    "start_time": "2022-01-29T23:24:43.262Z"
   },
   {
    "duration": 232,
    "start_time": "2022-01-29T23:28:46.344Z"
   },
   {
    "duration": 223,
    "start_time": "2022-01-29T23:28:56.276Z"
   },
   {
    "duration": 19048,
    "start_time": "2022-01-29T23:29:35.859Z"
   },
   {
    "duration": 17,
    "start_time": "2022-01-30T00:00:08.857Z"
   },
   {
    "duration": 16,
    "start_time": "2022-01-30T00:00:20.313Z"
   },
   {
    "duration": 25,
    "start_time": "2022-01-30T00:00:29.251Z"
   },
   {
    "duration": 17,
    "start_time": "2022-01-30T00:00:37.182Z"
   },
   {
    "duration": 23,
    "start_time": "2022-01-30T00:01:46.415Z"
   },
   {
    "duration": 14,
    "start_time": "2022-01-30T00:01:58.889Z"
   },
   {
    "duration": 16,
    "start_time": "2022-01-30T00:05:35.308Z"
   },
   {
    "duration": 18,
    "start_time": "2022-01-30T00:06:18.637Z"
   },
   {
    "duration": 26,
    "start_time": "2022-01-30T00:07:28.753Z"
   },
   {
    "duration": 383,
    "start_time": "2022-01-30T00:07:59.899Z"
   },
   {
    "duration": 28,
    "start_time": "2022-01-30T00:08:05.515Z"
   },
   {
    "duration": 32,
    "start_time": "2022-01-30T00:08:32.788Z"
   },
   {
    "duration": 23,
    "start_time": "2022-01-30T00:08:43.443Z"
   },
   {
    "duration": 8,
    "start_time": "2022-01-30T00:09:38.626Z"
   },
   {
    "duration": 21,
    "start_time": "2022-01-30T00:10:30.193Z"
   },
   {
    "duration": 13,
    "start_time": "2022-01-30T00:19:14.444Z"
   },
   {
    "duration": 18,
    "start_time": "2022-01-30T00:19:38.063Z"
   },
   {
    "duration": 21,
    "start_time": "2022-01-30T00:21:43.539Z"
   },
   {
    "duration": 3522,
    "start_time": "2022-01-30T00:23:54.636Z"
   },
   {
    "duration": 6,
    "start_time": "2022-01-30T00:23:58.161Z"
   },
   {
    "duration": 148,
    "start_time": "2022-01-30T00:23:58.171Z"
   },
   {
    "duration": 15,
    "start_time": "2022-01-30T00:23:58.321Z"
   },
   {
    "duration": 357,
    "start_time": "2022-01-30T00:23:58.338Z"
   },
   {
    "duration": 2806,
    "start_time": "2022-01-30T00:23:58.698Z"
   },
   {
    "duration": 192,
    "start_time": "2022-01-30T00:24:01.506Z"
   },
   {
    "duration": 10,
    "start_time": "2022-01-30T00:24:01.701Z"
   },
   {
    "duration": 14,
    "start_time": "2022-01-30T00:24:01.714Z"
   },
   {
    "duration": 10,
    "start_time": "2022-01-30T00:24:01.730Z"
   },
   {
    "duration": 17,
    "start_time": "2022-01-30T00:24:01.743Z"
   },
   {
    "duration": 45,
    "start_time": "2022-01-30T00:24:01.763Z"
   },
   {
    "duration": 57,
    "start_time": "2022-01-30T00:24:01.810Z"
   },
   {
    "duration": 26,
    "start_time": "2022-01-30T00:24:01.870Z"
   },
   {
    "duration": 96,
    "start_time": "2022-01-30T00:24:01.898Z"
   },
   {
    "duration": 16,
    "start_time": "2022-01-30T00:24:01.997Z"
   },
   {
    "duration": 5,
    "start_time": "2022-01-30T00:24:02.016Z"
   },
   {
    "duration": 40,
    "start_time": "2022-01-30T00:24:02.023Z"
   },
   {
    "duration": 45,
    "start_time": "2022-01-30T00:24:02.065Z"
   },
   {
    "duration": 409,
    "start_time": "2022-01-30T00:24:02.113Z"
   },
   {
    "duration": 12,
    "start_time": "2022-01-30T00:24:02.524Z"
   },
   {
    "duration": 38,
    "start_time": "2022-01-30T00:24:02.539Z"
   },
   {
    "duration": 130,
    "start_time": "2022-01-30T00:24:02.584Z"
   },
   {
    "duration": 225,
    "start_time": "2022-01-30T00:24:02.717Z"
   },
   {
    "duration": 17,
    "start_time": "2022-01-30T00:24:02.944Z"
   },
   {
    "duration": 13,
    "start_time": "2022-01-30T00:24:02.963Z"
   },
   {
    "duration": 94,
    "start_time": "2022-01-30T00:24:02.979Z"
   },
   {
    "duration": 21,
    "start_time": "2022-01-30T00:24:03.076Z"
   },
   {
    "duration": 28,
    "start_time": "2022-01-30T00:24:03.099Z"
   },
   {
    "duration": 40,
    "start_time": "2022-01-30T00:24:03.129Z"
   },
   {
    "duration": 35,
    "start_time": "2022-01-30T00:24:03.171Z"
   },
   {
    "duration": 64,
    "start_time": "2022-01-30T00:24:03.209Z"
   },
   {
    "duration": 148,
    "start_time": "2022-01-30T00:24:03.276Z"
   },
   {
    "duration": 13,
    "start_time": "2022-01-30T00:24:03.426Z"
   },
   {
    "duration": 152,
    "start_time": "2022-01-30T00:24:03.441Z"
   },
   {
    "duration": 87,
    "start_time": "2022-01-30T00:24:03.596Z"
   },
   {
    "duration": 11,
    "start_time": "2022-01-30T00:24:03.685Z"
   },
   {
    "duration": 3427,
    "start_time": "2022-01-30T00:24:03.698Z"
   },
   {
    "duration": 9,
    "start_time": "2022-01-30T00:24:07.128Z"
   },
   {
    "duration": 827,
    "start_time": "2022-01-30T00:24:07.139Z"
   },
   {
    "duration": 21398,
    "start_time": "2022-01-30T00:24:07.968Z"
   },
   {
    "duration": 118,
    "start_time": "2022-01-30T00:24:29.370Z"
   },
   {
    "duration": 70,
    "start_time": "2022-01-30T00:24:29.491Z"
   },
   {
    "duration": 16,
    "start_time": "2022-01-30T00:24:29.563Z"
   },
   {
    "duration": 80,
    "start_time": "2022-01-30T00:24:29.581Z"
   },
   {
    "duration": 16,
    "start_time": "2022-01-30T00:24:29.663Z"
   },
   {
    "duration": 20,
    "start_time": "2022-01-30T00:24:29.681Z"
   },
   {
    "duration": 67,
    "start_time": "2022-01-30T00:24:29.703Z"
   },
   {
    "duration": 20,
    "start_time": "2022-01-30T00:24:29.772Z"
   },
   {
    "duration": 21,
    "start_time": "2022-01-30T00:25:26.618Z"
   },
   {
    "duration": 20,
    "start_time": "2022-01-30T00:25:40.599Z"
   },
   {
    "duration": 19,
    "start_time": "2022-01-30T00:27:43.261Z"
   },
   {
    "duration": 19,
    "start_time": "2022-01-30T00:28:10.700Z"
   },
   {
    "duration": 17,
    "start_time": "2022-01-30T00:28:16.079Z"
   },
   {
    "duration": 23,
    "start_time": "2022-01-30T00:28:31.746Z"
   },
   {
    "duration": 8,
    "start_time": "2022-01-30T00:28:35.083Z"
   },
   {
    "duration": 16,
    "start_time": "2022-01-30T00:31:58.456Z"
   },
   {
    "duration": 17,
    "start_time": "2022-01-30T00:32:44.353Z"
   },
   {
    "duration": 19,
    "start_time": "2022-01-30T00:33:42.799Z"
   },
   {
    "duration": 7,
    "start_time": "2022-01-30T00:34:21.508Z"
   },
   {
    "duration": 46,
    "start_time": "2022-01-30T00:39:36.460Z"
   },
   {
    "duration": 46,
    "start_time": "2022-01-30T00:39:55.945Z"
   },
   {
    "duration": 282,
    "start_time": "2022-01-30T00:44:30.055Z"
   },
   {
    "duration": 15,
    "start_time": "2022-01-30T00:44:37.952Z"
   },
   {
    "duration": 226,
    "start_time": "2022-01-30T00:44:45.910Z"
   },
   {
    "duration": 18,
    "start_time": "2022-01-30T00:44:52.959Z"
   },
   {
    "duration": 86,
    "start_time": "2022-01-30T00:45:12.880Z"
   },
   {
    "duration": 37,
    "start_time": "2022-01-30T00:45:18.465Z"
   },
   {
    "duration": 15,
    "start_time": "2022-01-30T00:46:32.985Z"
   },
   {
    "duration": 130,
    "start_time": "2022-01-30T00:46:56.272Z"
   },
   {
    "duration": 130,
    "start_time": "2022-01-30T00:47:53.377Z"
   },
   {
    "duration": 62,
    "start_time": "2022-01-30T00:49:57.713Z"
   },
   {
    "duration": 64,
    "start_time": "2022-01-30T00:50:02.401Z"
   },
   {
    "duration": 15,
    "start_time": "2022-01-30T00:50:09.733Z"
   },
   {
    "duration": 382,
    "start_time": "2022-01-30T01:30:08.526Z"
   },
   {
    "duration": 6613,
    "start_time": "2022-01-30T01:31:19.030Z"
   },
   {
    "duration": 371,
    "start_time": "2022-01-30T01:32:23.407Z"
   },
   {
    "duration": 135,
    "start_time": "2022-01-30T01:34:52.416Z"
   },
   {
    "duration": 122,
    "start_time": "2022-01-30T01:43:45.896Z"
   },
   {
    "duration": 12,
    "start_time": "2022-01-30T01:44:45.581Z"
   },
   {
    "duration": 33,
    "start_time": "2022-01-30T01:46:03.671Z"
   },
   {
    "duration": 33,
    "start_time": "2022-01-30T01:46:13.420Z"
   },
   {
    "duration": 13,
    "start_time": "2022-01-30T01:50:12.751Z"
   },
   {
    "duration": 15,
    "start_time": "2022-01-30T01:50:33.376Z"
   },
   {
    "duration": 6,
    "start_time": "2022-01-30T01:52:03.755Z"
   },
   {
    "duration": 134,
    "start_time": "2022-01-30T01:54:26.158Z"
   },
   {
    "duration": 38628,
    "start_time": "2022-02-05T15:54:23.692Z"
   },
   {
    "duration": 1598,
    "start_time": "2022-02-05T15:55:02.322Z"
   },
   {
    "duration": 126,
    "start_time": "2022-02-05T15:55:03.922Z"
   },
   {
    "duration": 11,
    "start_time": "2022-02-05T15:55:04.050Z"
   },
   {
    "duration": 296,
    "start_time": "2022-02-05T15:55:04.063Z"
   },
   {
    "duration": 4228,
    "start_time": "2022-02-05T15:55:04.361Z"
   },
   {
    "duration": 102,
    "start_time": "2022-02-05T15:55:08.591Z"
   },
   {
    "duration": 7,
    "start_time": "2022-02-05T15:55:08.696Z"
   },
   {
    "duration": 12,
    "start_time": "2022-02-05T15:55:08.705Z"
   },
   {
    "duration": 4,
    "start_time": "2022-02-05T15:55:08.719Z"
   },
   {
    "duration": 7,
    "start_time": "2022-02-05T15:55:08.725Z"
   },
   {
    "duration": 43,
    "start_time": "2022-02-05T15:55:08.734Z"
   },
   {
    "duration": 8,
    "start_time": "2022-02-05T15:55:08.779Z"
   },
   {
    "duration": 21,
    "start_time": "2022-02-05T15:55:08.788Z"
   },
   {
    "duration": 81,
    "start_time": "2022-02-05T15:55:08.811Z"
   },
   {
    "duration": 4,
    "start_time": "2022-02-05T15:55:08.893Z"
   },
   {
    "duration": 10,
    "start_time": "2022-02-05T15:55:08.898Z"
   },
   {
    "duration": 14,
    "start_time": "2022-02-05T15:55:08.909Z"
   },
   {
    "duration": 23,
    "start_time": "2022-02-05T15:55:08.924Z"
   },
   {
    "duration": 239,
    "start_time": "2022-02-05T15:55:08.958Z"
   },
   {
    "duration": 7,
    "start_time": "2022-02-05T15:55:09.199Z"
   },
   {
    "duration": 22,
    "start_time": "2022-02-05T15:55:09.208Z"
   },
   {
    "duration": 73,
    "start_time": "2022-02-05T15:55:09.234Z"
   },
   {
    "duration": 160,
    "start_time": "2022-02-05T15:55:09.310Z"
   },
   {
    "duration": 7,
    "start_time": "2022-02-05T15:55:09.472Z"
   },
   {
    "duration": 9,
    "start_time": "2022-02-05T15:55:09.481Z"
   },
   {
    "duration": 94,
    "start_time": "2022-02-05T15:55:09.492Z"
   },
   {
    "duration": 26,
    "start_time": "2022-02-05T15:55:09.588Z"
   },
   {
    "duration": 16,
    "start_time": "2022-02-05T15:55:09.616Z"
   },
   {
    "duration": 33,
    "start_time": "2022-02-05T15:55:09.634Z"
   },
   {
    "duration": 26,
    "start_time": "2022-02-05T15:55:09.669Z"
   },
   {
    "duration": 24,
    "start_time": "2022-02-05T15:55:09.696Z"
   },
   {
    "duration": 131,
    "start_time": "2022-02-05T15:55:09.722Z"
   },
   {
    "duration": 8,
    "start_time": "2022-02-05T15:55:09.858Z"
   },
   {
    "duration": 122,
    "start_time": "2022-02-05T15:55:09.868Z"
   },
   {
    "duration": 34,
    "start_time": "2022-02-05T15:55:09.992Z"
   },
   {
    "duration": 8,
    "start_time": "2022-02-05T15:55:10.027Z"
   },
   {
    "duration": 2203,
    "start_time": "2022-02-05T15:55:10.037Z"
   },
   {
    "duration": 17,
    "start_time": "2022-02-05T15:55:12.242Z"
   },
   {
    "duration": 216,
    "start_time": "2022-02-05T15:55:12.260Z"
   },
   {
    "duration": 11019,
    "start_time": "2022-02-05T15:55:12.477Z"
   },
   {
    "duration": 99,
    "start_time": "2022-02-05T15:55:23.500Z"
   },
   {
    "duration": 68,
    "start_time": "2022-02-05T15:55:23.600Z"
   },
   {
    "duration": 9,
    "start_time": "2022-02-05T15:55:23.670Z"
   },
   {
    "duration": 12,
    "start_time": "2022-02-05T15:55:23.682Z"
   },
   {
    "duration": 66,
    "start_time": "2022-02-05T15:55:23.696Z"
   },
   {
    "duration": 17,
    "start_time": "2022-02-05T15:55:23.764Z"
   },
   {
    "duration": 10,
    "start_time": "2022-02-05T15:55:23.782Z"
   },
   {
    "duration": 70,
    "start_time": "2022-02-05T15:55:23.794Z"
   },
   {
    "duration": 11,
    "start_time": "2022-02-05T15:55:23.865Z"
   },
   {
    "duration": 10,
    "start_time": "2022-02-05T15:55:23.877Z"
   },
   {
    "duration": 13,
    "start_time": "2022-02-05T15:55:23.888Z"
   },
   {
    "duration": 68,
    "start_time": "2022-02-05T15:55:23.902Z"
   },
   {
    "duration": 15,
    "start_time": "2022-02-05T15:55:23.972Z"
   },
   {
    "duration": 9,
    "start_time": "2022-02-05T15:55:23.989Z"
   },
   {
    "duration": 60,
    "start_time": "2022-02-05T15:55:23.999Z"
   },
   {
    "duration": 8,
    "start_time": "2022-02-05T15:55:24.061Z"
   },
   {
    "duration": 111,
    "start_time": "2022-02-05T15:55:24.071Z"
   },
   {
    "duration": 422,
    "start_time": "2022-02-05T15:55:24.183Z"
   },
   {
    "duration": 61,
    "start_time": "2022-02-05T15:55:24.606Z"
   },
   {
    "duration": 307,
    "start_time": "2022-02-05T15:55:24.669Z"
   },
   {
    "duration": 12,
    "start_time": "2022-02-05T15:55:24.978Z"
   },
   {
    "duration": 106,
    "start_time": "2022-02-05T15:55:24.992Z"
   },
   {
    "duration": 71,
    "start_time": "2022-02-05T15:55:25.100Z"
   },
   {
    "duration": 41,
    "start_time": "2022-02-05T15:55:25.173Z"
   },
   {
    "duration": 8,
    "start_time": "2022-02-05T15:55:25.218Z"
   },
   {
    "duration": 56,
    "start_time": "2022-02-05T15:55:25.227Z"
   },
   {
    "duration": 70,
    "start_time": "2022-02-05T15:55:25.291Z"
   },
   {
    "duration": 37,
    "start_time": "2022-02-05T15:55:25.365Z"
   },
   {
    "duration": 32,
    "start_time": "2022-02-05T15:55:25.404Z"
   },
   {
    "duration": 29,
    "start_time": "2022-02-05T15:55:25.438Z"
   },
   {
    "duration": 19,
    "start_time": "2022-02-05T15:55:25.469Z"
   },
   {
    "duration": 15,
    "start_time": "2022-02-05T15:55:25.490Z"
   },
   {
    "duration": 55,
    "start_time": "2022-02-05T15:55:25.507Z"
   },
   {
    "duration": 13,
    "start_time": "2022-02-05T15:55:25.564Z"
   },
   {
    "duration": 22,
    "start_time": "2022-02-05T15:55:25.579Z"
   },
   {
    "duration": 29,
    "start_time": "2022-02-05T15:55:25.603Z"
   },
   {
    "duration": 38,
    "start_time": "2022-02-05T15:55:25.634Z"
   },
   {
    "duration": 9,
    "start_time": "2022-02-05T15:55:25.674Z"
   },
   {
    "duration": 3,
    "start_time": "2022-02-05T15:55:25.685Z"
   },
   {
    "duration": 23,
    "start_time": "2022-02-05T15:55:25.690Z"
   },
   {
    "duration": 45,
    "start_time": "2022-02-05T15:55:25.715Z"
   },
   {
    "duration": 11,
    "start_time": "2022-02-05T15:55:25.762Z"
   },
   {
    "duration": 8,
    "start_time": "2022-02-05T15:55:25.775Z"
   },
   {
    "duration": 262,
    "start_time": "2022-02-05T15:55:25.784Z"
   },
   {
    "duration": 4,
    "start_time": "2022-02-05T15:55:26.049Z"
   },
   {
    "duration": 5,
    "start_time": "2022-02-05T15:55:26.059Z"
   },
   {
    "duration": 13,
    "start_time": "2022-02-05T15:55:26.066Z"
   },
   {
    "duration": 18,
    "start_time": "2022-02-05T15:55:26.081Z"
   },
   {
    "duration": 22,
    "start_time": "2022-02-05T15:55:26.101Z"
   },
   {
    "duration": 19,
    "start_time": "2022-02-05T15:55:26.159Z"
   },
   {
    "duration": 9,
    "start_time": "2022-02-05T15:55:26.180Z"
   },
   {
    "duration": 17,
    "start_time": "2022-02-05T15:55:26.190Z"
   },
   {
    "duration": 1050,
    "start_time": "2022-02-05T15:55:26.209Z"
   },
   {
    "duration": 550,
    "start_time": "2022-02-05T15:55:27.260Z"
   },
   {
    "duration": 274,
    "start_time": "2022-02-05T15:55:27.811Z"
   },
   {
    "duration": 238,
    "start_time": "2022-02-05T15:55:28.087Z"
   },
   {
    "duration": 10,
    "start_time": "2022-02-05T15:55:28.327Z"
   },
   {
    "duration": 25,
    "start_time": "2022-02-05T15:55:28.338Z"
   },
   {
    "duration": 20,
    "start_time": "2022-02-05T15:55:28.365Z"
   },
   {
    "duration": 11,
    "start_time": "2022-02-05T15:55:28.386Z"
   },
   {
    "duration": 11,
    "start_time": "2022-02-05T15:55:28.399Z"
   },
   {
    "duration": 5,
    "start_time": "2022-02-05T15:55:28.412Z"
   },
   {
    "duration": 5,
    "start_time": "2022-02-05T15:55:28.419Z"
   },
   {
    "duration": 38,
    "start_time": "2022-02-05T15:55:28.425Z"
   },
   {
    "duration": 7,
    "start_time": "2022-02-05T15:55:28.465Z"
   },
   {
    "duration": 6,
    "start_time": "2022-02-05T15:55:28.474Z"
   },
   {
    "duration": 458,
    "start_time": "2022-02-05T15:55:28.482Z"
   },
   {
    "duration": 26,
    "start_time": "2022-02-05T15:55:28.942Z"
   },
   {
    "duration": 14,
    "start_time": "2022-02-05T15:55:28.969Z"
   },
   {
    "duration": 11,
    "start_time": "2022-02-05T15:55:28.985Z"
   },
   {
    "duration": 4,
    "start_time": "2022-02-05T15:55:28.998Z"
   },
   {
    "duration": 5,
    "start_time": "2022-02-05T15:55:29.004Z"
   },
   {
    "duration": 53,
    "start_time": "2022-02-05T15:55:29.011Z"
   },
   {
    "duration": 9,
    "start_time": "2022-02-05T15:55:29.066Z"
   },
   {
    "duration": 13,
    "start_time": "2022-02-05T15:55:29.077Z"
   },
   {
    "duration": 256,
    "start_time": "2022-02-05T15:55:29.092Z"
   },
   {
    "duration": 13,
    "start_time": "2022-02-05T15:55:29.350Z"
   },
   {
    "duration": 7,
    "start_time": "2022-02-05T15:55:29.364Z"
   },
   {
    "duration": 12,
    "start_time": "2022-02-05T15:55:29.373Z"
   },
   {
    "duration": 14,
    "start_time": "2022-02-05T15:55:29.387Z"
   },
   {
    "duration": 239,
    "start_time": "2022-02-05T15:55:29.403Z"
   },
   {
    "duration": 4,
    "start_time": "2022-02-05T15:55:29.644Z"
   },
   {
    "duration": 11,
    "start_time": "2022-02-05T15:55:29.650Z"
   },
   {
    "duration": 7,
    "start_time": "2022-02-05T15:55:29.663Z"
   },
   {
    "duration": 198,
    "start_time": "2022-02-05T15:55:29.672Z"
   },
   {
    "duration": 231,
    "start_time": "2022-02-05T15:55:29.872Z"
   },
   {
    "duration": 627,
    "start_time": "2022-02-05T15:55:30.104Z"
   },
   {
    "duration": 6,
    "start_time": "2022-02-05T15:55:30.733Z"
   },
   {
    "duration": 212,
    "start_time": "2022-02-05T15:55:30.741Z"
   },
   {
    "duration": 221,
    "start_time": "2022-02-05T15:55:30.959Z"
   },
   {
    "duration": 53,
    "start_time": "2022-02-05T15:55:31.182Z"
   },
   {
    "duration": 24,
    "start_time": "2022-02-05T15:55:31.237Z"
   },
   {
    "duration": 21,
    "start_time": "2022-02-05T15:55:31.263Z"
   },
   {
    "duration": 33,
    "start_time": "2022-02-05T15:55:31.286Z"
   },
   {
    "duration": 9,
    "start_time": "2022-02-05T15:55:31.321Z"
   },
   {
    "duration": 20,
    "start_time": "2022-02-05T15:55:31.331Z"
   },
   {
    "duration": 7,
    "start_time": "2022-02-05T15:55:31.353Z"
   },
   {
    "duration": 721,
    "start_time": "2022-02-05T15:55:31.361Z"
   },
   {
    "duration": 41,
    "start_time": "2022-02-05T15:55:32.084Z"
   },
   {
    "duration": 11,
    "start_time": "2022-02-05T15:55:32.126Z"
   },
   {
    "duration": 31,
    "start_time": "2022-02-05T15:55:32.139Z"
   },
   {
    "duration": 13,
    "start_time": "2022-02-05T15:55:32.171Z"
   },
   {
    "duration": 9,
    "start_time": "2022-02-05T15:55:32.185Z"
   },
   {
    "duration": 17,
    "start_time": "2022-02-05T15:55:32.195Z"
   },
   {
    "duration": 5,
    "start_time": "2022-02-05T15:55:32.213Z"
   },
   {
    "duration": 764,
    "start_time": "2022-02-05T15:55:32.219Z"
   },
   {
    "duration": 3,
    "start_time": "2022-02-05T15:55:32.985Z"
   },
   {
    "duration": 8,
    "start_time": "2022-02-05T15:55:32.989Z"
   },
   {
    "duration": 6,
    "start_time": "2022-02-05T15:55:32.998Z"
   },
   {
    "duration": 5,
    "start_time": "2022-02-05T15:55:33.005Z"
   },
   {
    "duration": 5,
    "start_time": "2022-02-05T15:55:33.012Z"
   },
   {
    "duration": 6,
    "start_time": "2022-02-05T15:55:33.019Z"
   },
   {
    "duration": 7,
    "start_time": "2022-02-05T15:55:33.027Z"
   },
   {
    "duration": 354,
    "start_time": "2022-02-05T15:55:33.059Z"
   },
   {
    "duration": -1954,
    "start_time": "2022-02-05T15:55:35.369Z"
   },
   {
    "duration": -1962,
    "start_time": "2022-02-05T15:55:35.378Z"
   },
   {
    "duration": -1968,
    "start_time": "2022-02-05T15:55:35.385Z"
   },
   {
    "duration": -1975,
    "start_time": "2022-02-05T15:55:35.393Z"
   },
   {
    "duration": -1980,
    "start_time": "2022-02-05T15:55:35.399Z"
   },
   {
    "duration": -1987,
    "start_time": "2022-02-05T15:55:35.407Z"
   },
   {
    "duration": -1992,
    "start_time": "2022-02-05T15:55:35.413Z"
   },
   {
    "duration": -1998,
    "start_time": "2022-02-05T15:55:35.420Z"
   },
   {
    "duration": -2004,
    "start_time": "2022-02-05T15:55:35.427Z"
   },
   {
    "duration": -2009,
    "start_time": "2022-02-05T15:55:35.433Z"
   },
   {
    "duration": -2015,
    "start_time": "2022-02-05T15:55:35.440Z"
   },
   {
    "duration": -2020,
    "start_time": "2022-02-05T15:55:35.446Z"
   },
   {
    "duration": -2025,
    "start_time": "2022-02-05T15:55:35.452Z"
   },
   {
    "duration": -2031,
    "start_time": "2022-02-05T15:55:35.459Z"
   },
   {
    "duration": -2036,
    "start_time": "2022-02-05T15:55:35.465Z"
   },
   {
    "duration": -2041,
    "start_time": "2022-02-05T15:55:35.471Z"
   },
   {
    "duration": -2046,
    "start_time": "2022-02-05T15:55:35.477Z"
   },
   {
    "duration": -2051,
    "start_time": "2022-02-05T15:55:35.483Z"
   },
   {
    "duration": -2057,
    "start_time": "2022-02-05T15:55:35.490Z"
   },
   {
    "duration": -2063,
    "start_time": "2022-02-05T15:55:35.497Z"
   },
   {
    "duration": -2069,
    "start_time": "2022-02-05T15:55:35.504Z"
   },
   {
    "duration": -2076,
    "start_time": "2022-02-05T15:55:35.512Z"
   },
   {
    "duration": -2081,
    "start_time": "2022-02-05T15:55:35.518Z"
   },
   {
    "duration": -2086,
    "start_time": "2022-02-05T15:55:35.524Z"
   },
   {
    "duration": -2091,
    "start_time": "2022-02-05T15:55:35.530Z"
   },
   {
    "duration": -2096,
    "start_time": "2022-02-05T15:55:35.536Z"
   },
   {
    "duration": -2102,
    "start_time": "2022-02-05T15:55:35.543Z"
   },
   {
    "duration": -2107,
    "start_time": "2022-02-05T15:55:35.549Z"
   },
   {
    "duration": -2112,
    "start_time": "2022-02-05T15:55:35.555Z"
   },
   {
    "duration": -2117,
    "start_time": "2022-02-05T15:55:35.561Z"
   },
   {
    "duration": -2122,
    "start_time": "2022-02-05T15:55:35.567Z"
   },
   {
    "duration": -2127,
    "start_time": "2022-02-05T15:55:35.573Z"
   },
   {
    "duration": -2132,
    "start_time": "2022-02-05T15:55:35.579Z"
   },
   {
    "duration": -2137,
    "start_time": "2022-02-05T15:55:35.585Z"
   },
   {
    "duration": -2142,
    "start_time": "2022-02-05T15:55:35.591Z"
   },
   {
    "duration": -2148,
    "start_time": "2022-02-05T15:55:35.597Z"
   },
   {
    "duration": -2153,
    "start_time": "2022-02-05T15:55:35.603Z"
   },
   {
    "duration": -2152,
    "start_time": "2022-02-05T15:55:35.610Z"
   },
   {
    "duration": -2156,
    "start_time": "2022-02-05T15:55:35.615Z"
   },
   {
    "duration": -2162,
    "start_time": "2022-02-05T15:55:35.622Z"
   },
   {
    "duration": -2167,
    "start_time": "2022-02-05T15:55:35.628Z"
   },
   {
    "duration": -2172,
    "start_time": "2022-02-05T15:55:35.634Z"
   },
   {
    "duration": -2177,
    "start_time": "2022-02-05T15:55:35.640Z"
   },
   {
    "duration": -2184,
    "start_time": "2022-02-05T15:55:35.648Z"
   },
   {
    "duration": -2190,
    "start_time": "2022-02-05T15:55:35.655Z"
   },
   {
    "duration": -2196,
    "start_time": "2022-02-05T15:55:35.661Z"
   },
   {
    "duration": -2201,
    "start_time": "2022-02-05T15:55:35.667Z"
   },
   {
    "duration": -2206,
    "start_time": "2022-02-05T15:55:35.673Z"
   },
   {
    "duration": -2211,
    "start_time": "2022-02-05T15:55:35.679Z"
   },
   {
    "duration": -2216,
    "start_time": "2022-02-05T15:55:35.685Z"
   },
   {
    "duration": -2221,
    "start_time": "2022-02-05T15:55:35.691Z"
   },
   {
    "duration": -2227,
    "start_time": "2022-02-05T15:55:35.698Z"
   },
   {
    "duration": -2231,
    "start_time": "2022-02-05T15:55:35.703Z"
   },
   {
    "duration": -2237,
    "start_time": "2022-02-05T15:55:35.710Z"
   },
   {
    "duration": -2241,
    "start_time": "2022-02-05T15:55:35.715Z"
   },
   {
    "duration": -2248,
    "start_time": "2022-02-05T15:55:35.722Z"
   },
   {
    "duration": -2253,
    "start_time": "2022-02-05T15:55:35.728Z"
   },
   {
    "duration": -2259,
    "start_time": "2022-02-05T15:55:35.735Z"
   },
   {
    "duration": -2266,
    "start_time": "2022-02-05T15:55:35.743Z"
   },
   {
    "duration": -2272,
    "start_time": "2022-02-05T15:55:35.750Z"
   },
   {
    "duration": -2278,
    "start_time": "2022-02-05T15:55:35.757Z"
   },
   {
    "duration": -2284,
    "start_time": "2022-02-05T15:55:35.763Z"
   },
   {
    "duration": -2288,
    "start_time": "2022-02-05T15:55:35.768Z"
   },
   {
    "duration": -2294,
    "start_time": "2022-02-05T15:55:35.775Z"
   },
   {
    "duration": -2299,
    "start_time": "2022-02-05T15:55:35.781Z"
   },
   {
    "duration": 100243,
    "start_time": "2022-02-05T16:18:33.476Z"
   },
   {
    "duration": 2749,
    "start_time": "2022-02-05T16:23:03.262Z"
   },
   {
    "duration": 67172,
    "start_time": "2022-02-05T16:23:06.017Z"
   },
   {
    "duration": 1232,
    "start_time": "2022-02-05T16:24:13.191Z"
   },
   {
    "duration": 85,
    "start_time": "2022-02-05T16:24:14.424Z"
   },
   {
    "duration": 12,
    "start_time": "2022-02-05T16:24:14.510Z"
   },
   {
    "duration": 290,
    "start_time": "2022-02-05T16:24:14.523Z"
   },
   {
    "duration": 1938,
    "start_time": "2022-02-05T16:24:14.815Z"
   },
   {
    "duration": 100,
    "start_time": "2022-02-05T16:24:16.755Z"
   },
   {
    "duration": 8,
    "start_time": "2022-02-05T16:24:16.856Z"
   },
   {
    "duration": 15,
    "start_time": "2022-02-05T16:24:16.865Z"
   },
   {
    "duration": 15,
    "start_time": "2022-02-05T16:24:16.881Z"
   },
   {
    "duration": 6,
    "start_time": "2022-02-05T16:24:16.898Z"
   },
   {
    "duration": 24,
    "start_time": "2022-02-05T16:24:16.905Z"
   },
   {
    "duration": 8,
    "start_time": "2022-02-05T16:24:16.930Z"
   },
   {
    "duration": 21,
    "start_time": "2022-02-05T16:24:16.959Z"
   },
   {
    "duration": 60,
    "start_time": "2022-02-05T16:24:16.982Z"
   },
   {
    "duration": 15,
    "start_time": "2022-02-05T16:24:17.044Z"
   },
   {
    "duration": 6,
    "start_time": "2022-02-05T16:24:17.061Z"
   },
   {
    "duration": 7,
    "start_time": "2022-02-05T16:24:17.069Z"
   },
   {
    "duration": 20,
    "start_time": "2022-02-05T16:24:17.078Z"
   },
   {
    "duration": 239,
    "start_time": "2022-02-05T16:24:17.099Z"
   },
   {
    "duration": 8,
    "start_time": "2022-02-05T16:24:17.341Z"
   },
   {
    "duration": 17,
    "start_time": "2022-02-05T16:24:17.361Z"
   },
   {
    "duration": 56,
    "start_time": "2022-02-05T16:24:17.380Z"
   },
   {
    "duration": 152,
    "start_time": "2022-02-05T16:24:17.460Z"
   },
   {
    "duration": 8,
    "start_time": "2022-02-05T16:24:17.615Z"
   },
   {
    "duration": 8,
    "start_time": "2022-02-05T16:24:17.625Z"
   },
   {
    "duration": 92,
    "start_time": "2022-02-05T16:24:17.635Z"
   },
   {
    "duration": 39,
    "start_time": "2022-02-05T16:24:17.729Z"
   },
   {
    "duration": 17,
    "start_time": "2022-02-05T16:24:17.770Z"
   },
   {
    "duration": 10,
    "start_time": "2022-02-05T16:24:17.789Z"
   },
   {
    "duration": 33,
    "start_time": "2022-02-05T16:24:17.801Z"
   },
   {
    "duration": 47,
    "start_time": "2022-02-05T16:24:17.836Z"
   },
   {
    "duration": 131,
    "start_time": "2022-02-05T16:24:17.885Z"
   },
   {
    "duration": 8,
    "start_time": "2022-02-05T16:24:18.018Z"
   },
   {
    "duration": 133,
    "start_time": "2022-02-05T16:24:18.028Z"
   },
   {
    "duration": 34,
    "start_time": "2022-02-05T16:24:18.163Z"
   },
   {
    "duration": 8,
    "start_time": "2022-02-05T16:24:18.199Z"
   },
   {
    "duration": 2182,
    "start_time": "2022-02-05T16:24:18.209Z"
   },
   {
    "duration": 6,
    "start_time": "2022-02-05T16:24:20.393Z"
   },
   {
    "duration": 230,
    "start_time": "2022-02-05T16:24:20.400Z"
   },
   {
    "duration": 11031,
    "start_time": "2022-02-05T16:24:20.631Z"
   },
   {
    "duration": 105,
    "start_time": "2022-02-05T16:24:31.664Z"
   },
   {
    "duration": 10,
    "start_time": "2022-02-05T16:24:31.771Z"
   },
   {
    "duration": 9,
    "start_time": "2022-02-05T16:24:31.782Z"
   },
   {
    "duration": 67,
    "start_time": "2022-02-05T16:24:31.793Z"
   },
   {
    "duration": 9,
    "start_time": "2022-02-05T16:24:31.862Z"
   },
   {
    "duration": 18,
    "start_time": "2022-02-05T16:24:31.873Z"
   },
   {
    "duration": 67,
    "start_time": "2022-02-05T16:24:31.892Z"
   },
   {
    "duration": 17,
    "start_time": "2022-02-05T16:24:31.960Z"
   },
   {
    "duration": 13,
    "start_time": "2022-02-05T16:24:31.978Z"
   },
   {
    "duration": 13,
    "start_time": "2022-02-05T16:24:31.993Z"
   },
   {
    "duration": 19,
    "start_time": "2022-02-05T16:24:32.060Z"
   },
   {
    "duration": 15,
    "start_time": "2022-02-05T16:24:32.081Z"
   },
   {
    "duration": 66,
    "start_time": "2022-02-05T16:24:32.098Z"
   },
   {
    "duration": 9,
    "start_time": "2022-02-05T16:24:32.165Z"
   },
   {
    "duration": 20,
    "start_time": "2022-02-05T16:24:32.176Z"
   },
   {
    "duration": 63,
    "start_time": "2022-02-05T16:24:32.197Z"
   },
   {
    "duration": 121,
    "start_time": "2022-02-05T16:24:32.262Z"
   },
   {
    "duration": 478,
    "start_time": "2022-02-05T16:24:32.385Z"
   },
   {
    "duration": 10,
    "start_time": "2022-02-05T16:24:32.865Z"
   },
   {
    "duration": 288,
    "start_time": "2022-02-05T16:24:32.877Z"
   },
   {
    "duration": 11,
    "start_time": "2022-02-05T16:24:33.166Z"
   },
   {
    "duration": 55,
    "start_time": "2022-02-05T16:24:33.179Z"
   },
   {
    "duration": 51,
    "start_time": "2022-02-05T16:24:33.236Z"
   },
   {
    "duration": 42,
    "start_time": "2022-02-05T16:24:33.289Z"
   },
   {
    "duration": 26,
    "start_time": "2022-02-05T16:24:33.339Z"
   },
   {
    "duration": 32,
    "start_time": "2022-02-05T16:24:33.369Z"
   },
   {
    "duration": 74,
    "start_time": "2022-02-05T16:24:33.403Z"
   },
   {
    "duration": 38,
    "start_time": "2022-02-05T16:24:33.479Z"
   },
   {
    "duration": 61,
    "start_time": "2022-02-05T16:24:33.519Z"
   },
   {
    "duration": 14,
    "start_time": "2022-02-05T16:24:33.582Z"
   },
   {
    "duration": 19,
    "start_time": "2022-02-05T16:24:33.597Z"
   },
   {
    "duration": 14,
    "start_time": "2022-02-05T16:24:33.618Z"
   },
   {
    "duration": 55,
    "start_time": "2022-02-05T16:24:33.633Z"
   },
   {
    "duration": 13,
    "start_time": "2022-02-05T16:24:33.689Z"
   },
   {
    "duration": 16,
    "start_time": "2022-02-05T16:24:33.703Z"
   },
   {
    "duration": 46,
    "start_time": "2022-02-05T16:24:33.720Z"
   },
   {
    "duration": 20,
    "start_time": "2022-02-05T16:24:33.768Z"
   },
   {
    "duration": 8,
    "start_time": "2022-02-05T16:24:33.789Z"
   },
   {
    "duration": 3,
    "start_time": "2022-02-05T16:24:33.798Z"
   },
   {
    "duration": 22,
    "start_time": "2022-02-05T16:24:33.803Z"
   },
   {
    "duration": 41,
    "start_time": "2022-02-05T16:24:33.826Z"
   },
   {
    "duration": 9,
    "start_time": "2022-02-05T16:24:33.869Z"
   },
   {
    "duration": 4,
    "start_time": "2022-02-05T16:24:33.880Z"
   },
   {
    "duration": 90,
    "start_time": "2022-02-05T16:24:33.886Z"
   },
   {
    "duration": 4,
    "start_time": "2022-02-05T16:24:33.977Z"
   },
   {
    "duration": 8,
    "start_time": "2022-02-05T16:24:33.982Z"
   },
   {
    "duration": 11,
    "start_time": "2022-02-05T16:24:33.991Z"
   },
   {
    "duration": 17,
    "start_time": "2022-02-05T16:24:34.004Z"
   },
   {
    "duration": 44,
    "start_time": "2022-02-05T16:24:34.022Z"
   },
   {
    "duration": 16,
    "start_time": "2022-02-05T16:24:34.068Z"
   },
   {
    "duration": 10,
    "start_time": "2022-02-05T16:24:34.085Z"
   },
   {
    "duration": 5,
    "start_time": "2022-02-05T16:24:34.097Z"
   },
   {
    "duration": 6,
    "start_time": "2022-02-05T16:24:34.103Z"
   },
   {
    "duration": 10,
    "start_time": "2022-02-05T16:24:34.110Z"
   },
   {
    "duration": 4,
    "start_time": "2022-02-05T16:24:34.121Z"
   },
   {
    "duration": 66,
    "start_time": "2022-02-05T16:24:34.159Z"
   },
   {
    "duration": 6,
    "start_time": "2022-02-05T16:24:34.227Z"
   },
   {
    "duration": 26,
    "start_time": "2022-02-05T16:24:34.235Z"
   },
   {
    "duration": 17,
    "start_time": "2022-02-05T16:24:34.263Z"
   },
   {
    "duration": 10,
    "start_time": "2022-02-05T16:24:34.282Z"
   },
   {
    "duration": 10,
    "start_time": "2022-02-05T16:24:34.293Z"
   },
   {
    "duration": 3,
    "start_time": "2022-02-05T16:24:34.305Z"
   },
   {
    "duration": 6,
    "start_time": "2022-02-05T16:24:34.309Z"
   },
   {
    "duration": 44,
    "start_time": "2022-02-05T16:24:34.316Z"
   },
   {
    "duration": 7,
    "start_time": "2022-02-05T16:24:34.362Z"
   },
   {
    "duration": 9,
    "start_time": "2022-02-05T16:24:34.370Z"
   },
   {
    "duration": 63,
    "start_time": "2022-02-05T16:24:34.381Z"
   },
   {
    "duration": 26,
    "start_time": "2022-02-05T16:24:34.446Z"
   },
   {
    "duration": 13,
    "start_time": "2022-02-05T16:24:34.473Z"
   },
   {
    "duration": 10,
    "start_time": "2022-02-05T16:24:34.487Z"
   },
   {
    "duration": 4,
    "start_time": "2022-02-05T16:24:34.499Z"
   },
   {
    "duration": 10,
    "start_time": "2022-02-05T16:24:34.504Z"
   },
   {
    "duration": 16,
    "start_time": "2022-02-05T16:24:34.515Z"
   },
   {
    "duration": 33,
    "start_time": "2022-02-05T16:24:34.532Z"
   },
   {
    "duration": 17,
    "start_time": "2022-02-05T16:24:34.567Z"
   },
   {
    "duration": 178,
    "start_time": "2022-02-05T16:24:34.586Z"
   },
   {
    "duration": 6,
    "start_time": "2022-02-05T16:24:34.766Z"
   },
   {
    "duration": 6,
    "start_time": "2022-02-05T16:24:34.774Z"
   },
   {
    "duration": 13,
    "start_time": "2022-02-05T16:24:34.781Z"
   },
   {
    "duration": 15,
    "start_time": "2022-02-05T16:24:34.795Z"
   },
   {
    "duration": 253,
    "start_time": "2022-02-05T16:24:34.811Z"
   },
   {
    "duration": 6,
    "start_time": "2022-02-05T16:24:35.066Z"
   },
   {
    "duration": 10,
    "start_time": "2022-02-05T16:24:35.074Z"
   },
   {
    "duration": 9,
    "start_time": "2022-02-05T16:24:35.086Z"
   },
   {
    "duration": 206,
    "start_time": "2022-02-05T16:24:35.096Z"
   },
   {
    "duration": 211,
    "start_time": "2022-02-05T16:24:35.304Z"
   },
   {
    "duration": 616,
    "start_time": "2022-02-05T16:24:35.517Z"
   },
   {
    "duration": 6,
    "start_time": "2022-02-05T16:24:36.134Z"
   },
   {
    "duration": 206,
    "start_time": "2022-02-05T16:24:36.142Z"
   },
   {
    "duration": 217,
    "start_time": "2022-02-05T16:24:36.350Z"
   },
   {
    "duration": 51,
    "start_time": "2022-02-05T16:24:36.569Z"
   },
   {
    "duration": 12,
    "start_time": "2022-02-05T16:24:36.622Z"
   },
   {
    "duration": 35,
    "start_time": "2022-02-05T16:24:36.635Z"
   },
   {
    "duration": 16,
    "start_time": "2022-02-05T16:24:36.672Z"
   },
   {
    "duration": 19,
    "start_time": "2022-02-05T16:24:36.689Z"
   },
   {
    "duration": 19,
    "start_time": "2022-02-05T16:24:36.710Z"
   },
   {
    "duration": 7,
    "start_time": "2022-02-05T16:24:36.731Z"
   },
   {
    "duration": 732,
    "start_time": "2022-02-05T16:24:36.740Z"
   },
   {
    "duration": 41,
    "start_time": "2022-02-05T16:24:37.474Z"
   },
   {
    "duration": 11,
    "start_time": "2022-02-05T16:24:37.517Z"
   },
   {
    "duration": 35,
    "start_time": "2022-02-05T16:24:37.530Z"
   },
   {
    "duration": 10,
    "start_time": "2022-02-05T16:24:37.567Z"
   },
   {
    "duration": 9,
    "start_time": "2022-02-05T16:24:37.579Z"
   },
   {
    "duration": 20,
    "start_time": "2022-02-05T16:24:37.589Z"
   },
   {
    "duration": 10,
    "start_time": "2022-02-05T16:24:37.611Z"
   },
   {
    "duration": 726,
    "start_time": "2022-02-05T16:24:37.622Z"
   },
   {
    "duration": 9,
    "start_time": "2022-02-05T16:24:38.350Z"
   },
   {
    "duration": 7,
    "start_time": "2022-02-05T16:24:38.361Z"
   },
   {
    "duration": 5,
    "start_time": "2022-02-05T16:24:38.370Z"
   },
   {
    "duration": 5,
    "start_time": "2022-02-05T16:24:38.376Z"
   },
   {
    "duration": 9,
    "start_time": "2022-02-05T16:24:38.382Z"
   },
   {
    "duration": 8,
    "start_time": "2022-02-05T16:24:38.392Z"
   },
   {
    "duration": 5,
    "start_time": "2022-02-05T16:24:38.401Z"
   },
   {
    "duration": 81,
    "start_time": "2022-02-05T16:24:38.407Z"
   },
   {
    "duration": 76,
    "start_time": "2022-02-05T16:24:38.489Z"
   },
   {
    "duration": 11,
    "start_time": "2022-02-05T16:24:38.567Z"
   },
   {
    "duration": 14,
    "start_time": "2022-02-05T16:24:38.580Z"
   },
   {
    "duration": 14,
    "start_time": "2022-02-05T16:24:38.595Z"
   },
   {
    "duration": 7,
    "start_time": "2022-02-05T16:24:38.611Z"
   },
   {
    "duration": 43,
    "start_time": "2022-02-05T16:24:38.620Z"
   },
   {
    "duration": 6,
    "start_time": "2022-02-05T16:24:38.665Z"
   },
   {
    "duration": 724,
    "start_time": "2022-02-05T16:24:38.673Z"
   },
   {
    "duration": 79,
    "start_time": "2022-02-05T16:24:39.399Z"
   },
   {
    "duration": 12,
    "start_time": "2022-02-05T16:24:39.481Z"
   },
   {
    "duration": 22,
    "start_time": "2022-02-05T16:24:39.495Z"
   },
   {
    "duration": 15,
    "start_time": "2022-02-05T16:24:39.519Z"
   },
   {
    "duration": 27,
    "start_time": "2022-02-05T16:24:39.536Z"
   },
   {
    "duration": 14,
    "start_time": "2022-02-05T16:24:39.565Z"
   },
   {
    "duration": 6,
    "start_time": "2022-02-05T16:24:39.580Z"
   },
   {
    "duration": 831,
    "start_time": "2022-02-05T16:24:39.587Z"
   },
   {
    "duration": 3,
    "start_time": "2022-02-05T16:24:40.420Z"
   },
   {
    "duration": 9,
    "start_time": "2022-02-05T16:24:40.424Z"
   },
   {
    "duration": 5,
    "start_time": "2022-02-05T16:24:40.435Z"
   },
   {
    "duration": 6,
    "start_time": "2022-02-05T16:24:40.459Z"
   },
   {
    "duration": 6,
    "start_time": "2022-02-05T16:24:40.466Z"
   },
   {
    "duration": 57,
    "start_time": "2022-02-05T16:24:40.473Z"
   },
   {
    "duration": 37,
    "start_time": "2022-02-05T16:24:40.532Z"
   },
   {
    "duration": 5,
    "start_time": "2022-02-05T16:24:40.570Z"
   },
   {
    "duration": 5,
    "start_time": "2022-02-05T16:24:40.576Z"
   },
   {
    "duration": 14,
    "start_time": "2022-02-05T16:24:40.583Z"
   },
   {
    "duration": 11,
    "start_time": "2022-02-05T16:24:40.599Z"
   },
   {
    "duration": 6,
    "start_time": "2022-02-05T16:24:40.611Z"
   },
   {
    "duration": 12,
    "start_time": "2022-02-05T16:24:40.619Z"
   },
   {
    "duration": 32,
    "start_time": "2022-02-05T16:24:40.633Z"
   },
   {
    "duration": 6,
    "start_time": "2022-02-05T16:24:40.666Z"
   },
   {
    "duration": 19,
    "start_time": "2022-02-05T16:24:40.673Z"
   },
   {
    "duration": 10,
    "start_time": "2022-02-05T16:24:40.694Z"
   },
   {
    "duration": 6,
    "start_time": "2022-02-05T16:24:40.706Z"
   },
   {
    "duration": 7,
    "start_time": "2022-02-05T16:24:40.714Z"
   },
   {
    "duration": 5,
    "start_time": "2022-02-05T16:24:40.723Z"
   },
   {
    "duration": 30,
    "start_time": "2022-02-05T16:24:40.730Z"
   },
   {
    "duration": 2,
    "start_time": "2022-02-05T16:24:40.762Z"
   },
   {
    "duration": 12,
    "start_time": "2022-02-05T16:24:40.766Z"
   },
   {
    "duration": 9,
    "start_time": "2022-02-05T16:24:40.780Z"
   },
   {
    "duration": 27,
    "start_time": "2022-02-05T16:24:40.790Z"
   },
   {
    "duration": 7,
    "start_time": "2022-02-05T16:24:40.819Z"
   },
   {
    "duration": 32,
    "start_time": "2022-02-05T16:24:40.828Z"
   },
   {
    "duration": 9,
    "start_time": "2022-02-05T16:24:40.861Z"
   },
   {
    "duration": 17,
    "start_time": "2022-02-05T16:24:40.872Z"
   },
   {
    "duration": 5,
    "start_time": "2022-02-05T16:24:40.899Z"
   },
   {
    "duration": 6,
    "start_time": "2022-02-05T16:24:40.905Z"
   },
   {
    "duration": 12,
    "start_time": "2022-02-05T16:24:40.913Z"
   },
   {
    "duration": 32,
    "start_time": "2022-02-05T16:24:40.927Z"
   },
   {
    "duration": 4,
    "start_time": "2022-02-05T16:24:40.961Z"
   },
   {
    "duration": 7,
    "start_time": "2022-02-05T16:24:40.966Z"
   },
   {
    "duration": 17,
    "start_time": "2022-02-05T16:24:40.975Z"
   },
   {
    "duration": 9,
    "start_time": "2022-02-05T16:24:40.993Z"
   },
   {
    "duration": 7,
    "start_time": "2022-02-05T16:24:41.003Z"
   },
   {
    "duration": 12,
    "start_time": "2022-02-05T16:24:41.012Z"
   },
   {
    "duration": 34,
    "start_time": "2022-02-05T16:24:41.025Z"
   },
   {
    "duration": 5,
    "start_time": "2022-02-05T16:24:41.061Z"
   },
   {
    "duration": 11,
    "start_time": "2022-02-05T16:24:41.068Z"
   },
   {
    "duration": 6,
    "start_time": "2022-02-05T16:24:41.080Z"
   },
   {
    "duration": 12,
    "start_time": "2022-02-05T16:24:41.087Z"
   },
   {
    "duration": 4,
    "start_time": "2022-02-05T16:24:41.101Z"
   },
   {
    "duration": 12,
    "start_time": "2022-02-05T16:24:41.107Z"
   },
   {
    "duration": 9,
    "start_time": "2022-02-05T16:24:41.121Z"
   },
   {
    "duration": 31,
    "start_time": "2022-02-05T16:24:41.132Z"
   },
   {
    "duration": 14,
    "start_time": "2022-02-05T16:24:41.165Z"
   },
   {
    "duration": 11,
    "start_time": "2022-02-05T16:40:48.260Z"
   },
   {
    "duration": 5,
    "start_time": "2022-02-05T16:40:59.172Z"
   },
   {
    "duration": 9,
    "start_time": "2022-02-05T16:56:31.279Z"
   },
   {
    "duration": 11,
    "start_time": "2022-02-05T16:56:48.594Z"
   },
   {
    "duration": 21,
    "start_time": "2022-02-05T16:56:48.607Z"
   },
   {
    "duration": 7,
    "start_time": "2022-02-05T16:56:58.533Z"
   },
   {
    "duration": 5,
    "start_time": "2022-02-05T16:57:19.124Z"
   },
   {
    "duration": 9,
    "start_time": "2022-02-05T16:57:41.104Z"
   },
   {
    "duration": 12,
    "start_time": "2022-02-05T16:58:14.607Z"
   },
   {
    "duration": 21,
    "start_time": "2022-02-05T16:58:20.750Z"
   },
   {
    "duration": 414,
    "start_time": "2022-02-05T16:59:59.906Z"
   },
   {
    "duration": 24,
    "start_time": "2022-02-05T17:00:06.873Z"
   },
   {
    "duration": 21,
    "start_time": "2022-02-05T17:00:28.523Z"
   },
   {
    "duration": 27,
    "start_time": "2022-02-05T17:00:55.021Z"
   },
   {
    "duration": 105,
    "start_time": "2022-02-05T17:01:15.846Z"
   },
   {
    "duration": 31,
    "start_time": "2022-02-05T17:01:19.140Z"
   },
   {
    "duration": 32,
    "start_time": "2022-02-05T17:01:27.228Z"
   }
  ],
  "kernelspec": {
   "display_name": "Python 3",
   "language": "python",
   "name": "python3"
  },
  "language_info": {
   "codemirror_mode": {
    "name": "ipython",
    "version": 3
   },
   "file_extension": ".py",
   "mimetype": "text/x-python",
   "name": "python",
   "nbconvert_exporter": "python",
   "pygments_lexer": "ipython3",
   "version": "3.8.8"
  },
  "toc": {
   "base_numbering": 1,
   "nav_menu": {},
   "number_sections": true,
   "sideBar": true,
   "skip_h1_title": false,
   "title_cell": "Table of Contents",
   "title_sidebar": "Contents",
   "toc_cell": true,
   "toc_position": {},
   "toc_section_display": true,
   "toc_window_display": true
  }
 },
 "nbformat": 4,
 "nbformat_minor": 5
}
